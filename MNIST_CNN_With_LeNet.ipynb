{
 "cells": [
  {
   "cell_type": "markdown",
   "metadata": {
    "colab_type": "text",
    "id": "4zSzFxNadQuD"
   },
   "source": [
    "#MNIST LeNet-5 CNN With Keras"
   ]
  },
  {
   "cell_type": "markdown",
   "metadata": {
    "colab_type": "text",
    "id": "QO_XjeB3dwlR"
   },
   "source": [
    "## Load Libraries and Mount Google Drive Data"
   ]
  },
  {
   "cell_type": "code",
   "execution_count": 0,
   "metadata": {
    "colab": {
     "base_uri": "https://localhost:8080/",
     "height": 185
    },
    "colab_type": "code",
    "id": "bYoUVcjzBR5W",
    "outputId": "fd399408-0f3e-4ab3-a4ff-240e79d0ef5d"
   },
   "outputs": [
    {
     "name": "stderr",
     "output_type": "stream",
     "text": [
      "Using TensorFlow backend.\n"
     ]
    },
    {
     "data": {
      "text/html": [
       "<p style=\"color: red;\">\n",
       "The default version of TensorFlow in Colab will soon switch to TensorFlow 2.x.<br>\n",
       "We recommend you <a href=\"https://www.tensorflow.org/guide/migrate\" target=\"_blank\">upgrade</a> now \n",
       "or ensure your notebook will continue to use TensorFlow 1.x via the <code>%tensorflow_version 1.x</code> magic:\n",
       "<a href=\"https://colab.research.google.com/notebooks/tensorflow_version.ipynb\" target=\"_blank\">more info</a>.</p>\n"
      ],
      "text/plain": [
       "<IPython.core.display.HTML object>"
      ]
     },
     "metadata": {
      "tags": []
     },
     "output_type": "display_data"
    },
    {
     "name": "stdout",
     "output_type": "stream",
     "text": [
      "Go to this URL in a browser: https://accounts.google.com/o/oauth2/auth?client_id=947318989803-6bn6qk8qdgf4n4g3pfee6491hc0brc4i.apps.googleusercontent.com&redirect_uri=urn%3aietf%3awg%3aoauth%3a2.0%3aoob&response_type=code&scope=email%20https%3a%2f%2fwww.googleapis.com%2fauth%2fdocs.test%20https%3a%2f%2fwww.googleapis.com%2fauth%2fdrive%20https%3a%2f%2fwww.googleapis.com%2fauth%2fdrive.photos.readonly%20https%3a%2f%2fwww.googleapis.com%2fauth%2fpeopleapi.readonly\n",
      "\n",
      "Enter your authorization code:\n",
      "··········\n",
      "Mounted at /content/gdrive\n"
     ]
    }
   ],
   "source": [
    "# This Python 3 environment comes with many helpful analytics libraries installed\n",
    "# It is defined by the kaggle/python docker image: https://github.com/kaggle/docker-python\n",
    "# For example, here's several helpful packages to load in \n",
    "import numpy as np # linear algebra\n",
    "import pandas as pd # data processing, CSV file I/O (e.g. pd.read_csv)\n",
    "import keras \n",
    "from keras.models import Sequential\n",
    "from keras.layers import Conv2D, Dense, MaxPool2D, Dropout, Flatten\n",
    "from keras.optimizers import Adam\n",
    "from keras.preprocessing.image import ImageDataGenerator\n",
    "from keras.callbacks import ReduceLROnPlateau\n",
    "from sklearn.model_selection import train_test_split\n",
    "import matplotlib.pyplot as plt\n",
    "import seaborn as sns\n",
    "\n",
    "# Input data files are available in the \"../input/\" directory.\n",
    "# For example, running this (by clicking run or pressing Shift+Enter) will list the files in the input directory\n",
    "\n",
    "import os\n",
    "#print(os.listdir(\"../input\"))\n",
    "\n",
    "# Any results you write to the current directory are saved as output.\n",
    "\n",
    "from google.colab import drive\n",
    "drive.mount('/content/gdrive')\n"
   ]
  },
  {
   "cell_type": "markdown",
   "metadata": {
    "colab_type": "text",
    "id": "Ce99XItid74v"
   },
   "source": [
    "## Load Data"
   ]
  },
  {
   "cell_type": "code",
   "execution_count": 0,
   "metadata": {
    "colab": {},
    "colab_type": "code",
    "id": "TpE5tCXeBUvG"
   },
   "outputs": [],
   "source": [
    "df_train = pd.read_csv('/content/gdrive/My Drive/Colab Notebooks/Tugas 2 Deep Learning/Dataset/train.csv')\n",
    "X_train = df_train.iloc[:, 1:]\n",
    "Y_train = df_train.iloc[:, 0]"
   ]
  },
  {
   "cell_type": "code",
   "execution_count": 0,
   "metadata": {
    "colab": {
     "base_uri": "https://localhost:8080/",
     "height": 253
    },
    "colab_type": "code",
    "id": "XJUaLsi8BWKo",
    "outputId": "bf8ebcb0-8cd6-4905-aff3-b0d28cc997ac"
   },
   "outputs": [
    {
     "data": {
      "text/html": [
       "<div>\n",
       "<style scoped>\n",
       "    .dataframe tbody tr th:only-of-type {\n",
       "        vertical-align: middle;\n",
       "    }\n",
       "\n",
       "    .dataframe tbody tr th {\n",
       "        vertical-align: top;\n",
       "    }\n",
       "\n",
       "    .dataframe thead th {\n",
       "        text-align: right;\n",
       "    }\n",
       "</style>\n",
       "<table border=\"1\" class=\"dataframe\">\n",
       "  <thead>\n",
       "    <tr style=\"text-align: right;\">\n",
       "      <th></th>\n",
       "      <th>pixel0</th>\n",
       "      <th>pixel1</th>\n",
       "      <th>pixel2</th>\n",
       "      <th>pixel3</th>\n",
       "      <th>pixel4</th>\n",
       "      <th>pixel5</th>\n",
       "      <th>pixel6</th>\n",
       "      <th>pixel7</th>\n",
       "      <th>pixel8</th>\n",
       "      <th>pixel9</th>\n",
       "      <th>pixel10</th>\n",
       "      <th>pixel11</th>\n",
       "      <th>pixel12</th>\n",
       "      <th>pixel13</th>\n",
       "      <th>pixel14</th>\n",
       "      <th>pixel15</th>\n",
       "      <th>pixel16</th>\n",
       "      <th>pixel17</th>\n",
       "      <th>pixel18</th>\n",
       "      <th>pixel19</th>\n",
       "      <th>pixel20</th>\n",
       "      <th>pixel21</th>\n",
       "      <th>pixel22</th>\n",
       "      <th>pixel23</th>\n",
       "      <th>pixel24</th>\n",
       "      <th>pixel25</th>\n",
       "      <th>pixel26</th>\n",
       "      <th>pixel27</th>\n",
       "      <th>pixel28</th>\n",
       "      <th>pixel29</th>\n",
       "      <th>pixel30</th>\n",
       "      <th>pixel31</th>\n",
       "      <th>pixel32</th>\n",
       "      <th>pixel33</th>\n",
       "      <th>pixel34</th>\n",
       "      <th>pixel35</th>\n",
       "      <th>pixel36</th>\n",
       "      <th>pixel37</th>\n",
       "      <th>pixel38</th>\n",
       "      <th>pixel39</th>\n",
       "      <th>...</th>\n",
       "      <th>pixel744</th>\n",
       "      <th>pixel745</th>\n",
       "      <th>pixel746</th>\n",
       "      <th>pixel747</th>\n",
       "      <th>pixel748</th>\n",
       "      <th>pixel749</th>\n",
       "      <th>pixel750</th>\n",
       "      <th>pixel751</th>\n",
       "      <th>pixel752</th>\n",
       "      <th>pixel753</th>\n",
       "      <th>pixel754</th>\n",
       "      <th>pixel755</th>\n",
       "      <th>pixel756</th>\n",
       "      <th>pixel757</th>\n",
       "      <th>pixel758</th>\n",
       "      <th>pixel759</th>\n",
       "      <th>pixel760</th>\n",
       "      <th>pixel761</th>\n",
       "      <th>pixel762</th>\n",
       "      <th>pixel763</th>\n",
       "      <th>pixel764</th>\n",
       "      <th>pixel765</th>\n",
       "      <th>pixel766</th>\n",
       "      <th>pixel767</th>\n",
       "      <th>pixel768</th>\n",
       "      <th>pixel769</th>\n",
       "      <th>pixel770</th>\n",
       "      <th>pixel771</th>\n",
       "      <th>pixel772</th>\n",
       "      <th>pixel773</th>\n",
       "      <th>pixel774</th>\n",
       "      <th>pixel775</th>\n",
       "      <th>pixel776</th>\n",
       "      <th>pixel777</th>\n",
       "      <th>pixel778</th>\n",
       "      <th>pixel779</th>\n",
       "      <th>pixel780</th>\n",
       "      <th>pixel781</th>\n",
       "      <th>pixel782</th>\n",
       "      <th>pixel783</th>\n",
       "    </tr>\n",
       "  </thead>\n",
       "  <tbody>\n",
       "    <tr>\n",
       "      <th>0</th>\n",
       "      <td>0</td>\n",
       "      <td>0</td>\n",
       "      <td>0</td>\n",
       "      <td>0</td>\n",
       "      <td>0</td>\n",
       "      <td>0</td>\n",
       "      <td>0</td>\n",
       "      <td>0</td>\n",
       "      <td>0</td>\n",
       "      <td>0</td>\n",
       "      <td>0</td>\n",
       "      <td>0</td>\n",
       "      <td>0</td>\n",
       "      <td>0</td>\n",
       "      <td>0</td>\n",
       "      <td>0</td>\n",
       "      <td>0</td>\n",
       "      <td>0</td>\n",
       "      <td>0</td>\n",
       "      <td>0</td>\n",
       "      <td>0</td>\n",
       "      <td>0</td>\n",
       "      <td>0</td>\n",
       "      <td>0</td>\n",
       "      <td>0</td>\n",
       "      <td>0</td>\n",
       "      <td>0</td>\n",
       "      <td>0</td>\n",
       "      <td>0</td>\n",
       "      <td>0</td>\n",
       "      <td>0</td>\n",
       "      <td>0</td>\n",
       "      <td>0</td>\n",
       "      <td>0</td>\n",
       "      <td>0</td>\n",
       "      <td>0</td>\n",
       "      <td>0</td>\n",
       "      <td>0</td>\n",
       "      <td>0</td>\n",
       "      <td>0</td>\n",
       "      <td>...</td>\n",
       "      <td>0</td>\n",
       "      <td>0</td>\n",
       "      <td>0</td>\n",
       "      <td>0</td>\n",
       "      <td>0</td>\n",
       "      <td>0</td>\n",
       "      <td>0</td>\n",
       "      <td>0</td>\n",
       "      <td>0</td>\n",
       "      <td>0</td>\n",
       "      <td>0</td>\n",
       "      <td>0</td>\n",
       "      <td>0</td>\n",
       "      <td>0</td>\n",
       "      <td>0</td>\n",
       "      <td>0</td>\n",
       "      <td>0</td>\n",
       "      <td>0</td>\n",
       "      <td>0</td>\n",
       "      <td>0</td>\n",
       "      <td>0</td>\n",
       "      <td>0</td>\n",
       "      <td>0</td>\n",
       "      <td>0</td>\n",
       "      <td>0</td>\n",
       "      <td>0</td>\n",
       "      <td>0</td>\n",
       "      <td>0</td>\n",
       "      <td>0</td>\n",
       "      <td>0</td>\n",
       "      <td>0</td>\n",
       "      <td>0</td>\n",
       "      <td>0</td>\n",
       "      <td>0</td>\n",
       "      <td>0</td>\n",
       "      <td>0</td>\n",
       "      <td>0</td>\n",
       "      <td>0</td>\n",
       "      <td>0</td>\n",
       "      <td>0</td>\n",
       "    </tr>\n",
       "    <tr>\n",
       "      <th>1</th>\n",
       "      <td>0</td>\n",
       "      <td>0</td>\n",
       "      <td>0</td>\n",
       "      <td>0</td>\n",
       "      <td>0</td>\n",
       "      <td>0</td>\n",
       "      <td>0</td>\n",
       "      <td>0</td>\n",
       "      <td>0</td>\n",
       "      <td>0</td>\n",
       "      <td>0</td>\n",
       "      <td>0</td>\n",
       "      <td>0</td>\n",
       "      <td>0</td>\n",
       "      <td>0</td>\n",
       "      <td>0</td>\n",
       "      <td>0</td>\n",
       "      <td>0</td>\n",
       "      <td>0</td>\n",
       "      <td>0</td>\n",
       "      <td>0</td>\n",
       "      <td>0</td>\n",
       "      <td>0</td>\n",
       "      <td>0</td>\n",
       "      <td>0</td>\n",
       "      <td>0</td>\n",
       "      <td>0</td>\n",
       "      <td>0</td>\n",
       "      <td>0</td>\n",
       "      <td>0</td>\n",
       "      <td>0</td>\n",
       "      <td>0</td>\n",
       "      <td>0</td>\n",
       "      <td>0</td>\n",
       "      <td>0</td>\n",
       "      <td>0</td>\n",
       "      <td>0</td>\n",
       "      <td>0</td>\n",
       "      <td>0</td>\n",
       "      <td>0</td>\n",
       "      <td>...</td>\n",
       "      <td>0</td>\n",
       "      <td>0</td>\n",
       "      <td>0</td>\n",
       "      <td>0</td>\n",
       "      <td>0</td>\n",
       "      <td>0</td>\n",
       "      <td>0</td>\n",
       "      <td>0</td>\n",
       "      <td>0</td>\n",
       "      <td>0</td>\n",
       "      <td>0</td>\n",
       "      <td>0</td>\n",
       "      <td>0</td>\n",
       "      <td>0</td>\n",
       "      <td>0</td>\n",
       "      <td>0</td>\n",
       "      <td>0</td>\n",
       "      <td>0</td>\n",
       "      <td>0</td>\n",
       "      <td>0</td>\n",
       "      <td>0</td>\n",
       "      <td>0</td>\n",
       "      <td>0</td>\n",
       "      <td>0</td>\n",
       "      <td>0</td>\n",
       "      <td>0</td>\n",
       "      <td>0</td>\n",
       "      <td>0</td>\n",
       "      <td>0</td>\n",
       "      <td>0</td>\n",
       "      <td>0</td>\n",
       "      <td>0</td>\n",
       "      <td>0</td>\n",
       "      <td>0</td>\n",
       "      <td>0</td>\n",
       "      <td>0</td>\n",
       "      <td>0</td>\n",
       "      <td>0</td>\n",
       "      <td>0</td>\n",
       "      <td>0</td>\n",
       "    </tr>\n",
       "    <tr>\n",
       "      <th>2</th>\n",
       "      <td>0</td>\n",
       "      <td>0</td>\n",
       "      <td>0</td>\n",
       "      <td>0</td>\n",
       "      <td>0</td>\n",
       "      <td>0</td>\n",
       "      <td>0</td>\n",
       "      <td>0</td>\n",
       "      <td>0</td>\n",
       "      <td>0</td>\n",
       "      <td>0</td>\n",
       "      <td>0</td>\n",
       "      <td>0</td>\n",
       "      <td>0</td>\n",
       "      <td>0</td>\n",
       "      <td>0</td>\n",
       "      <td>0</td>\n",
       "      <td>0</td>\n",
       "      <td>0</td>\n",
       "      <td>0</td>\n",
       "      <td>0</td>\n",
       "      <td>0</td>\n",
       "      <td>0</td>\n",
       "      <td>0</td>\n",
       "      <td>0</td>\n",
       "      <td>0</td>\n",
       "      <td>0</td>\n",
       "      <td>0</td>\n",
       "      <td>0</td>\n",
       "      <td>0</td>\n",
       "      <td>0</td>\n",
       "      <td>0</td>\n",
       "      <td>0</td>\n",
       "      <td>0</td>\n",
       "      <td>0</td>\n",
       "      <td>0</td>\n",
       "      <td>0</td>\n",
       "      <td>0</td>\n",
       "      <td>0</td>\n",
       "      <td>0</td>\n",
       "      <td>...</td>\n",
       "      <td>0</td>\n",
       "      <td>0</td>\n",
       "      <td>0</td>\n",
       "      <td>0</td>\n",
       "      <td>0</td>\n",
       "      <td>0</td>\n",
       "      <td>0</td>\n",
       "      <td>0</td>\n",
       "      <td>0</td>\n",
       "      <td>0</td>\n",
       "      <td>0</td>\n",
       "      <td>0</td>\n",
       "      <td>0</td>\n",
       "      <td>0</td>\n",
       "      <td>0</td>\n",
       "      <td>0</td>\n",
       "      <td>0</td>\n",
       "      <td>0</td>\n",
       "      <td>0</td>\n",
       "      <td>0</td>\n",
       "      <td>0</td>\n",
       "      <td>0</td>\n",
       "      <td>0</td>\n",
       "      <td>0</td>\n",
       "      <td>0</td>\n",
       "      <td>0</td>\n",
       "      <td>0</td>\n",
       "      <td>0</td>\n",
       "      <td>0</td>\n",
       "      <td>0</td>\n",
       "      <td>0</td>\n",
       "      <td>0</td>\n",
       "      <td>0</td>\n",
       "      <td>0</td>\n",
       "      <td>0</td>\n",
       "      <td>0</td>\n",
       "      <td>0</td>\n",
       "      <td>0</td>\n",
       "      <td>0</td>\n",
       "      <td>0</td>\n",
       "    </tr>\n",
       "    <tr>\n",
       "      <th>3</th>\n",
       "      <td>0</td>\n",
       "      <td>0</td>\n",
       "      <td>0</td>\n",
       "      <td>0</td>\n",
       "      <td>0</td>\n",
       "      <td>0</td>\n",
       "      <td>0</td>\n",
       "      <td>0</td>\n",
       "      <td>0</td>\n",
       "      <td>0</td>\n",
       "      <td>0</td>\n",
       "      <td>0</td>\n",
       "      <td>0</td>\n",
       "      <td>0</td>\n",
       "      <td>0</td>\n",
       "      <td>0</td>\n",
       "      <td>0</td>\n",
       "      <td>0</td>\n",
       "      <td>0</td>\n",
       "      <td>0</td>\n",
       "      <td>0</td>\n",
       "      <td>0</td>\n",
       "      <td>0</td>\n",
       "      <td>0</td>\n",
       "      <td>0</td>\n",
       "      <td>0</td>\n",
       "      <td>0</td>\n",
       "      <td>0</td>\n",
       "      <td>0</td>\n",
       "      <td>0</td>\n",
       "      <td>0</td>\n",
       "      <td>0</td>\n",
       "      <td>0</td>\n",
       "      <td>0</td>\n",
       "      <td>0</td>\n",
       "      <td>0</td>\n",
       "      <td>0</td>\n",
       "      <td>0</td>\n",
       "      <td>0</td>\n",
       "      <td>0</td>\n",
       "      <td>...</td>\n",
       "      <td>0</td>\n",
       "      <td>0</td>\n",
       "      <td>0</td>\n",
       "      <td>0</td>\n",
       "      <td>0</td>\n",
       "      <td>0</td>\n",
       "      <td>0</td>\n",
       "      <td>0</td>\n",
       "      <td>0</td>\n",
       "      <td>0</td>\n",
       "      <td>0</td>\n",
       "      <td>0</td>\n",
       "      <td>0</td>\n",
       "      <td>0</td>\n",
       "      <td>0</td>\n",
       "      <td>0</td>\n",
       "      <td>0</td>\n",
       "      <td>0</td>\n",
       "      <td>0</td>\n",
       "      <td>0</td>\n",
       "      <td>0</td>\n",
       "      <td>0</td>\n",
       "      <td>0</td>\n",
       "      <td>0</td>\n",
       "      <td>0</td>\n",
       "      <td>0</td>\n",
       "      <td>0</td>\n",
       "      <td>0</td>\n",
       "      <td>0</td>\n",
       "      <td>0</td>\n",
       "      <td>0</td>\n",
       "      <td>0</td>\n",
       "      <td>0</td>\n",
       "      <td>0</td>\n",
       "      <td>0</td>\n",
       "      <td>0</td>\n",
       "      <td>0</td>\n",
       "      <td>0</td>\n",
       "      <td>0</td>\n",
       "      <td>0</td>\n",
       "    </tr>\n",
       "    <tr>\n",
       "      <th>4</th>\n",
       "      <td>0</td>\n",
       "      <td>0</td>\n",
       "      <td>0</td>\n",
       "      <td>0</td>\n",
       "      <td>0</td>\n",
       "      <td>0</td>\n",
       "      <td>0</td>\n",
       "      <td>0</td>\n",
       "      <td>0</td>\n",
       "      <td>0</td>\n",
       "      <td>0</td>\n",
       "      <td>0</td>\n",
       "      <td>0</td>\n",
       "      <td>0</td>\n",
       "      <td>0</td>\n",
       "      <td>0</td>\n",
       "      <td>0</td>\n",
       "      <td>0</td>\n",
       "      <td>0</td>\n",
       "      <td>0</td>\n",
       "      <td>0</td>\n",
       "      <td>0</td>\n",
       "      <td>0</td>\n",
       "      <td>0</td>\n",
       "      <td>0</td>\n",
       "      <td>0</td>\n",
       "      <td>0</td>\n",
       "      <td>0</td>\n",
       "      <td>0</td>\n",
       "      <td>0</td>\n",
       "      <td>0</td>\n",
       "      <td>0</td>\n",
       "      <td>0</td>\n",
       "      <td>0</td>\n",
       "      <td>0</td>\n",
       "      <td>0</td>\n",
       "      <td>0</td>\n",
       "      <td>0</td>\n",
       "      <td>0</td>\n",
       "      <td>0</td>\n",
       "      <td>...</td>\n",
       "      <td>0</td>\n",
       "      <td>0</td>\n",
       "      <td>0</td>\n",
       "      <td>0</td>\n",
       "      <td>0</td>\n",
       "      <td>0</td>\n",
       "      <td>0</td>\n",
       "      <td>0</td>\n",
       "      <td>0</td>\n",
       "      <td>0</td>\n",
       "      <td>0</td>\n",
       "      <td>0</td>\n",
       "      <td>0</td>\n",
       "      <td>0</td>\n",
       "      <td>0</td>\n",
       "      <td>0</td>\n",
       "      <td>0</td>\n",
       "      <td>0</td>\n",
       "      <td>0</td>\n",
       "      <td>0</td>\n",
       "      <td>0</td>\n",
       "      <td>0</td>\n",
       "      <td>0</td>\n",
       "      <td>0</td>\n",
       "      <td>0</td>\n",
       "      <td>0</td>\n",
       "      <td>0</td>\n",
       "      <td>0</td>\n",
       "      <td>0</td>\n",
       "      <td>0</td>\n",
       "      <td>0</td>\n",
       "      <td>0</td>\n",
       "      <td>0</td>\n",
       "      <td>0</td>\n",
       "      <td>0</td>\n",
       "      <td>0</td>\n",
       "      <td>0</td>\n",
       "      <td>0</td>\n",
       "      <td>0</td>\n",
       "      <td>0</td>\n",
       "    </tr>\n",
       "  </tbody>\n",
       "</table>\n",
       "<p>5 rows × 784 columns</p>\n",
       "</div>"
      ],
      "text/plain": [
       "   pixel0  pixel1  pixel2  pixel3  ...  pixel780  pixel781  pixel782  pixel783\n",
       "0       0       0       0       0  ...         0         0         0         0\n",
       "1       0       0       0       0  ...         0         0         0         0\n",
       "2       0       0       0       0  ...         0         0         0         0\n",
       "3       0       0       0       0  ...         0         0         0         0\n",
       "4       0       0       0       0  ...         0         0         0         0\n",
       "\n",
       "[5 rows x 784 columns]"
      ]
     },
     "execution_count": 5,
     "metadata": {
      "tags": []
     },
     "output_type": "execute_result"
    }
   ],
   "source": [
    "X_train.head()"
   ]
  },
  {
   "cell_type": "code",
   "execution_count": 0,
   "metadata": {
    "colab": {
     "base_uri": "https://localhost:8080/",
     "height": 119
    },
    "colab_type": "code",
    "id": "L9KchRxoBZhq",
    "outputId": "5c43ed2a-614d-4ff3-dd07-9bf6ecece8dd"
   },
   "outputs": [
    {
     "data": {
      "text/plain": [
       "0    1\n",
       "1    0\n",
       "2    1\n",
       "3    4\n",
       "4    0\n",
       "Name: label, dtype: int64"
      ]
     },
     "execution_count": 6,
     "metadata": {
      "tags": []
     },
     "output_type": "execute_result"
    }
   ],
   "source": [
    "Y_train.head()\n"
   ]
  },
  {
   "cell_type": "code",
   "execution_count": 0,
   "metadata": {
    "colab": {},
    "colab_type": "code",
    "id": "nVqHba4vBZ9A"
   },
   "outputs": [],
   "source": [
    "X_train = np.array(X_train)\n",
    "Y_train = np.array(Y_train)"
   ]
  },
  {
   "cell_type": "code",
   "execution_count": 0,
   "metadata": {
    "colab": {},
    "colab_type": "code",
    "id": "aYThF87FBfvs"
   },
   "outputs": [],
   "source": [
    "# Normalize inputs\n",
    "X_train = X_train / 255.0"
   ]
  },
  {
   "cell_type": "markdown",
   "metadata": {
    "colab_type": "text",
    "id": "m89fEeeAeBg8"
   },
   "source": [
    "##Plot Digits"
   ]
  },
  {
   "cell_type": "code",
   "execution_count": 0,
   "metadata": {
    "colab": {},
    "colab_type": "code",
    "id": "6o0IjL0YBhKN"
   },
   "outputs": [],
   "source": [
    "def plot_digits(X, Y):\n",
    "    for i in range(20):\n",
    "        plt.subplot(5, 4, i+1)\n",
    "        plt.tight_layout()\n",
    "        plt.imshow(X[i].reshape(28, 28), cmap='gray')\n",
    "        plt.title('Digit:{}'.format(Y[i]))\n",
    "        plt.xticks([])\n",
    "        plt.yticks([])\n",
    "    plt.show()"
   ]
  },
  {
   "cell_type": "code",
   "execution_count": 0,
   "metadata": {
    "colab": {
     "base_uri": "https://localhost:8080/",
     "height": 284
    },
    "colab_type": "code",
    "id": "NmcK9xhKBikD",
    "outputId": "0c70658c-9e90-482c-913e-6ddd08bd5c39"
   },
   "outputs": [
    {
     "data": {
      "image/png": "[encoded data removed]",
      "text/plain": [
       "<Figure size 432x288 with 20 Axes>"
      ]
     },
     "metadata": {
      "tags": []
     },
     "output_type": "display_data"
    }
   ],
   "source": [
    "plot_digits(X_train, Y_train)\n"
   ]
  },
  {
   "cell_type": "code",
   "execution_count": 0,
   "metadata": {
    "colab": {
     "base_uri": "https://localhost:8080/",
     "height": 517
    },
    "colab_type": "code",
    "id": "p2cHmAH0BkKb",
    "outputId": "d2be9060-2119-4a36-9dae-61e76c23d755"
   },
   "outputs": [
    {
     "data": {
      "image/png": "[encoded data removed]",
      "text/plain": [
       "<Figure size 576x576 with 1 Axes>"
      ]
     },
     "metadata": {
      "tags": []
     },
     "output_type": "display_data"
    }
   ],
   "source": [
    "fig, ax = plt.subplots(figsize=(8,8))\n",
    "sns.countplot(Y_train)\n",
    "ax.set_title('Distribution of Digits', fontsize=14)\n",
    "ax.set_xlabel('Digits', fontsize=12)\n",
    "ax.set_ylabel('Count', fontsize=14)\n",
    "plt.show()"
   ]
  },
  {
   "cell_type": "code",
   "execution_count": 0,
   "metadata": {
    "colab": {},
    "colab_type": "code",
    "id": "-q_zEz9TBns1"
   },
   "outputs": [],
   "source": [
    "#Train-Test Split\n",
    "X_dev, X_val, Y_dev, Y_val = train_test_split(X_train, Y_train, test_size=0.03, shuffle=True, random_state=2019)\n",
    "T_dev = pd.get_dummies(Y_dev).values\n",
    "T_val = pd.get_dummies(Y_val).values"
   ]
  },
  {
   "cell_type": "code",
   "execution_count": 0,
   "metadata": {
    "colab": {},
    "colab_type": "code",
    "id": "rxeVeQM6BpH_"
   },
   "outputs": [],
   "source": [
    "#Reshape the input \n",
    "X_dev = X_dev.reshape(X_dev.shape[0], 28, 28, 1)\n",
    "X_val = X_val.reshape(X_val.shape[0], 28, 28, 1)"
   ]
  },
  {
   "cell_type": "markdown",
   "metadata": {
    "colab_type": "text",
    "id": "ZevKTtXOeMVT"
   },
   "source": [
    "## CNN Architecture (LeNet-5)\n",
    "\n",
    "Kita akan menggunakan Arsitekture LeNet-5 untuk membuat Model."
   ]
  },
  {
   "cell_type": "code",
   "execution_count": 0,
   "metadata": {
    "colab": {
     "base_uri": "https://localhost:8080/",
     "height": 173
    },
    "colab_type": "code",
    "id": "imTM5jeDBreh",
    "outputId": "3a16bbc9-138e-4631-ca9d-5bf224e579f2"
   },
   "outputs": [
    {
     "name": "stdout",
     "output_type": "stream",
     "text": [
      "WARNING:tensorflow:From /usr/local/lib/python3.6/dist-packages/keras/backend/tensorflow_backend.py:66: The name tf.get_default_graph is deprecated. Please use tf.compat.v1.get_default_graph instead.\n",
      "\n",
      "WARNING:tensorflow:From /usr/local/lib/python3.6/dist-packages/keras/backend/tensorflow_backend.py:541: The name tf.placeholder is deprecated. Please use tf.compat.v1.placeholder instead.\n",
      "\n",
      "WARNING:tensorflow:From /usr/local/lib/python3.6/dist-packages/keras/backend/tensorflow_backend.py:4432: The name tf.random_uniform is deprecated. Please use tf.random.uniform instead.\n",
      "\n",
      "WARNING:tensorflow:From /usr/local/lib/python3.6/dist-packages/keras/backend/tensorflow_backend.py:4267: The name tf.nn.max_pool is deprecated. Please use tf.nn.max_pool2d instead.\n",
      "\n"
     ]
    }
   ],
   "source": [
    "model = Sequential()\n",
    "model.add(Conv2D(filters=32, kernel_size=(5,5), padding='same', activation='relu', input_shape=(28, 28, 1)))\n",
    "model.add(MaxPool2D(strides=2))\n",
    "model.add(Conv2D(filters=48, kernel_size=(5,5), padding='valid', activation='relu'))\n",
    "model.add(MaxPool2D(strides=2))\n",
    "model.add(Flatten())\n",
    "model.add(Dense(256, activation='relu'))\n",
    "model.add(Dense(84, activation='relu'))\n",
    "model.add(Dense(10, activation='softmax'))"
   ]
  },
  {
   "cell_type": "code",
   "execution_count": 0,
   "metadata": {
    "colab": {
     "base_uri": "https://localhost:8080/",
     "height": 425
    },
    "colab_type": "code",
    "id": "TGPV2V9xBtC1",
    "outputId": "60366cf8-9de0-4f1d-e89f-f9b0ec02129e"
   },
   "outputs": [
    {
     "name": "stdout",
     "output_type": "stream",
     "text": [
      "Model: \"sequential_1\"\n",
      "_________________________________________________________________\n",
      "Layer (type)                 Output Shape              Param #   \n",
      "=================================================================\n",
      "conv2d_1 (Conv2D)            (None, 28, 28, 32)        832       \n",
      "_________________________________________________________________\n",
      "max_pooling2d_1 (MaxPooling2 (None, 14, 14, 32)        0         \n",
      "_________________________________________________________________\n",
      "conv2d_2 (Conv2D)            (None, 10, 10, 48)        38448     \n",
      "_________________________________________________________________\n",
      "max_pooling2d_2 (MaxPooling2 (None, 5, 5, 48)          0         \n",
      "_________________________________________________________________\n",
      "flatten_1 (Flatten)          (None, 1200)              0         \n",
      "_________________________________________________________________\n",
      "dense_1 (Dense)              (None, 256)               307456    \n",
      "_________________________________________________________________\n",
      "dense_2 (Dense)              (None, 84)                21588     \n",
      "_________________________________________________________________\n",
      "dense_3 (Dense)              (None, 10)                850       \n",
      "=================================================================\n",
      "Total params: 369,174\n",
      "Trainable params: 369,174\n",
      "Non-trainable params: 0\n",
      "_________________________________________________________________\n"
     ]
    }
   ],
   "source": [
    "model.build()\n",
    "model.summary()"
   ]
  },
  {
   "cell_type": "code",
   "execution_count": 0,
   "metadata": {
    "colab": {
     "base_uri": "https://localhost:8080/",
     "height": 85
    },
    "colab_type": "code",
    "id": "YiZwGVrzB7Jv",
    "outputId": "8810158e-987f-48b1-d92f-c416b7e4a80f"
   },
   "outputs": [
    {
     "name": "stdout",
     "output_type": "stream",
     "text": [
      "WARNING:tensorflow:From /usr/local/lib/python3.6/dist-packages/keras/optimizers.py:793: The name tf.train.Optimizer is deprecated. Please use tf.compat.v1.train.Optimizer instead.\n",
      "\n",
      "WARNING:tensorflow:From /usr/local/lib/python3.6/dist-packages/keras/backend/tensorflow_backend.py:3576: The name tf.log is deprecated. Please use tf.math.log instead.\n",
      "\n"
     ]
    }
   ],
   "source": [
    "adam = Adam(lr=5e-4)\n",
    "model.compile(loss='categorical_crossentropy', metrics=['accuracy'], optimizer=adam)"
   ]
  },
  {
   "cell_type": "code",
   "execution_count": 0,
   "metadata": {
    "colab": {},
    "colab_type": "code",
    "id": "AOFkqjuHB9kr"
   },
   "outputs": [],
   "source": [
    "# Set a learning rate annealer\n",
    "reduce_lr = ReduceLROnPlateau(monitor='val_acc', \n",
    "                                patience=3, \n",
    "                                verbose=1, \n",
    "                                factor=0.2, \n",
    "                                min_lr=1e-6)"
   ]
  },
  {
   "cell_type": "code",
   "execution_count": 0,
   "metadata": {
    "colab": {},
    "colab_type": "code",
    "id": "iVTIi7SxB_DA"
   },
   "outputs": [],
   "source": [
    "# Data Augmentation\n",
    "datagen = ImageDataGenerator(\n",
    "            rotation_range=10, \n",
    "            width_shift_range=0.1, \n",
    "            height_shift_range=0.1, \n",
    "            zoom_range=0.1)\n",
    "datagen.fit(X_dev)"
   ]
  },
  {
   "cell_type": "markdown",
   "metadata": {
    "colab_type": "text",
    "id": "jtycxzDjfOQY"
   },
   "source": [
    "### Parameters : Epochs 50"
   ]
  },
  {
   "cell_type": "code",
   "execution_count": 0,
   "metadata": {
    "colab": {
     "base_uri": "https://localhost:8080/",
     "height": 1000
    },
    "colab_type": "code",
    "id": "0us0yHhlfOQa",
    "outputId": "ac321674-ae77-4845-e14a-8da4049cecd4",
    "scrolled": false
   },
   "outputs": [
    {
     "name": "stdout",
     "output_type": "stream",
     "text": [
      "WARNING:tensorflow:From /usr/local/lib/python3.6/dist-packages/tensorflow_core/python/ops/math_grad.py:1424: where (from tensorflow.python.ops.array_ops) is deprecated and will be removed in a future version.\n",
      "Instructions for updating:\n",
      "Use tf.where in 2.0, which has the same broadcast rule as np.where\n",
      "WARNING:tensorflow:From /usr/local/lib/python3.6/dist-packages/keras/backend/tensorflow_backend.py:1033: The name tf.assign_add is deprecated. Please use tf.compat.v1.assign_add instead.\n",
      "\n",
      "WARNING:tensorflow:From /usr/local/lib/python3.6/dist-packages/keras/backend/tensorflow_backend.py:1020: The name tf.assign is deprecated. Please use tf.compat.v1.assign instead.\n",
      "\n",
      "WARNING:tensorflow:From /usr/local/lib/python3.6/dist-packages/keras/backend/tensorflow_backend.py:3005: The name tf.Session is deprecated. Please use tf.compat.v1.Session instead.\n",
      "\n",
      "Epoch 1/50\n",
      "WARNING:tensorflow:From /usr/local/lib/python3.6/dist-packages/keras/backend/tensorflow_backend.py:190: The name tf.get_default_session is deprecated. Please use tf.compat.v1.get_default_session instead.\n",
      "\n",
      "WARNING:tensorflow:From /usr/local/lib/python3.6/dist-packages/keras/backend/tensorflow_backend.py:197: The name tf.ConfigProto is deprecated. Please use tf.compat.v1.ConfigProto instead.\n",
      "\n",
      "WARNING:tensorflow:From /usr/local/lib/python3.6/dist-packages/keras/backend/tensorflow_backend.py:207: The name tf.global_variables is deprecated. Please use tf.compat.v1.global_variables instead.\n",
      "\n",
      "WARNING:tensorflow:From /usr/local/lib/python3.6/dist-packages/keras/backend/tensorflow_backend.py:216: The name tf.is_variable_initialized is deprecated. Please use tf.compat.v1.is_variable_initialized instead.\n",
      "\n",
      "WARNING:tensorflow:From /usr/local/lib/python3.6/dist-packages/keras/backend/tensorflow_backend.py:223: The name tf.variables_initializer is deprecated. Please use tf.compat.v1.variables_initializer instead.\n",
      "\n",
      "408/407 [==============================] - 12s 30ms/step - loss: 0.4707 - acc: 0.8527 - val_loss: 0.1074 - val_acc: 0.9683\n",
      "Epoch 2/50\n",
      "408/407 [==============================] - 10s 24ms/step - loss: 0.1467 - acc: 0.9551 - val_loss: 0.0681 - val_acc: 0.9786\n",
      "Epoch 3/50\n",
      "408/407 [==============================] - 11s 27ms/step - loss: 0.1053 - acc: 0.9675 - val_loss: 0.0625 - val_acc: 0.9778\n",
      "Epoch 4/50\n",
      "408/407 [==============================] - 10s 25ms/step - loss: 0.0814 - acc: 0.9750 - val_loss: 0.0451 - val_acc: 0.9881\n",
      "Epoch 5/50\n",
      "408/407 [==============================] - 11s 26ms/step - loss: 0.0679 - acc: 0.9794 - val_loss: 0.0389 - val_acc: 0.9865\n",
      "Epoch 6/50\n",
      "408/407 [==============================] - 11s 26ms/step - loss: 0.0587 - acc: 0.9820 - val_loss: 0.0409 - val_acc: 0.9889\n",
      "Epoch 7/50\n",
      "408/407 [==============================] - 11s 26ms/step - loss: 0.0549 - acc: 0.9830 - val_loss: 0.0381 - val_acc: 0.9897\n",
      "Epoch 8/50\n",
      "408/407 [==============================] - 10s 26ms/step - loss: 0.0508 - acc: 0.9837 - val_loss: 0.0333 - val_acc: 0.9913\n",
      "Epoch 9/50\n",
      "408/407 [==============================] - 11s 27ms/step - loss: 0.0462 - acc: 0.9853 - val_loss: 0.0284 - val_acc: 0.9937\n",
      "Epoch 10/50\n",
      "408/407 [==============================] - 11s 26ms/step - loss: 0.0419 - acc: 0.9870 - val_loss: 0.0377 - val_acc: 0.9865\n",
      "Epoch 11/50\n",
      "408/407 [==============================] - 10s 25ms/step - loss: 0.0401 - acc: 0.9879 - val_loss: 0.0286 - val_acc: 0.9944\n",
      "Epoch 12/50\n",
      "408/407 [==============================] - 10s 26ms/step - loss: 0.0373 - acc: 0.9878 - val_loss: 0.0210 - val_acc: 0.9952\n",
      "Epoch 13/50\n",
      "408/407 [==============================] - 11s 26ms/step - loss: 0.0350 - acc: 0.9887 - val_loss: 0.0158 - val_acc: 0.9952\n",
      "Epoch 14/50\n",
      "408/407 [==============================] - 10s 25ms/step - loss: 0.0320 - acc: 0.9898 - val_loss: 0.0175 - val_acc: 0.9960\n",
      "Epoch 15/50\n",
      "408/407 [==============================] - 10s 26ms/step - loss: 0.0339 - acc: 0.9894 - val_loss: 0.0221 - val_acc: 0.9944\n",
      "Epoch 16/50\n",
      "408/407 [==============================] - 11s 26ms/step - loss: 0.0299 - acc: 0.9904 - val_loss: 0.0207 - val_acc: 0.9952\n",
      "Epoch 17/50\n",
      "408/407 [==============================] - 10s 26ms/step - loss: 0.0306 - acc: 0.9900 - val_loss: 0.0162 - val_acc: 0.9968\n",
      "Epoch 18/50\n",
      "408/407 [==============================] - 10s 25ms/step - loss: 0.0267 - acc: 0.9915 - val_loss: 0.0278 - val_acc: 0.9929\n",
      "Epoch 19/50\n",
      "408/407 [==============================] - 10s 25ms/step - loss: 0.0264 - acc: 0.9915 - val_loss: 0.0258 - val_acc: 0.9944\n",
      "Epoch 20/50\n",
      "408/407 [==============================] - 11s 26ms/step - loss: 0.0254 - acc: 0.9917 - val_loss: 0.0253 - val_acc: 0.9913\n",
      "\n",
      "Epoch 00020: ReduceLROnPlateau reducing learning rate to 0.00010000000474974513.\n",
      "Epoch 21/50\n",
      "408/407 [==============================] - 10s 25ms/step - loss: 0.0179 - acc: 0.9941 - val_loss: 0.0182 - val_acc: 0.9960\n",
      "Epoch 22/50\n",
      "408/407 [==============================] - 11s 26ms/step - loss: 0.0150 - acc: 0.9951 - val_loss: 0.0183 - val_acc: 0.9944\n",
      "Epoch 23/50\n",
      "408/407 [==============================] - 10s 26ms/step - loss: 0.0143 - acc: 0.9954 - val_loss: 0.0168 - val_acc: 0.9968\n",
      "\n",
      "Epoch 00023: ReduceLROnPlateau reducing learning rate to 2.0000000949949027e-05.\n",
      "Epoch 24/50\n",
      "408/407 [==============================] - 10s 24ms/step - loss: 0.0130 - acc: 0.9962 - val_loss: 0.0174 - val_acc: 0.9968\n",
      "Epoch 25/50\n",
      "408/407 [==============================] - 11s 26ms/step - loss: 0.0133 - acc: 0.9957 - val_loss: 0.0169 - val_acc: 0.9968\n",
      "Epoch 26/50\n",
      "408/407 [==============================] - 11s 27ms/step - loss: 0.0127 - acc: 0.9959 - val_loss: 0.0184 - val_acc: 0.9952\n",
      "\n",
      "Epoch 00026: ReduceLROnPlateau reducing learning rate to 4.000000262749381e-06.\n",
      "Epoch 27/50\n",
      "408/407 [==============================] - 10s 26ms/step - loss: 0.0123 - acc: 0.9963 - val_loss: 0.0177 - val_acc: 0.9952\n",
      "Epoch 28/50\n",
      "408/407 [==============================] - 10s 25ms/step - loss: 0.0125 - acc: 0.9962 - val_loss: 0.0176 - val_acc: 0.9952\n",
      "Epoch 29/50\n",
      "408/407 [==============================] - 11s 26ms/step - loss: 0.0124 - acc: 0.9963 - val_loss: 0.0172 - val_acc: 0.9952\n",
      "\n",
      "Epoch 00029: ReduceLROnPlateau reducing learning rate to 1e-06.\n",
      "Epoch 30/50\n",
      "408/407 [==============================] - 11s 26ms/step - loss: 0.0122 - acc: 0.9962 - val_loss: 0.0171 - val_acc: 0.9952\n",
      "Epoch 31/50\n",
      "408/407 [==============================] - 11s 26ms/step - loss: 0.0129 - acc: 0.9961 - val_loss: 0.0171 - val_acc: 0.9952\n",
      "Epoch 32/50\n",
      "408/407 [==============================] - 11s 26ms/step - loss: 0.0123 - acc: 0.9961 - val_loss: 0.0172 - val_acc: 0.9952\n",
      "Epoch 33/50\n",
      "408/407 [==============================] - 10s 25ms/step - loss: 0.0117 - acc: 0.9962 - val_loss: 0.0172 - val_acc: 0.9952\n",
      "Epoch 34/50\n",
      "408/407 [==============================] - 11s 26ms/step - loss: 0.0118 - acc: 0.9963 - val_loss: 0.0171 - val_acc: 0.9952\n",
      "Epoch 35/50\n",
      "408/407 [==============================] - 10s 25ms/step - loss: 0.0121 - acc: 0.9960 - val_loss: 0.0171 - val_acc: 0.9952\n",
      "Epoch 36/50\n",
      "408/407 [==============================] - 10s 26ms/step - loss: 0.0118 - acc: 0.9962 - val_loss: 0.0170 - val_acc: 0.9960\n",
      "Epoch 37/50\n",
      "408/407 [==============================] - 11s 26ms/step - loss: 0.0109 - acc: 0.9964 - val_loss: 0.0170 - val_acc: 0.9952\n",
      "Epoch 38/50\n",
      "408/407 [==============================] - 11s 27ms/step - loss: 0.0111 - acc: 0.9965 - val_loss: 0.0170 - val_acc: 0.9952\n",
      "Epoch 39/50\n",
      "408/407 [==============================] - 11s 26ms/step - loss: 0.0117 - acc: 0.9960 - val_loss: 0.0170 - val_acc: 0.9952\n",
      "Epoch 40/50\n",
      "408/407 [==============================] - 11s 26ms/step - loss: 0.0114 - acc: 0.9964 - val_loss: 0.0171 - val_acc: 0.9952\n",
      "Epoch 41/50\n",
      "408/407 [==============================] - 11s 26ms/step - loss: 0.0119 - acc: 0.9959 - val_loss: 0.0171 - val_acc: 0.9952\n",
      "Epoch 42/50\n",
      "408/407 [==============================] - 10s 26ms/step - loss: 0.0117 - acc: 0.9966 - val_loss: 0.0171 - val_acc: 0.9952\n",
      "Epoch 43/50\n",
      "408/407 [==============================] - 10s 26ms/step - loss: 0.0125 - acc: 0.9965 - val_loss: 0.0170 - val_acc: 0.9960\n",
      "Epoch 44/50\n",
      "408/407 [==============================] - 10s 26ms/step - loss: 0.0115 - acc: 0.9968 - val_loss: 0.0171 - val_acc: 0.9960\n",
      "Epoch 45/50\n",
      "408/407 [==============================] - 10s 26ms/step - loss: 0.0120 - acc: 0.9960 - val_loss: 0.0170 - val_acc: 0.9960\n",
      "Epoch 46/50\n",
      "408/407 [==============================] - 10s 26ms/step - loss: 0.0126 - acc: 0.9960 - val_loss: 0.0171 - val_acc: 0.9960\n",
      "Epoch 47/50\n",
      "408/407 [==============================] - 10s 24ms/step - loss: 0.0121 - acc: 0.9963 - val_loss: 0.0171 - val_acc: 0.9960\n",
      "Epoch 48/50\n",
      "408/407 [==============================] - 10s 25ms/step - loss: 0.0118 - acc: 0.9962 - val_loss: 0.0170 - val_acc: 0.9960\n",
      "Epoch 49/50\n",
      "408/407 [==============================] - 10s 25ms/step - loss: 0.0118 - acc: 0.9962 - val_loss: 0.0171 - val_acc: 0.9960\n",
      "Epoch 50/50\n",
      "408/407 [==============================] - 10s 25ms/step - loss: 0.0109 - acc: 0.9966 - val_loss: 0.0171 - val_acc: 0.9960\n"
     ]
    },
    {
     "data": {
      "text/plain": [
       "<keras.callbacks.History at 0x7f2cc81cf5c0>"
      ]
     },
     "execution_count": 18,
     "metadata": {
      "tags": []
     },
     "output_type": "execute_result"
    }
   ],
   "source": [
    "model.fit_generator(datagen.flow(X_dev, T_dev, batch_size=100), steps_per_epoch=len(X_dev)/100, \n",
    "                    epochs=50, validation_data=(X_val, T_val), callbacks=[reduce_lr])"
   ]
  },
  {
   "cell_type": "code",
   "execution_count": 0,
   "metadata": {
    "colab": {
     "base_uri": "https://localhost:8080/",
     "height": 34
    },
    "colab_type": "code",
    "id": "2VWnmtXCfOQd",
    "outputId": "b7d27d4d-045d-418f-d826-a5d6849c4ea9"
   },
   "outputs": [
    {
     "name": "stdout",
     "output_type": "stream",
     "text": [
      "1260/1260 [==============================] - 0s 88us/step\n"
     ]
    }
   ],
   "source": [
    "score = model.evaluate(X_val, T_val, batch_size=32)"
   ]
  },
  {
   "cell_type": "code",
   "execution_count": 0,
   "metadata": {
    "colab": {
     "base_uri": "https://localhost:8080/",
     "height": 34
    },
    "colab_type": "code",
    "id": "UNMaJmNYfOQf",
    "outputId": "2996d3aa-f06f-4596-d626-28c4722f3214"
   },
   "outputs": [
    {
     "data": {
      "text/plain": [
       "[0.017105051358036385, 0.9960317462209671]"
      ]
     },
     "execution_count": 20,
     "metadata": {
      "tags": []
     },
     "output_type": "execute_result"
    }
   ],
   "source": [
    "score"
   ]
  },
  {
   "cell_type": "markdown",
   "metadata": {
    "colab_type": "text",
    "id": "SvVbytcGfOQh"
   },
   "source": [
    "#### Prediksi Data Test (Epoch 50)"
   ]
  },
  {
   "cell_type": "code",
   "execution_count": 0,
   "metadata": {
    "colab": {},
    "colab_type": "code",
    "id": "RIiExFpMfOQi"
   },
   "outputs": [],
   "source": [
    "df_test = pd.read_csv('/content/gdrive/My Drive/Colab Notebooks/Tugas 2 Deep Learning/LeNet/test.csv')\n",
    "X_test = np.array(df_test)\n",
    "X_test = X_test/255.0"
   ]
  },
  {
   "cell_type": "code",
   "execution_count": 0,
   "metadata": {
    "colab": {},
    "colab_type": "code",
    "id": "cBTWkJ5ifOQk"
   },
   "outputs": [],
   "source": [
    "X_test = X_test.reshape((X_test.shape[0], 28, 28, 1))\n",
    "Y_test = model.predict(X_test)"
   ]
  },
  {
   "cell_type": "code",
   "execution_count": 0,
   "metadata": {
    "colab": {
     "base_uri": "https://localhost:8080/",
     "height": 34
    },
    "colab_type": "code",
    "id": "4Jir2hNHfOQm",
    "outputId": "e48591c2-1e80-41bc-b536-114bd08e2bcb"
   },
   "outputs": [
    {
     "data": {
      "text/plain": [
       "array([2, 0, 9, 0, 3])"
      ]
     },
     "execution_count": 23,
     "metadata": {
      "tags": []
     },
     "output_type": "execute_result"
    }
   ],
   "source": [
    "Y_test = np.argmax(Y_test, axis=1)\n",
    "Y_test[:5]"
   ]
  },
  {
   "cell_type": "markdown",
   "metadata": {
    "colab_type": "text",
    "id": "Jw0U678kfOQo"
   },
   "source": [
    "#### Membuat Hasil Predisksi (Epoch 50)"
   ]
  },
  {
   "cell_type": "code",
   "execution_count": 0,
   "metadata": {
    "colab": {
     "base_uri": "https://localhost:8080/",
     "height": 204
    },
    "colab_type": "code",
    "id": "NlWalM0vfOQp",
    "outputId": "5eea6cda-6ad8-4e6f-e7aa-5cc79675ac63"
   },
   "outputs": [
    {
     "data": {
      "text/html": [
       "<div>\n",
       "<style scoped>\n",
       "    .dataframe tbody tr th:only-of-type {\n",
       "        vertical-align: middle;\n",
       "    }\n",
       "\n",
       "    .dataframe tbody tr th {\n",
       "        vertical-align: top;\n",
       "    }\n",
       "\n",
       "    .dataframe thead th {\n",
       "        text-align: right;\n",
       "    }\n",
       "</style>\n",
       "<table border=\"1\" class=\"dataframe\">\n",
       "  <thead>\n",
       "    <tr style=\"text-align: right;\">\n",
       "      <th></th>\n",
       "      <th>ImageId</th>\n",
       "      <th>Label</th>\n",
       "    </tr>\n",
       "  </thead>\n",
       "  <tbody>\n",
       "    <tr>\n",
       "      <th>0</th>\n",
       "      <td>1</td>\n",
       "      <td>2</td>\n",
       "    </tr>\n",
       "    <tr>\n",
       "      <th>1</th>\n",
       "      <td>2</td>\n",
       "      <td>0</td>\n",
       "    </tr>\n",
       "    <tr>\n",
       "      <th>2</th>\n",
       "      <td>3</td>\n",
       "      <td>9</td>\n",
       "    </tr>\n",
       "    <tr>\n",
       "      <th>3</th>\n",
       "      <td>4</td>\n",
       "      <td>0</td>\n",
       "    </tr>\n",
       "    <tr>\n",
       "      <th>4</th>\n",
       "      <td>5</td>\n",
       "      <td>3</td>\n",
       "    </tr>\n",
       "  </tbody>\n",
       "</table>\n",
       "</div>"
      ],
      "text/plain": [
       "   ImageId  Label\n",
       "0        1      2\n",
       "1        2      0\n",
       "2        3      9\n",
       "3        4      0\n",
       "4        5      3"
      ]
     },
     "execution_count": 24,
     "metadata": {
      "tags": []
     },
     "output_type": "execute_result"
    }
   ],
   "source": [
    "df_out = pd.read_csv('/content/gdrive/My Drive/Colab Notebooks/Tugas 2 Deep Learning/LeNet/sample_submission.csv')\n",
    "df_out['Label'] = Y_test\n",
    "df_out.head()"
   ]
  },
  {
   "cell_type": "code",
   "execution_count": 0,
   "metadata": {
    "colab": {},
    "colab_type": "code",
    "id": "XQ7JnUpQfOQq"
   },
   "outputs": [],
   "source": [
    "df_out.to_csv('out 50 epoch.csv', index=False)"
   ]
  },
  {
   "cell_type": "markdown",
   "metadata": {
    "colab_type": "text",
    "id": "5PCgWmoHeglM"
   },
   "source": [
    "### Parameters : Epochs 100"
   ]
  },
  {
   "cell_type": "code",
   "execution_count": 0,
   "metadata": {
    "colab": {
     "base_uri": "https://localhost:8080/",
     "height": 1000
    },
    "colab_type": "code",
    "id": "dwXaiXYGCBJS",
    "outputId": "40858105-18ae-4e05-88bb-98324f08767c",
    "scrolled": false
   },
   "outputs": [
    {
     "name": "stdout",
     "output_type": "stream",
     "text": [
      "WARNING:tensorflow:From /usr/local/lib/python3.6/dist-packages/tensorflow_core/python/ops/math_grad.py:1424: where (from tensorflow.python.ops.array_ops) is deprecated and will be removed in a future version.\n",
      "Instructions for updating:\n",
      "Use tf.where in 2.0, which has the same broadcast rule as np.where\n",
      "WARNING:tensorflow:From /usr/local/lib/python3.6/dist-packages/keras/backend/tensorflow_backend.py:1033: The name tf.assign_add is deprecated. Please use tf.compat.v1.assign_add instead.\n",
      "\n",
      "WARNING:tensorflow:From /usr/local/lib/python3.6/dist-packages/keras/backend/tensorflow_backend.py:1020: The name tf.assign is deprecated. Please use tf.compat.v1.assign instead.\n",
      "\n",
      "WARNING:tensorflow:From /usr/local/lib/python3.6/dist-packages/keras/backend/tensorflow_backend.py:3005: The name tf.Session is deprecated. Please use tf.compat.v1.Session instead.\n",
      "\n",
      "Epoch 1/100\n",
      "WARNING:tensorflow:From /usr/local/lib/python3.6/dist-packages/keras/backend/tensorflow_backend.py:190: The name tf.get_default_session is deprecated. Please use tf.compat.v1.get_default_session instead.\n",
      "\n",
      "WARNING:tensorflow:From /usr/local/lib/python3.6/dist-packages/keras/backend/tensorflow_backend.py:197: The name tf.ConfigProto is deprecated. Please use tf.compat.v1.ConfigProto instead.\n",
      "\n",
      "WARNING:tensorflow:From /usr/local/lib/python3.6/dist-packages/keras/backend/tensorflow_backend.py:207: The name tf.global_variables is deprecated. Please use tf.compat.v1.global_variables instead.\n",
      "\n",
      "WARNING:tensorflow:From /usr/local/lib/python3.6/dist-packages/keras/backend/tensorflow_backend.py:216: The name tf.is_variable_initialized is deprecated. Please use tf.compat.v1.is_variable_initialized instead.\n",
      "\n",
      "WARNING:tensorflow:From /usr/local/lib/python3.6/dist-packages/keras/backend/tensorflow_backend.py:223: The name tf.variables_initializer is deprecated. Please use tf.compat.v1.variables_initializer instead.\n",
      "\n",
      "408/407 [==============================] - 26s 63ms/step - loss: 0.4731 - acc: 0.8517 - val_loss: 0.1011 - val_acc: 0.9722\n",
      "Epoch 2/100\n",
      "408/407 [==============================] - 10s 25ms/step - loss: 0.1419 - acc: 0.9573 - val_loss: 0.0833 - val_acc: 0.9746\n",
      "Epoch 3/100\n",
      "408/407 [==============================] - 10s 24ms/step - loss: 0.1037 - acc: 0.9681 - val_loss: 0.0585 - val_acc: 0.9817\n",
      "Epoch 4/100\n",
      "408/407 [==============================] - 10s 25ms/step - loss: 0.0802 - acc: 0.9755 - val_loss: 0.0497 - val_acc: 0.9881\n",
      "Epoch 5/100\n",
      "408/407 [==============================] - 10s 24ms/step - loss: 0.0697 - acc: 0.9782 - val_loss: 0.0535 - val_acc: 0.9841\n",
      "Epoch 6/100\n",
      "408/407 [==============================] - 10s 25ms/step - loss: 0.0590 - acc: 0.9820 - val_loss: 0.0480 - val_acc: 0.9865\n",
      "Epoch 7/100\n",
      "408/407 [==============================] - 10s 24ms/step - loss: 0.0575 - acc: 0.9816 - val_loss: 0.0382 - val_acc: 0.9889\n",
      "Epoch 8/100\n",
      "408/407 [==============================] - 10s 25ms/step - loss: 0.0495 - acc: 0.9844 - val_loss: 0.0374 - val_acc: 0.9881\n",
      "Epoch 9/100\n",
      "408/407 [==============================] - 10s 24ms/step - loss: 0.0470 - acc: 0.9853 - val_loss: 0.0448 - val_acc: 0.9889\n",
      "Epoch 10/100\n",
      "408/407 [==============================] - 10s 24ms/step - loss: 0.0415 - acc: 0.9876 - val_loss: 0.0445 - val_acc: 0.9865\n",
      "\n",
      "Epoch 00010: ReduceLROnPlateau reducing learning rate to 0.00010000000474974513.\n",
      "Epoch 11/100\n",
      "408/407 [==============================] - 10s 24ms/step - loss: 0.0303 - acc: 0.9908 - val_loss: 0.0239 - val_acc: 0.9944\n",
      "Epoch 12/100\n",
      "408/407 [==============================] - 10s 24ms/step - loss: 0.0284 - acc: 0.9912 - val_loss: 0.0214 - val_acc: 0.9944\n",
      "Epoch 13/100\n",
      "408/407 [==============================] - 10s 24ms/step - loss: 0.0265 - acc: 0.9917 - val_loss: 0.0206 - val_acc: 0.9968\n",
      "Epoch 14/100\n",
      "408/407 [==============================] - 10s 25ms/step - loss: 0.0253 - acc: 0.9922 - val_loss: 0.0254 - val_acc: 0.9944\n",
      "Epoch 15/100\n",
      "408/407 [==============================] - 10s 24ms/step - loss: 0.0246 - acc: 0.9921 - val_loss: 0.0197 - val_acc: 0.9960\n",
      "Epoch 16/100\n",
      "408/407 [==============================] - 10s 24ms/step - loss: 0.0228 - acc: 0.9926 - val_loss: 0.0217 - val_acc: 0.9929\n",
      "\n",
      "Epoch 00016: ReduceLROnPlateau reducing learning rate to 2.0000000949949027e-05.\n",
      "Epoch 17/100\n",
      "408/407 [==============================] - 10s 24ms/step - loss: 0.0214 - acc: 0.9931 - val_loss: 0.0205 - val_acc: 0.9968\n",
      "Epoch 18/100\n",
      "408/407 [==============================] - 10s 24ms/step - loss: 0.0218 - acc: 0.9936 - val_loss: 0.0210 - val_acc: 0.9960\n",
      "Epoch 19/100\n",
      "408/407 [==============================] - 10s 24ms/step - loss: 0.0204 - acc: 0.9937 - val_loss: 0.0214 - val_acc: 0.9944\n",
      "\n",
      "Epoch 00019: ReduceLROnPlateau reducing learning rate to 4.000000262749381e-06.\n",
      "Epoch 20/100\n",
      "408/407 [==============================] - 10s 25ms/step - loss: 0.0207 - acc: 0.9937 - val_loss: 0.0209 - val_acc: 0.9944\n",
      "Epoch 21/100\n",
      "408/407 [==============================] - 10s 24ms/step - loss: 0.0204 - acc: 0.9937 - val_loss: 0.0205 - val_acc: 0.9960\n",
      "Epoch 22/100\n",
      "408/407 [==============================] - 10s 25ms/step - loss: 0.0202 - acc: 0.9938 - val_loss: 0.0209 - val_acc: 0.9944\n",
      "\n",
      "Epoch 00022: ReduceLROnPlateau reducing learning rate to 1e-06.\n",
      "Epoch 23/100\n",
      "408/407 [==============================] - 10s 24ms/step - loss: 0.0208 - acc: 0.9935 - val_loss: 0.0207 - val_acc: 0.9944\n",
      "Epoch 24/100\n",
      "408/407 [==============================] - 10s 24ms/step - loss: 0.0198 - acc: 0.9941 - val_loss: 0.0206 - val_acc: 0.9952\n",
      "Epoch 25/100\n",
      "408/407 [==============================] - 10s 24ms/step - loss: 0.0186 - acc: 0.9939 - val_loss: 0.0206 - val_acc: 0.9952\n",
      "Epoch 26/100\n",
      "408/407 [==============================] - 10s 24ms/step - loss: 0.0184 - acc: 0.9940 - val_loss: 0.0204 - val_acc: 0.9944\n",
      "Epoch 27/100\n",
      "408/407 [==============================] - 10s 24ms/step - loss: 0.0186 - acc: 0.9940 - val_loss: 0.0203 - val_acc: 0.9944\n",
      "Epoch 28/100\n",
      "408/407 [==============================] - 10s 24ms/step - loss: 0.0204 - acc: 0.9934 - val_loss: 0.0203 - val_acc: 0.9952\n",
      "Epoch 29/100\n",
      "408/407 [==============================] - 10s 23ms/step - loss: 0.0202 - acc: 0.9935 - val_loss: 0.0202 - val_acc: 0.9952\n",
      "Epoch 30/100\n",
      "408/407 [==============================] - 10s 24ms/step - loss: 0.0203 - acc: 0.9937 - val_loss: 0.0202 - val_acc: 0.9952\n",
      "Epoch 31/100\n",
      "408/407 [==============================] - 10s 24ms/step - loss: 0.0189 - acc: 0.9942 - val_loss: 0.0203 - val_acc: 0.9960\n",
      "Epoch 32/100\n",
      "408/407 [==============================] - 10s 24ms/step - loss: 0.0195 - acc: 0.9944 - val_loss: 0.0202 - val_acc: 0.9952\n",
      "Epoch 33/100\n",
      "408/407 [==============================] - 10s 24ms/step - loss: 0.0197 - acc: 0.9938 - val_loss: 0.0202 - val_acc: 0.9952\n",
      "Epoch 34/100\n",
      "408/407 [==============================] - 10s 24ms/step - loss: 0.0203 - acc: 0.9936 - val_loss: 0.0202 - val_acc: 0.9960\n",
      "Epoch 35/100\n",
      "408/407 [==============================] - 10s 24ms/step - loss: 0.0199 - acc: 0.9937 - val_loss: 0.0201 - val_acc: 0.9960\n",
      "Epoch 36/100\n",
      "408/407 [==============================] - 10s 24ms/step - loss: 0.0188 - acc: 0.9944 - val_loss: 0.0201 - val_acc: 0.9960\n",
      "Epoch 37/100\n",
      "408/407 [==============================] - 10s 25ms/step - loss: 0.0208 - acc: 0.9937 - val_loss: 0.0201 - val_acc: 0.9960\n",
      "Epoch 38/100\n",
      "408/407 [==============================] - 10s 24ms/step - loss: 0.0190 - acc: 0.9943 - val_loss: 0.0201 - val_acc: 0.9960\n",
      "Epoch 39/100\n",
      "408/407 [==============================] - 10s 25ms/step - loss: 0.0198 - acc: 0.9936 - val_loss: 0.0200 - val_acc: 0.9960\n",
      "Epoch 40/100\n",
      "408/407 [==============================] - 10s 24ms/step - loss: 0.0182 - acc: 0.9941 - val_loss: 0.0201 - val_acc: 0.9968\n",
      "Epoch 41/100\n",
      "408/407 [==============================] - 10s 23ms/step - loss: 0.0188 - acc: 0.9940 - val_loss: 0.0201 - val_acc: 0.9968\n",
      "Epoch 42/100\n",
      "408/407 [==============================] - 10s 24ms/step - loss: 0.0202 - acc: 0.9936 - val_loss: 0.0201 - val_acc: 0.9968\n",
      "Epoch 43/100\n",
      "408/407 [==============================] - 10s 24ms/step - loss: 0.0195 - acc: 0.9939 - val_loss: 0.0201 - val_acc: 0.9968\n",
      "Epoch 44/100\n",
      "408/407 [==============================] - 10s 24ms/step - loss: 0.0202 - acc: 0.9937 - val_loss: 0.0201 - val_acc: 0.9968\n",
      "Epoch 45/100\n",
      "408/407 [==============================] - 10s 24ms/step - loss: 0.0195 - acc: 0.9937 - val_loss: 0.0201 - val_acc: 0.9968\n",
      "Epoch 46/100\n",
      "408/407 [==============================] - 10s 24ms/step - loss: 0.0199 - acc: 0.9941 - val_loss: 0.0202 - val_acc: 0.9968\n",
      "Epoch 47/100\n",
      "408/407 [==============================] - 10s 24ms/step - loss: 0.0195 - acc: 0.9938 - val_loss: 0.0203 - val_acc: 0.9968\n",
      "Epoch 48/100\n",
      "408/407 [==============================] - 10s 24ms/step - loss: 0.0189 - acc: 0.9943 - val_loss: 0.0204 - val_acc: 0.9968\n",
      "Epoch 49/100\n",
      "408/407 [==============================] - 10s 24ms/step - loss: 0.0189 - acc: 0.9943 - val_loss: 0.0203 - val_acc: 0.9968\n",
      "Epoch 50/100\n",
      "408/407 [==============================] - 10s 24ms/step - loss: 0.0201 - acc: 0.9938 - val_loss: 0.0203 - val_acc: 0.9968\n",
      "Epoch 51/100\n",
      "408/407 [==============================] - 10s 25ms/step - loss: 0.0204 - acc: 0.9939 - val_loss: 0.0202 - val_acc: 0.9960\n",
      "Epoch 52/100\n",
      "408/407 [==============================] - 10s 24ms/step - loss: 0.0196 - acc: 0.9941 - val_loss: 0.0202 - val_acc: 0.9952\n",
      "Epoch 53/100\n",
      "408/407 [==============================] - 10s 24ms/step - loss: 0.0185 - acc: 0.9943 - val_loss: 0.0202 - val_acc: 0.9952\n",
      "Epoch 54/100\n",
      "408/407 [==============================] - 10s 24ms/step - loss: 0.0200 - acc: 0.9937 - val_loss: 0.0202 - val_acc: 0.9968\n",
      "Epoch 55/100\n",
      "408/407 [==============================] - 10s 24ms/step - loss: 0.0186 - acc: 0.9941 - val_loss: 0.0203 - val_acc: 0.9968\n",
      "Epoch 56/100\n",
      "408/407 [==============================] - 10s 24ms/step - loss: 0.0195 - acc: 0.9937 - val_loss: 0.0202 - val_acc: 0.9968\n",
      "Epoch 57/100\n",
      "408/407 [==============================] - 10s 25ms/step - loss: 0.0189 - acc: 0.9941 - val_loss: 0.0202 - val_acc: 0.9968\n",
      "Epoch 58/100\n",
      "408/407 [==============================] - 10s 24ms/step - loss: 0.0190 - acc: 0.9943 - val_loss: 0.0201 - val_acc: 0.9968\n",
      "Epoch 59/100\n",
      "408/407 [==============================] - 10s 24ms/step - loss: 0.0200 - acc: 0.9941 - val_loss: 0.0202 - val_acc: 0.9968\n",
      "Epoch 60/100\n",
      "408/407 [==============================] - 10s 24ms/step - loss: 0.0196 - acc: 0.9937 - val_loss: 0.0203 - val_acc: 0.9968\n",
      "Epoch 61/100\n",
      "408/407 [==============================] - 10s 24ms/step - loss: 0.0196 - acc: 0.9942 - val_loss: 0.0203 - val_acc: 0.9968\n",
      "Epoch 62/100\n",
      "408/407 [==============================] - 10s 24ms/step - loss: 0.0185 - acc: 0.9943 - val_loss: 0.0201 - val_acc: 0.9968\n",
      "Epoch 63/100\n",
      "408/407 [==============================] - 10s 25ms/step - loss: 0.0196 - acc: 0.9937 - val_loss: 0.0201 - val_acc: 0.9968\n",
      "Epoch 64/100\n",
      "408/407 [==============================] - 10s 24ms/step - loss: 0.0201 - acc: 0.9944 - val_loss: 0.0201 - val_acc: 0.9968\n",
      "Epoch 65/100\n",
      "408/407 [==============================] - 10s 25ms/step - loss: 0.0194 - acc: 0.9940 - val_loss: 0.0200 - val_acc: 0.9968\n",
      "Epoch 66/100\n",
      "408/407 [==============================] - 10s 24ms/step - loss: 0.0186 - acc: 0.9941 - val_loss: 0.0200 - val_acc: 0.9968\n",
      "Epoch 67/100\n",
      "408/407 [==============================] - 10s 24ms/step - loss: 0.0192 - acc: 0.9943 - val_loss: 0.0199 - val_acc: 0.9968\n",
      "Epoch 68/100\n",
      "408/407 [==============================] - 10s 24ms/step - loss: 0.0185 - acc: 0.9941 - val_loss: 0.0199 - val_acc: 0.9968\n",
      "Epoch 69/100\n",
      "408/407 [==============================] - 10s 25ms/step - loss: 0.0197 - acc: 0.9939 - val_loss: 0.0199 - val_acc: 0.9968\n",
      "Epoch 70/100\n",
      "408/407 [==============================] - 10s 24ms/step - loss: 0.0191 - acc: 0.9940 - val_loss: 0.0200 - val_acc: 0.9968\n",
      "Epoch 71/100\n",
      "408/407 [==============================] - 10s 24ms/step - loss: 0.0190 - acc: 0.9941 - val_loss: 0.0200 - val_acc: 0.9968\n",
      "Epoch 72/100\n",
      "408/407 [==============================] - 10s 24ms/step - loss: 0.0190 - acc: 0.9941 - val_loss: 0.0201 - val_acc: 0.9968\n",
      "Epoch 73/100\n",
      "408/407 [==============================] - 10s 25ms/step - loss: 0.0190 - acc: 0.9940 - val_loss: 0.0202 - val_acc: 0.9968\n",
      "Epoch 74/100\n",
      "408/407 [==============================] - 10s 24ms/step - loss: 0.0186 - acc: 0.9940 - val_loss: 0.0201 - val_acc: 0.9968\n",
      "Epoch 75/100\n",
      "408/407 [==============================] - 10s 25ms/step - loss: 0.0178 - acc: 0.9942 - val_loss: 0.0200 - val_acc: 0.9968\n",
      "Epoch 76/100\n",
      "408/407 [==============================] - 10s 24ms/step - loss: 0.0174 - acc: 0.9948 - val_loss: 0.0201 - val_acc: 0.9968\n",
      "Epoch 77/100\n",
      "408/407 [==============================] - 10s 24ms/step - loss: 0.0188 - acc: 0.9942 - val_loss: 0.0201 - val_acc: 0.9968\n",
      "Epoch 78/100\n",
      "408/407 [==============================] - 10s 24ms/step - loss: 0.0190 - acc: 0.9943 - val_loss: 0.0200 - val_acc: 0.9968\n",
      "Epoch 79/100\n",
      "408/407 [==============================] - 10s 25ms/step - loss: 0.0187 - acc: 0.9942 - val_loss: 0.0201 - val_acc: 0.9968\n",
      "Epoch 80/100\n",
      "408/407 [==============================] - 10s 24ms/step - loss: 0.0183 - acc: 0.9947 - val_loss: 0.0200 - val_acc: 0.9968\n",
      "Epoch 81/100\n",
      "408/407 [==============================] - 10s 25ms/step - loss: 0.0195 - acc: 0.9938 - val_loss: 0.0200 - val_acc: 0.9968\n",
      "Epoch 82/100\n",
      "408/407 [==============================] - 10s 24ms/step - loss: 0.0179 - acc: 0.9945 - val_loss: 0.0202 - val_acc: 0.9968\n",
      "Epoch 83/100\n",
      "408/407 [==============================] - 10s 25ms/step - loss: 0.0188 - acc: 0.9942 - val_loss: 0.0202 - val_acc: 0.9968\n",
      "Epoch 84/100\n",
      "408/407 [==============================] - 10s 24ms/step - loss: 0.0187 - acc: 0.9942 - val_loss: 0.0202 - val_acc: 0.9968\n",
      "Epoch 85/100\n",
      "408/407 [==============================] - 11s 26ms/step - loss: 0.0183 - acc: 0.9939 - val_loss: 0.0203 - val_acc: 0.9968\n",
      "Epoch 86/100\n",
      "408/407 [==============================] - 10s 24ms/step - loss: 0.0183 - acc: 0.9941 - val_loss: 0.0203 - val_acc: 0.9968\n",
      "Epoch 87/100\n",
      "408/407 [==============================] - 10s 25ms/step - loss: 0.0191 - acc: 0.9940 - val_loss: 0.0202 - val_acc: 0.9968\n",
      "Epoch 88/100\n",
      "408/407 [==============================] - 10s 24ms/step - loss: 0.0186 - acc: 0.9943 - val_loss: 0.0202 - val_acc: 0.9968\n",
      "Epoch 89/100\n",
      "408/407 [==============================] - 10s 24ms/step - loss: 0.0181 - acc: 0.9946 - val_loss: 0.0202 - val_acc: 0.9968\n",
      "Epoch 90/100\n",
      "408/407 [==============================] - 10s 24ms/step - loss: 0.0196 - acc: 0.9941 - val_loss: 0.0202 - val_acc: 0.9968\n",
      "Epoch 91/100\n",
      "408/407 [==============================] - 10s 25ms/step - loss: 0.0191 - acc: 0.9944 - val_loss: 0.0202 - val_acc: 0.9968\n",
      "Epoch 92/100\n",
      "408/407 [==============================] - 10s 25ms/step - loss: 0.0175 - acc: 0.9950 - val_loss: 0.0201 - val_acc: 0.9968\n",
      "Epoch 93/100\n",
      "408/407 [==============================] - 10s 25ms/step - loss: 0.0187 - acc: 0.9938 - val_loss: 0.0202 - val_acc: 0.9968\n",
      "Epoch 94/100\n",
      "408/407 [==============================] - 10s 24ms/step - loss: 0.0198 - acc: 0.9935 - val_loss: 0.0203 - val_acc: 0.9968\n",
      "Epoch 95/100\n",
      "408/407 [==============================] - 10s 24ms/step - loss: 0.0185 - acc: 0.9943 - val_loss: 0.0203 - val_acc: 0.9968\n",
      "Epoch 96/100\n",
      "408/407 [==============================] - 10s 24ms/step - loss: 0.0185 - acc: 0.9941 - val_loss: 0.0204 - val_acc: 0.9968\n",
      "Epoch 97/100\n",
      "408/407 [==============================] - 10s 25ms/step - loss: 0.0197 - acc: 0.9938 - val_loss: 0.0202 - val_acc: 0.9968\n",
      "Epoch 98/100\n",
      "408/407 [==============================] - 10s 24ms/step - loss: 0.0187 - acc: 0.9938 - val_loss: 0.0201 - val_acc: 0.9968\n",
      "Epoch 99/100\n",
      "408/407 [==============================] - 10s 25ms/step - loss: 0.0184 - acc: 0.9944 - val_loss: 0.0202 - val_acc: 0.9968\n",
      "Epoch 100/100\n",
      "408/407 [==============================] - 10s 24ms/step - loss: 0.0184 - acc: 0.9941 - val_loss: 0.0201 - val_acc: 0.9968\n"
     ]
    },
    {
     "data": {
      "text/plain": [
       "<keras.callbacks.History at 0x7f31ee01ed30>"
      ]
     },
     "execution_count": 19,
     "metadata": {
      "tags": []
     },
     "output_type": "execute_result"
    }
   ],
   "source": [
    "model.fit_generator(datagen.flow(X_dev, T_dev, batch_size=100), steps_per_epoch=len(X_dev)/100, \n",
    "                    epochs=100, validation_data=(X_val, T_val), callbacks=[reduce_lr])"
   ]
  },
  {
   "cell_type": "code",
   "execution_count": 0,
   "metadata": {
    "colab": {
     "base_uri": "https://localhost:8080/",
     "height": 34
    },
    "colab_type": "code",
    "id": "b_9pX2gKCDM_",
    "outputId": "041fddda-9a65-49ed-dbd8-c4c2d0427c06"
   },
   "outputs": [
    {
     "name": "stdout",
     "output_type": "stream",
     "text": [
      "1260/1260 [==============================] - 0s 110us/step\n"
     ]
    }
   ],
   "source": [
    "score = model.evaluate(X_val, T_val, batch_size=32)"
   ]
  },
  {
   "cell_type": "code",
   "execution_count": 0,
   "metadata": {
    "colab": {
     "base_uri": "https://localhost:8080/",
     "height": 34
    },
    "colab_type": "code",
    "id": "3RJAPSUTCEWA",
    "outputId": "ba6c1059-d545-4e81-b566-14b88f152b8c"
   },
   "outputs": [
    {
     "data": {
      "text/plain": [
       "[0.020082404397221074, 0.9968253970146179]"
      ]
     },
     "execution_count": 21,
     "metadata": {
      "tags": []
     },
     "output_type": "execute_result"
    }
   ],
   "source": [
    "score"
   ]
  },
  {
   "cell_type": "markdown",
   "metadata": {
    "colab_type": "text",
    "id": "4CJqa7cqetR_"
   },
   "source": [
    "#### Prediksi Data (Epoch 100)"
   ]
  },
  {
   "cell_type": "code",
   "execution_count": 0,
   "metadata": {
    "colab": {},
    "colab_type": "code",
    "id": "oBMKLsrCCF71"
   },
   "outputs": [],
   "source": [
    "df_test = pd.read_csv('/content/gdrive/My Drive/Colab Notebooks/Tugas 2 Deep Learning/Dataset/test.csv')\n",
    "X_test = np.array(df_test)\n",
    "X_test = X_test/255.0"
   ]
  },
  {
   "cell_type": "code",
   "execution_count": 0,
   "metadata": {
    "colab": {},
    "colab_type": "code",
    "id": "TIQVcgyICHKw"
   },
   "outputs": [],
   "source": [
    "X_test = X_test.reshape((X_test.shape[0], 28, 28, 1))\n",
    "Y_test = model.predict(X_test)"
   ]
  },
  {
   "cell_type": "code",
   "execution_count": 0,
   "metadata": {
    "colab": {
     "base_uri": "https://localhost:8080/",
     "height": 34
    },
    "colab_type": "code",
    "id": "tWOxBBYWCIbw",
    "outputId": "603a3586-cff3-451d-cae8-0cc4509e9566"
   },
   "outputs": [
    {
     "data": {
      "text/plain": [
       "array([2, 0, 9, 0, 3])"
      ]
     },
     "execution_count": 25,
     "metadata": {
      "tags": []
     },
     "output_type": "execute_result"
    }
   ],
   "source": [
    "Y_test = np.argmax(Y_test, axis=1)\n",
    "Y_test[:5]"
   ]
  },
  {
   "cell_type": "markdown",
   "metadata": {
    "colab_type": "text",
    "id": "6HWIGah4ezUe"
   },
   "source": [
    "#### Membuat Hasil Predisksi (Epoch 100)"
   ]
  },
  {
   "cell_type": "code",
   "execution_count": 0,
   "metadata": {
    "colab": {
     "base_uri": "https://localhost:8080/",
     "height": 204
    },
    "colab_type": "code",
    "id": "PTwktLHGCKY1",
    "outputId": "ed2b8634-4e91-4574-bf38-8ce2ee822a83"
   },
   "outputs": [
    {
     "data": {
      "text/html": [
       "<div>\n",
       "<style scoped>\n",
       "    .dataframe tbody tr th:only-of-type {\n",
       "        vertical-align: middle;\n",
       "    }\n",
       "\n",
       "    .dataframe tbody tr th {\n",
       "        vertical-align: top;\n",
       "    }\n",
       "\n",
       "    .dataframe thead th {\n",
       "        text-align: right;\n",
       "    }\n",
       "</style>\n",
       "<table border=\"1\" class=\"dataframe\">\n",
       "  <thead>\n",
       "    <tr style=\"text-align: right;\">\n",
       "      <th></th>\n",
       "      <th>ImageId</th>\n",
       "      <th>Label</th>\n",
       "    </tr>\n",
       "  </thead>\n",
       "  <tbody>\n",
       "    <tr>\n",
       "      <th>0</th>\n",
       "      <td>1</td>\n",
       "      <td>2</td>\n",
       "    </tr>\n",
       "    <tr>\n",
       "      <th>1</th>\n",
       "      <td>2</td>\n",
       "      <td>0</td>\n",
       "    </tr>\n",
       "    <tr>\n",
       "      <th>2</th>\n",
       "      <td>3</td>\n",
       "      <td>9</td>\n",
       "    </tr>\n",
       "    <tr>\n",
       "      <th>3</th>\n",
       "      <td>4</td>\n",
       "      <td>0</td>\n",
       "    </tr>\n",
       "    <tr>\n",
       "      <th>4</th>\n",
       "      <td>5</td>\n",
       "      <td>3</td>\n",
       "    </tr>\n",
       "  </tbody>\n",
       "</table>\n",
       "</div>"
      ],
      "text/plain": [
       "   ImageId  Label\n",
       "0        1      2\n",
       "1        2      0\n",
       "2        3      9\n",
       "3        4      0\n",
       "4        5      3"
      ]
     },
     "execution_count": 26,
     "metadata": {
      "tags": []
     },
     "output_type": "execute_result"
    }
   ],
   "source": [
    "df_out = pd.read_csv('/content/gdrive/My Drive/Colab Notebooks/Tugas 2 Deep Learning/Dataset/sample_submission.csv')\n",
    "df_out['Label'] = Y_test\n",
    "df_out.head()"
   ]
  },
  {
   "cell_type": "code",
   "execution_count": 0,
   "metadata": {
    "colab": {},
    "colab_type": "code",
    "id": "aOXb_KGiCMUo"
   },
   "outputs": [],
   "source": [
    "df_out.to_csv('LeNet output Epoch 100.csv', index=False)"
   ]
  },
  {
   "cell_type": "code",
   "execution_count": 0,
   "metadata": {
    "colab": {},
    "colab_type": "code",
    "id": "ARxu6sBwfJ10"
   },
   "outputs": [],
   "source": []
  }
 ],
 "metadata": {
  "accelerator": "GPU",
  "colab": {
   "collapsed_sections": [],
   "name": "MNIST CNN With LeNet.ipynb",
   "provenance": [],
   "toc_visible": true
  },
  "kernelspec": {
   "display_name": "Python 3",
   "language": "python",
   "name": "python3"
  },
  "language_info": {
   "codemirror_mode": {
    "name": "ipython",
    "version": 3
   },
   "file_extension": ".py",
   "mimetype": "text/x-python",
   "name": "python",
   "nbconvert_exporter": "python",
   "pygments_lexer": "ipython3",
   "version": "3.7.4"
  }
 },
 "nbformat": 4,
 "nbformat_minor": 1
}
