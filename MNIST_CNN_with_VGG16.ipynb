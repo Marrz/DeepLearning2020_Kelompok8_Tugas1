{
 "cells": [
  {
   "cell_type": "markdown",
   "metadata": {
    "colab_type": "text",
    "id": "jsSldBeyS8w0"
   },
   "source": [
    "# **MNIST CNN with VGG16**"
   ]
  },
  {
   "cell_type": "markdown",
   "metadata": {
    "colab_type": "text",
    "id": "vyYvWSoNS8w2"
   },
   "source": [
    "## Start"
   ]
  },
  {
   "cell_type": "code",
   "execution_count": 0,
   "metadata": {
    "_cell_guid": "b1076dfc-b9ad-4769-8c92-a6c4dae69d19",
    "_uuid": "8f2839f25d086af736a60e9eeb907d3b93b6e0e5",
    "colab": {
     "base_uri": "https://localhost:8080/",
     "height": 122
    },
    "colab_type": "code",
    "id": "U__svWIOS8w3",
    "outputId": "af2563aa-7d05-4d8c-a1a3-f3d5e8cbd9d4"
   },
   "outputs": [
    {
     "name": "stdout",
     "output_type": "stream",
     "text": [
      "Go to this URL in a browser: https://accounts.google.com/o/oauth2/auth?client_id=947318989803-6bn6qk8qdgf4n4g3pfee6491hc0brc4i.apps.googleusercontent.com&redirect_uri=urn%3aietf%3awg%3aoauth%3a2.0%3aoob&response_type=code&scope=email%20https%3a%2f%2fwww.googleapis.com%2fauth%2fdocs.test%20https%3a%2f%2fwww.googleapis.com%2fauth%2fdrive%20https%3a%2f%2fwww.googleapis.com%2fauth%2fdrive.photos.readonly%20https%3a%2f%2fwww.googleapis.com%2fauth%2fpeopleapi.readonly\n",
      "\n",
      "Enter your authorization code:\n",
      "··········\n",
      "Mounted at /content/drive\n"
     ]
    }
   ],
   "source": [
    "# This Python 3 environment comes with many helpful analytics libraries installed\n",
    "# It is defined by the kaggle/python docker image: https://github.com/kaggle/docker-python\n",
    "# For example, here's several helpful packages to load in \n",
    "\n",
    "import numpy as np # linear algebra\n",
    "import pandas as pd # data processing, CSV file I/O (e.g. pd.read_csv)\n",
    "\n",
    "# Input data files are available in the \"../input/\" directory.\n",
    "# For example, running this (by clicking run or pressing Shift+Enter) will list the files in the input directory\n",
    "\n",
    "import os\n",
    "#print(os.listdir(\"../input\"))\n",
    "\n",
    "# Any results you write to the current directory are saved as output.\n",
    "\n",
    "from google.colab import drive\n",
    "drive.mount('/content/drive')"
   ]
  },
  {
   "cell_type": "markdown",
   "metadata": {
    "colab_type": "text",
    "id": "MY3bBz-WS8w6"
   },
   "source": [
    "### Step1: import packages"
   ]
  },
  {
   "cell_type": "code",
   "execution_count": 0,
   "metadata": {
    "_cell_guid": "79c7e3d0-c299-4dcb-8224-4455121ee9b0",
    "_uuid": "d629ff2d2480ee46fbb7e2d37f6b5fab8052498a",
    "colab": {
     "base_uri": "https://localhost:8080/",
     "height": 80
    },
    "colab_type": "code",
    "id": "6NKlfqIsS8w7",
    "outputId": "37f62660-8864-4562-be12-cd8b29de2446"
   },
   "outputs": [
    {
     "name": "stderr",
     "output_type": "stream",
     "text": [
      "Using TensorFlow backend.\n"
     ]
    },
    {
     "data": {
      "text/html": [
       "<p style=\"color: red;\">\n",
       "The default version of TensorFlow in Colab will soon switch to TensorFlow 2.x.<br>\n",
       "We recommend you <a href=\"https://www.tensorflow.org/guide/migrate\" target=\"_blank\">upgrade</a> now \n",
       "or ensure your notebook will continue to use TensorFlow 1.x via the <code>%tensorflow_version 1.x</code> magic:\n",
       "<a href=\"https://colab.research.google.com/notebooks/tensorflow_version.ipynb\" target=\"_blank\">more info</a>.</p>\n"
      ],
      "text/plain": [
       "<IPython.core.display.HTML object>"
      ]
     },
     "metadata": {
      "tags": []
     },
     "output_type": "display_data"
    }
   ],
   "source": [
    "from keras.models import Sequential\n",
    "from keras.layers import Dense,Activation,Flatten, Dropout\n",
    "from keras.layers.convolutional import Conv2D, MaxPooling2D, ZeroPadding2D\n",
    "from keras.optimizers import SGD\n",
    "from keras.utils import np_utils\n",
    "import matplotlib.pyplot as plt"
   ]
  },
  {
   "cell_type": "markdown",
   "metadata": {
    "colab_type": "text",
    "id": "REXhvSt9S8w9"
   },
   "source": [
    "### Step2:load the data"
   ]
  },
  {
   "cell_type": "code",
   "execution_count": 0,
   "metadata": {
    "colab": {},
    "colab_type": "code",
    "id": "xD-L7Wu9S8w-"
   },
   "outputs": [],
   "source": [
    "PATH = \"/content/drive/My Drive/Colab Notebooks/Tugas 2 Deep Learning/Dataset\"\n",
    "train = pd.read_csv(os.path.join(PATH,'train.csv'))\n",
    "test = pd.read_csv(os.path.join(PATH,'test.csv'))\n",
    "sample = pd.read_csv(os.path.join(PATH,'sample_submission.csv'))"
   ]
  },
  {
   "cell_type": "markdown",
   "metadata": {
    "colab_type": "text",
    "id": "jYjrFGBfS8xB"
   },
   "source": [
    "### Step3: Process the data"
   ]
  },
  {
   "cell_type": "code",
   "execution_count": 0,
   "metadata": {
    "colab": {},
    "colab_type": "code",
    "id": "_Dg44f_CS8xB"
   },
   "outputs": [],
   "source": [
    "y = train.label\n",
    "X = train.drop('label', axis=1)"
   ]
  },
  {
   "cell_type": "code",
   "execution_count": 0,
   "metadata": {
    "colab": {},
    "colab_type": "code",
    "id": "j_6jKDBOS8xE"
   },
   "outputs": [],
   "source": [
    "X_train = X.values/255\n",
    "X_train = X_train.reshape(-1,28,28,1)     # 这地方一定要用（-1，28，28，1）\n",
    "y_train = np_utils.to_categorical(y)"
   ]
  },
  {
   "cell_type": "code",
   "execution_count": 0,
   "metadata": {
    "colab": {},
    "colab_type": "code",
    "id": "1MvO1KSWS8xH"
   },
   "outputs": [],
   "source": [
    "X_test = test.values / 255\n",
    "X_test = X_test.reshape(-1, 28, 28, 1)"
   ]
  },
  {
   "cell_type": "markdown",
   "metadata": {
    "colab_type": "text",
    "id": "LcWtoB6YS8xJ"
   },
   "source": [
    "### Step4:Define the VGG net"
   ]
  },
  {
   "cell_type": "code",
   "execution_count": 0,
   "metadata": {
    "colab": {},
    "colab_type": "code",
    "id": "PpawDR42S8xK"
   },
   "outputs": [],
   "source": [
    "def myModel(weights_path = None):\n",
    "    model = Sequential()\n",
    "    \n",
    "    model.add(ZeroPadding2D((1,1), input_shape=(28,28,1)))\n",
    "    model.add(Conv2D(64, (3,3),padding='same', activation='relu'))\n",
    "    model.add(ZeroPadding2D((1,1)))\n",
    "    model.add(Conv2D(64, (3,3),padding='same', activation='relu'))\n",
    "    model.add(MaxPooling2D((2,2), strides=(2,2)))\n",
    "    \n",
    "    model.add(ZeroPadding2D((1,1)))\n",
    "    model.add(Conv2D(128, kernel_size=3, activation='relu'))\n",
    "    model.add(ZeroPadding2D((1,1)))\n",
    "    model.add(Conv2D(128, kernel_size=3, activation='relu'))\n",
    "    model.add(MaxPooling2D((2,2), strides=(2,2)))\n",
    "    \n",
    "    model.add(ZeroPadding2D((1,1)))\n",
    "    model.add(Conv2D(256, kernel_size=3, activation='relu'))\n",
    "    model.add(ZeroPadding2D((1,1)))\n",
    "    model.add(Conv2D(256, kernel_size=3, activation='relu'))\n",
    "    model.add(ZeroPadding2D((1,1)))\n",
    "    model.add(Conv2D(256, kernel_size=3, activation='relu'))\n",
    "    model.add(MaxPooling2D((2,2), strides=(2,2)))\n",
    "    \n",
    "    model.add(ZeroPadding2D((1,1)))\n",
    "    model.add(Conv2D(512, kernel_size=3, activation='relu'))\n",
    "    model.add(ZeroPadding2D((1,1)))\n",
    "    model.add(Conv2D(512, kernel_size=3, activation='relu'))\n",
    "    model.add(ZeroPadding2D((1,1)))\n",
    "    model.add(Conv2D(512, kernel_size=3, activation='relu'))\n",
    "    model.add(MaxPooling2D((2,2), strides=(2,2)))\n",
    "    \n",
    "    model.add(Flatten())\n",
    "    model.add(Dense(4096, activation='relu'))\n",
    "    model.add(Dropout(0.5))\n",
    "    model.add(Dense(4096, activation='relu'))\n",
    "    model.add(Dropout(0.5))\n",
    "    model.add(Dense(10, activation='softmax'))\n",
    "    \n",
    "    return model"
   ]
  },
  {
   "cell_type": "code",
   "execution_count": 0,
   "metadata": {
    "colab": {
     "base_uri": "https://localhost:8080/",
     "height": 326
    },
    "colab_type": "code",
    "id": "GpGf58huS8xM",
    "outputId": "c5c78b81-76be-4c67-8fce-08b7d33b3ab8"
   },
   "outputs": [
    {
     "name": "stdout",
     "output_type": "stream",
     "text": [
      "WARNING:tensorflow:From /usr/local/lib/python3.6/dist-packages/keras/backend/tensorflow_backend.py:66: The name tf.get_default_graph is deprecated. Please use tf.compat.v1.get_default_graph instead.\n",
      "\n",
      "WARNING:tensorflow:From /usr/local/lib/python3.6/dist-packages/keras/backend/tensorflow_backend.py:541: The name tf.placeholder is deprecated. Please use tf.compat.v1.placeholder instead.\n",
      "\n",
      "WARNING:tensorflow:From /usr/local/lib/python3.6/dist-packages/keras/backend/tensorflow_backend.py:4432: The name tf.random_uniform is deprecated. Please use tf.random.uniform instead.\n",
      "\n",
      "WARNING:tensorflow:From /usr/local/lib/python3.6/dist-packages/keras/backend/tensorflow_backend.py:4267: The name tf.nn.max_pool is deprecated. Please use tf.nn.max_pool2d instead.\n",
      "\n",
      "WARNING:tensorflow:From /usr/local/lib/python3.6/dist-packages/keras/backend/tensorflow_backend.py:148: The name tf.placeholder_with_default is deprecated. Please use tf.compat.v1.placeholder_with_default instead.\n",
      "\n",
      "WARNING:tensorflow:From /usr/local/lib/python3.6/dist-packages/keras/backend/tensorflow_backend.py:3733: calling dropout (from tensorflow.python.ops.nn_ops) with keep_prob is deprecated and will be removed in a future version.\n",
      "Instructions for updating:\n",
      "Please use `rate` instead of `keep_prob`. Rate should be set to `rate = 1 - keep_prob`.\n",
      "WARNING:tensorflow:From /usr/local/lib/python3.6/dist-packages/keras/optimizers.py:793: The name tf.train.Optimizer is deprecated. Please use tf.compat.v1.train.Optimizer instead.\n",
      "\n",
      "WARNING:tensorflow:From /usr/local/lib/python3.6/dist-packages/keras/backend/tensorflow_backend.py:3576: The name tf.log is deprecated. Please use tf.math.log instead.\n",
      "\n"
     ]
    }
   ],
   "source": [
    "VGG = myModel()\n",
    "optimizer = SGD()\n",
    "VGG.compile(optimizer=optimizer, loss='categorical_crossentropy', metrics=['accuracy'])"
   ]
  },
  {
   "cell_type": "markdown",
   "metadata": {
    "colab_type": "text",
    "id": "RMeG9l0qS8xP"
   },
   "source": [
    "### Step5:Train the net"
   ]
  },
  {
   "cell_type": "markdown",
   "metadata": {
    "colab_type": "text",
    "id": "qbumBvq3ZwO7"
   },
   "source": [
    "#### Epoch 50"
   ]
  },
  {
   "cell_type": "code",
   "execution_count": 0,
   "metadata": {
    "colab": {
     "base_uri": "https://localhost:8080/",
     "height": 1000
    },
    "colab_type": "code",
    "id": "uiStyz_wS8xQ",
    "outputId": "c276e0b9-e07a-465b-8778-cf5396aebefd",
    "scrolled": false
   },
   "outputs": [
    {
     "name": "stdout",
     "output_type": "stream",
     "text": [
      "WARNING:tensorflow:From /usr/local/lib/python3.6/dist-packages/tensorflow_core/python/ops/math_grad.py:1424: where (from tensorflow.python.ops.array_ops) is deprecated and will be removed in a future version.\n",
      "Instructions for updating:\n",
      "Use tf.where in 2.0, which has the same broadcast rule as np.where\n",
      "WARNING:tensorflow:From /usr/local/lib/python3.6/dist-packages/keras/backend/tensorflow_backend.py:1033: The name tf.assign_add is deprecated. Please use tf.compat.v1.assign_add instead.\n",
      "\n",
      "WARNING:tensorflow:From /usr/local/lib/python3.6/dist-packages/keras/backend/tensorflow_backend.py:1020: The name tf.assign is deprecated. Please use tf.compat.v1.assign instead.\n",
      "\n",
      "WARNING:tensorflow:From /usr/local/lib/python3.6/dist-packages/keras/backend/tensorflow_backend.py:3005: The name tf.Session is deprecated. Please use tf.compat.v1.Session instead.\n",
      "\n",
      "Train on 33600 samples, validate on 8400 samples\n",
      "Epoch 1/50\n",
      "WARNING:tensorflow:From /usr/local/lib/python3.6/dist-packages/keras/backend/tensorflow_backend.py:190: The name tf.get_default_session is deprecated. Please use tf.compat.v1.get_default_session instead.\n",
      "\n",
      "WARNING:tensorflow:From /usr/local/lib/python3.6/dist-packages/keras/backend/tensorflow_backend.py:197: The name tf.ConfigProto is deprecated. Please use tf.compat.v1.ConfigProto instead.\n",
      "\n",
      "WARNING:tensorflow:From /usr/local/lib/python3.6/dist-packages/keras/backend/tensorflow_backend.py:207: The name tf.global_variables is deprecated. Please use tf.compat.v1.global_variables instead.\n",
      "\n",
      "WARNING:tensorflow:From /usr/local/lib/python3.6/dist-packages/keras/backend/tensorflow_backend.py:216: The name tf.is_variable_initialized is deprecated. Please use tf.compat.v1.is_variable_initialized instead.\n",
      "\n",
      "WARNING:tensorflow:From /usr/local/lib/python3.6/dist-packages/keras/backend/tensorflow_backend.py:223: The name tf.variables_initializer is deprecated. Please use tf.compat.v1.variables_initializer instead.\n",
      "\n",
      "33600/33600 [==============================] - 39s 1ms/step - loss: 2.3001 - acc: 0.1123 - val_loss: 2.2964 - val_acc: 0.1131\n",
      "Epoch 2/50\n",
      "33600/33600 [==============================] - 23s 672us/step - loss: 2.2916 - acc: 0.1196 - val_loss: 2.2762 - val_acc: 0.1881\n",
      "Epoch 3/50\n",
      "33600/33600 [==============================] - 23s 677us/step - loss: 1.8493 - acc: 0.4068 - val_loss: 0.8457 - val_acc: 0.6979\n",
      "Epoch 4/50\n",
      "33600/33600 [==============================] - 23s 686us/step - loss: 0.4025 - acc: 0.8682 - val_loss: 0.1890 - val_acc: 0.9371\n",
      "Epoch 5/50\n",
      "33600/33600 [==============================] - 24s 700us/step - loss: 0.1912 - acc: 0.9389 - val_loss: 0.1305 - val_acc: 0.9583\n",
      "Epoch 6/50\n",
      "33600/33600 [==============================] - 23s 695us/step - loss: 0.1350 - acc: 0.9577 - val_loss: 0.0996 - val_acc: 0.9675\n",
      "Epoch 7/50\n",
      "33600/33600 [==============================] - 23s 692us/step - loss: 0.1060 - acc: 0.9665 - val_loss: 0.0793 - val_acc: 0.9727\n",
      "Epoch 8/50\n",
      "33600/33600 [==============================] - 23s 694us/step - loss: 0.0851 - acc: 0.9726 - val_loss: 0.0749 - val_acc: 0.9785\n",
      "Epoch 9/50\n",
      "33600/33600 [==============================] - 23s 695us/step - loss: 0.0714 - acc: 0.9774 - val_loss: 0.0804 - val_acc: 0.9743\n",
      "Epoch 10/50\n",
      "33600/33600 [==============================] - 23s 695us/step - loss: 0.0619 - acc: 0.9799 - val_loss: 0.0621 - val_acc: 0.9811\n",
      "Epoch 11/50\n",
      "33600/33600 [==============================] - 23s 694us/step - loss: 0.0544 - acc: 0.9822 - val_loss: 0.0599 - val_acc: 0.9813\n",
      "Epoch 12/50\n",
      "33600/33600 [==============================] - 23s 694us/step - loss: 0.0482 - acc: 0.9854 - val_loss: 0.0607 - val_acc: 0.9815\n",
      "Epoch 13/50\n",
      "33600/33600 [==============================] - 23s 692us/step - loss: 0.0409 - acc: 0.9870 - val_loss: 0.0574 - val_acc: 0.9819\n",
      "Epoch 14/50\n",
      "33600/33600 [==============================] - 23s 694us/step - loss: 0.0358 - acc: 0.9884 - val_loss: 0.0520 - val_acc: 0.9838\n",
      "Epoch 15/50\n",
      "33600/33600 [==============================] - 23s 694us/step - loss: 0.0323 - acc: 0.9894 - val_loss: 0.0537 - val_acc: 0.9833\n",
      "Epoch 16/50\n",
      "33600/33600 [==============================] - 23s 695us/step - loss: 0.0294 - acc: 0.9903 - val_loss: 0.0529 - val_acc: 0.9851\n",
      "Epoch 17/50\n",
      "33600/33600 [==============================] - 23s 694us/step - loss: 0.0242 - acc: 0.9921 - val_loss: 0.0560 - val_acc: 0.9833\n",
      "Epoch 18/50\n",
      "33600/33600 [==============================] - 23s 694us/step - loss: 0.0203 - acc: 0.9930 - val_loss: 0.0449 - val_acc: 0.9863\n",
      "Epoch 19/50\n",
      "33600/33600 [==============================] - 23s 694us/step - loss: 0.0198 - acc: 0.9937 - val_loss: 0.0534 - val_acc: 0.9849\n",
      "Epoch 20/50\n",
      "33600/33600 [==============================] - 23s 691us/step - loss: 0.0177 - acc: 0.9942 - val_loss: 0.0509 - val_acc: 0.9852\n",
      "Epoch 21/50\n",
      "33600/33600 [==============================] - 23s 691us/step - loss: 0.0144 - acc: 0.9954 - val_loss: 0.0520 - val_acc: 0.9874\n",
      "Epoch 22/50\n",
      "33600/33600 [==============================] - 23s 688us/step - loss: 0.0134 - acc: 0.9958 - val_loss: 0.0651 - val_acc: 0.9840\n",
      "Epoch 23/50\n",
      "33600/33600 [==============================] - 23s 686us/step - loss: 0.0108 - acc: 0.9965 - val_loss: 0.0480 - val_acc: 0.9873\n",
      "Epoch 24/50\n",
      "33600/33600 [==============================] - 23s 688us/step - loss: 0.0102 - acc: 0.9967 - val_loss: 0.0584 - val_acc: 0.9857\n",
      "Epoch 25/50\n",
      "33600/33600 [==============================] - 23s 687us/step - loss: 0.0087 - acc: 0.9970 - val_loss: 0.0687 - val_acc: 0.9831\n",
      "Epoch 26/50\n",
      "33600/33600 [==============================] - 23s 686us/step - loss: 0.0092 - acc: 0.9971 - val_loss: 0.0569 - val_acc: 0.9865\n",
      "Epoch 27/50\n",
      "33600/33600 [==============================] - 23s 684us/step - loss: 0.0071 - acc: 0.9977 - val_loss: 0.0646 - val_acc: 0.9844\n",
      "Epoch 28/50\n",
      "33600/33600 [==============================] - 23s 685us/step - loss: 0.0079 - acc: 0.9976 - val_loss: 0.0743 - val_acc: 0.9832\n",
      "Epoch 29/50\n",
      "33600/33600 [==============================] - 23s 684us/step - loss: 0.0049 - acc: 0.9989 - val_loss: 0.0565 - val_acc: 0.9880\n",
      "Epoch 30/50\n",
      "33600/33600 [==============================] - 23s 686us/step - loss: 0.0066 - acc: 0.9979 - val_loss: 0.0656 - val_acc: 0.9854\n",
      "Epoch 31/50\n",
      "33600/33600 [==============================] - 23s 681us/step - loss: 0.0052 - acc: 0.9983 - val_loss: 0.0616 - val_acc: 0.9876\n",
      "Epoch 32/50\n",
      "33600/33600 [==============================] - 23s 682us/step - loss: 0.0047 - acc: 0.9983 - val_loss: 0.0643 - val_acc: 0.9874\n",
      "Epoch 33/50\n",
      "33600/33600 [==============================] - 23s 680us/step - loss: 0.0051 - acc: 0.9983 - val_loss: 0.0718 - val_acc: 0.9849\n",
      "Epoch 34/50\n",
      "33600/33600 [==============================] - 23s 682us/step - loss: 0.0053 - acc: 0.9981 - val_loss: 0.0599 - val_acc: 0.9877\n",
      "Epoch 35/50\n",
      "33600/33600 [==============================] - 23s 683us/step - loss: 0.0034 - acc: 0.9991 - val_loss: 0.0625 - val_acc: 0.9875\n",
      "Epoch 36/50\n",
      "33600/33600 [==============================] - 23s 681us/step - loss: 0.0042 - acc: 0.9986 - val_loss: 0.0679 - val_acc: 0.9864\n",
      "Epoch 37/50\n",
      "33600/33600 [==============================] - 23s 692us/step - loss: 0.0026 - acc: 0.9991 - val_loss: 0.0780 - val_acc: 0.9848\n",
      "Epoch 38/50\n",
      "33600/33600 [==============================] - 24s 700us/step - loss: 0.0039 - acc: 0.9986 - val_loss: 0.0680 - val_acc: 0.9865\n",
      "Epoch 39/50\n",
      "33600/33600 [==============================] - 23s 699us/step - loss: 0.0039 - acc: 0.9989 - val_loss: 0.0667 - val_acc: 0.9868\n",
      "Epoch 40/50\n",
      "33600/33600 [==============================] - 23s 698us/step - loss: 0.0033 - acc: 0.9990 - val_loss: 0.0639 - val_acc: 0.9869\n",
      "Epoch 41/50\n",
      "33600/33600 [==============================] - 23s 697us/step - loss: 0.0014 - acc: 0.9997 - val_loss: 0.0705 - val_acc: 0.9861\n",
      "Epoch 42/50\n",
      "33600/33600 [==============================] - 23s 695us/step - loss: 0.0017 - acc: 0.9996 - val_loss: 0.0662 - val_acc: 0.9868\n",
      "Epoch 43/50\n",
      "33600/33600 [==============================] - 24s 700us/step - loss: 0.0038 - acc: 0.9987 - val_loss: 0.0660 - val_acc: 0.9875\n",
      "Epoch 44/50\n",
      "33600/33600 [==============================] - 23s 692us/step - loss: 0.0021 - acc: 0.9993 - val_loss: 0.0669 - val_acc: 0.9874\n",
      "Epoch 45/50\n",
      "33600/33600 [==============================] - 23s 679us/step - loss: 0.0021 - acc: 0.9993 - val_loss: 0.0664 - val_acc: 0.9867\n",
      "Epoch 46/50\n",
      "33600/33600 [==============================] - 23s 678us/step - loss: 0.0025 - acc: 0.9993 - val_loss: 0.0647 - val_acc: 0.9874\n",
      "Epoch 47/50\n",
      "33600/33600 [==============================] - 23s 677us/step - loss: 0.0014 - acc: 0.9997 - val_loss: 0.0712 - val_acc: 0.9869\n",
      "Epoch 48/50\n",
      "33600/33600 [==============================] - 23s 677us/step - loss: 0.0016 - acc: 0.9994 - val_loss: 0.0705 - val_acc: 0.9869\n",
      "Epoch 49/50\n",
      "33600/33600 [==============================] - 23s 679us/step - loss: 0.0014 - acc: 0.9994 - val_loss: 0.0669 - val_acc: 0.9875\n",
      "Epoch 50/50\n",
      "33600/33600 [==============================] - 23s 678us/step - loss: 7.6179e-04 - acc: 0.9999 - val_loss: 0.0710 - val_acc: 0.9877\n"
     ]
    }
   ],
   "source": [
    "history = VGG.fit(X_train,y_train,batch_size=64, epochs=50, validation_split=0.2,verbose=1)"
   ]
  },
  {
   "cell_type": "code",
   "execution_count": 0,
   "metadata": {
    "colab": {
     "base_uri": "https://localhost:8080/",
     "height": 590
    },
    "colab_type": "code",
    "id": "yiOaNWueS8xS",
    "outputId": "56e66053-b155-4a0e-9935-74c05da8519f"
   },
   "outputs": [
    {
     "name": "stdout",
     "output_type": "stream",
     "text": [
      "dict_keys(['val_loss', 'val_acc', 'loss', 'acc'])\n"
     ]
    },
    {
     "data": {
      "image/png": "[encoded data removed]",
      "text/plain": [
       "<Figure size 432x288 with 1 Axes>"
      ]
     },
     "metadata": {
      "tags": []
     },
     "output_type": "display_data"
    },
    {
     "data": {
      "image/png": "[encoded data removed]",
      "text/plain": [
       "<Figure size 432x288 with 1 Axes>"
      ]
     },
     "metadata": {
      "tags": []
     },
     "output_type": "display_data"
    }
   ],
   "source": [
    "# show the accuracy and loss \n",
    "print(history.history.keys())\n",
    "# accuracy\n",
    "plt.plot(history.history['acc'])\n",
    "plt.plot(history.history['val_acc'])\n",
    "plt.title('model accuracy')\n",
    "plt.ylabel('accuracy')\n",
    "plt.xlabel('epoch')\n",
    "plt.legend(['train', 'test'], loc='upper left')\n",
    "plt.show()\n",
    "\n",
    "# loss\n",
    "plt.plot(history.history['loss'])\n",
    "plt.plot(history.history['val_loss'])\n",
    "plt.title('model loss')\n",
    "plt.ylabel('loss')\n",
    "plt.xlabel('epoch')\n",
    "plt.legend(['train', 'test'], loc='upper left')\n",
    "plt.show()"
   ]
  },
  {
   "cell_type": "markdown",
   "metadata": {
    "colab_type": "text",
    "id": "vyadObSGuX9R"
   },
   "source": [
    "##### Step6:Predict (50 Epoch)"
   ]
  },
  {
   "cell_type": "code",
   "execution_count": 0,
   "metadata": {
    "colab": {},
    "colab_type": "code",
    "id": "N8JmxkTEuX9Y"
   },
   "outputs": [],
   "source": [
    "ret = VGG.predict(X_test)"
   ]
  },
  {
   "cell_type": "code",
   "execution_count": 0,
   "metadata": {
    "colab": {},
    "colab_type": "code",
    "id": "txWgDK6IuX9c"
   },
   "outputs": [],
   "source": [
    "results = np.argmax(ret,axis = 1)"
   ]
  },
  {
   "cell_type": "markdown",
   "metadata": {
    "colab_type": "text",
    "id": "GrQSbl5iuhZ4"
   },
   "source": [
    "##### Step7:Submit (50 Epoch)"
   ]
  },
  {
   "cell_type": "code",
   "execution_count": 0,
   "metadata": {
    "colab": {},
    "colab_type": "code",
    "id": "z5IFMCG4ul9d"
   },
   "outputs": [],
   "source": []
  },
  {
   "cell_type": "code",
   "execution_count": 0,
   "metadata": {
    "colab": {},
    "colab_type": "code",
    "id": "qMs1bem9uhZ6"
   },
   "outputs": [],
   "source": [
    "df = {'ImageId':sample['ImageId'],\n",
    "     'Label':results }\n",
    "\n",
    "submission = pd.DataFrame(df)"
   ]
  },
  {
   "cell_type": "code",
   "execution_count": 0,
   "metadata": {
    "colab": {},
    "colab_type": "code",
    "id": "agIobbvmuhZ8"
   },
   "outputs": [],
   "source": [
    "submission.to_csv('submission.csv', index=False)"
   ]
  },
  {
   "cell_type": "markdown",
   "metadata": {
    "colab_type": "text",
    "id": "JH5D0EnhS8xU"
   },
   "source": []
  },
  {
   "cell_type": "markdown",
   "metadata": {
    "colab_type": "text",
    "id": "I_TtH-3iZ-vf"
   },
   "source": [
    "#### Epoch 100"
   ]
  },
  {
   "cell_type": "code",
   "execution_count": 0,
   "metadata": {
    "colab": {
     "base_uri": "https://localhost:8080/",
     "height": 1000
    },
    "colab_type": "code",
    "id": "yz6gREMHZ-vh",
    "outputId": "d2b2e294-b210-4782-ec03-e73d1f418bad"
   },
   "outputs": [
    {
     "name": "stdout",
     "output_type": "stream",
     "text": [
      "WARNING:tensorflow:From /usr/local/lib/python3.6/dist-packages/tensorflow_core/python/ops/math_grad.py:1424: where (from tensorflow.python.ops.array_ops) is deprecated and will be removed in a future version.\n",
      "Instructions for updating:\n",
      "Use tf.where in 2.0, which has the same broadcast rule as np.where\n",
      "WARNING:tensorflow:From /usr/local/lib/python3.6/dist-packages/keras/backend/tensorflow_backend.py:1033: The name tf.assign_add is deprecated. Please use tf.compat.v1.assign_add instead.\n",
      "\n",
      "WARNING:tensorflow:From /usr/local/lib/python3.6/dist-packages/keras/backend/tensorflow_backend.py:1020: The name tf.assign is deprecated. Please use tf.compat.v1.assign instead.\n",
      "\n",
      "WARNING:tensorflow:From /usr/local/lib/python3.6/dist-packages/keras/backend/tensorflow_backend.py:3005: The name tf.Session is deprecated. Please use tf.compat.v1.Session instead.\n",
      "\n",
      "Train on 33600 samples, validate on 8400 samples\n",
      "Epoch 1/100\n",
      "WARNING:tensorflow:From /usr/local/lib/python3.6/dist-packages/keras/backend/tensorflow_backend.py:190: The name tf.get_default_session is deprecated. Please use tf.compat.v1.get_default_session instead.\n",
      "\n",
      "WARNING:tensorflow:From /usr/local/lib/python3.6/dist-packages/keras/backend/tensorflow_backend.py:197: The name tf.ConfigProto is deprecated. Please use tf.compat.v1.ConfigProto instead.\n",
      "\n",
      "WARNING:tensorflow:From /usr/local/lib/python3.6/dist-packages/keras/backend/tensorflow_backend.py:207: The name tf.global_variables is deprecated. Please use tf.compat.v1.global_variables instead.\n",
      "\n",
      "WARNING:tensorflow:From /usr/local/lib/python3.6/dist-packages/keras/backend/tensorflow_backend.py:216: The name tf.is_variable_initialized is deprecated. Please use tf.compat.v1.is_variable_initialized instead.\n",
      "\n",
      "WARNING:tensorflow:From /usr/local/lib/python3.6/dist-packages/keras/backend/tensorflow_backend.py:223: The name tf.variables_initializer is deprecated. Please use tf.compat.v1.variables_initializer instead.\n",
      "\n",
      "33600/33600 [==============================] - 30s 882us/step - loss: 2.3001 - acc: 0.1126 - val_loss: 2.2967 - val_acc: 0.1131\n",
      "Epoch 2/100\n",
      "33600/33600 [==============================] - 15s 438us/step - loss: 2.2923 - acc: 0.1152 - val_loss: 2.2790 - val_acc: 0.1592\n",
      "Epoch 3/100\n",
      "33600/33600 [==============================] - 15s 436us/step - loss: 1.9194 - acc: 0.3932 - val_loss: 0.7096 - val_acc: 0.7554\n",
      "Epoch 4/100\n",
      "33600/33600 [==============================] - 15s 433us/step - loss: 0.4731 - acc: 0.8413 - val_loss: 0.2100 - val_acc: 0.9326\n",
      "Epoch 5/100\n",
      "33600/33600 [==============================] - 15s 436us/step - loss: 0.2105 - acc: 0.9317 - val_loss: 0.1314 - val_acc: 0.9562\n",
      "Epoch 6/100\n",
      "33600/33600 [==============================] - 15s 441us/step - loss: 0.1422 - acc: 0.9544 - val_loss: 0.1057 - val_acc: 0.9650\n",
      "Epoch 7/100\n",
      "33600/33600 [==============================] - 15s 435us/step - loss: 0.1084 - acc: 0.9655 - val_loss: 0.0895 - val_acc: 0.9686\n",
      "Epoch 8/100\n",
      "33600/33600 [==============================] - 15s 434us/step - loss: 0.0874 - acc: 0.9724 - val_loss: 0.0724 - val_acc: 0.9764\n",
      "Epoch 9/100\n",
      "33600/33600 [==============================] - 15s 433us/step - loss: 0.0724 - acc: 0.9781 - val_loss: 0.0633 - val_acc: 0.9805\n",
      "Epoch 10/100\n",
      "33600/33600 [==============================] - 15s 440us/step - loss: 0.0613 - acc: 0.9800 - val_loss: 0.0632 - val_acc: 0.9788\n",
      "Epoch 11/100\n",
      "33600/33600 [==============================] - 15s 436us/step - loss: 0.0525 - acc: 0.9829 - val_loss: 0.0592 - val_acc: 0.9824\n",
      "Epoch 12/100\n",
      "33600/33600 [==============================] - 15s 437us/step - loss: 0.0471 - acc: 0.9860 - val_loss: 0.0652 - val_acc: 0.9787\n",
      "Epoch 13/100\n",
      "33600/33600 [==============================] - 15s 437us/step - loss: 0.0410 - acc: 0.9874 - val_loss: 0.0580 - val_acc: 0.9815\n",
      "Epoch 14/100\n",
      "33600/33600 [==============================] - 15s 436us/step - loss: 0.0349 - acc: 0.9888 - val_loss: 0.0538 - val_acc: 0.9833\n",
      "Epoch 15/100\n",
      "33600/33600 [==============================] - 15s 434us/step - loss: 0.0316 - acc: 0.9901 - val_loss: 0.0469 - val_acc: 0.9858\n",
      "Epoch 16/100\n",
      "33600/33600 [==============================] - 15s 434us/step - loss: 0.0268 - acc: 0.9917 - val_loss: 0.0574 - val_acc: 0.9826\n",
      "Epoch 17/100\n",
      "33600/33600 [==============================] - 15s 434us/step - loss: 0.0254 - acc: 0.9920 - val_loss: 0.0612 - val_acc: 0.9823\n",
      "Epoch 18/100\n",
      "33600/33600 [==============================] - 15s 439us/step - loss: 0.0229 - acc: 0.9922 - val_loss: 0.0557 - val_acc: 0.9827\n",
      "Epoch 19/100\n",
      "33600/33600 [==============================] - 15s 435us/step - loss: 0.0172 - acc: 0.9943 - val_loss: 0.0623 - val_acc: 0.9842\n",
      "Epoch 20/100\n",
      "33600/33600 [==============================] - 15s 437us/step - loss: 0.0186 - acc: 0.9942 - val_loss: 0.0551 - val_acc: 0.9844\n",
      "Epoch 21/100\n",
      "33600/33600 [==============================] - 15s 436us/step - loss: 0.0129 - acc: 0.9962 - val_loss: 0.0543 - val_acc: 0.9858\n",
      "Epoch 22/100\n",
      "33600/33600 [==============================] - 15s 442us/step - loss: 0.0127 - acc: 0.9958 - val_loss: 0.0558 - val_acc: 0.9862\n",
      "Epoch 23/100\n",
      "33600/33600 [==============================] - 15s 436us/step - loss: 0.0119 - acc: 0.9959 - val_loss: 0.0539 - val_acc: 0.9855\n",
      "Epoch 24/100\n",
      "33600/33600 [==============================] - 15s 435us/step - loss: 0.0103 - acc: 0.9967 - val_loss: 0.0591 - val_acc: 0.9861\n",
      "Epoch 25/100\n",
      "33600/33600 [==============================] - 15s 434us/step - loss: 0.0091 - acc: 0.9974 - val_loss: 0.0620 - val_acc: 0.9854\n",
      "Epoch 26/100\n",
      "33600/33600 [==============================] - 15s 433us/step - loss: 0.0094 - acc: 0.9967 - val_loss: 0.0551 - val_acc: 0.9857\n",
      "Epoch 27/100\n",
      "33600/33600 [==============================] - 15s 435us/step - loss: 0.0071 - acc: 0.9976 - val_loss: 0.0574 - val_acc: 0.9876\n",
      "Epoch 28/100\n",
      "33600/33600 [==============================] - 15s 438us/step - loss: 0.0074 - acc: 0.9974 - val_loss: 0.0599 - val_acc: 0.9857\n",
      "Epoch 29/100\n",
      "33600/33600 [==============================] - 14s 431us/step - loss: 0.0059 - acc: 0.9981 - val_loss: 0.0643 - val_acc: 0.9855\n",
      "Epoch 30/100\n",
      "33600/33600 [==============================] - 15s 433us/step - loss: 0.0067 - acc: 0.9979 - val_loss: 0.0628 - val_acc: 0.9858\n",
      "Epoch 31/100\n",
      "33600/33600 [==============================] - 15s 434us/step - loss: 0.0066 - acc: 0.9979 - val_loss: 0.0605 - val_acc: 0.9869\n",
      "Epoch 32/100\n",
      "33600/33600 [==============================] - 15s 433us/step - loss: 0.0038 - acc: 0.9989 - val_loss: 0.0598 - val_acc: 0.9877\n",
      "Epoch 33/100\n",
      "33600/33600 [==============================] - 14s 430us/step - loss: 0.0045 - acc: 0.9987 - val_loss: 0.0695 - val_acc: 0.9863\n",
      "Epoch 34/100\n",
      "33600/33600 [==============================] - 15s 434us/step - loss: 0.0034 - acc: 0.9989 - val_loss: 0.0693 - val_acc: 0.9870\n",
      "Epoch 35/100\n",
      "33600/33600 [==============================] - 15s 433us/step - loss: 0.0071 - acc: 0.9976 - val_loss: 0.0653 - val_acc: 0.9858\n",
      "Epoch 36/100\n",
      "33600/33600 [==============================] - 14s 427us/step - loss: 0.0059 - acc: 0.9980 - val_loss: 0.0659 - val_acc: 0.9855\n",
      "Epoch 37/100\n",
      "33600/33600 [==============================] - 14s 426us/step - loss: 0.0027 - acc: 0.9991 - val_loss: 0.0629 - val_acc: 0.9875\n",
      "Epoch 38/100\n",
      "33600/33600 [==============================] - 14s 428us/step - loss: 0.0020 - acc: 0.9994 - val_loss: 0.0703 - val_acc: 0.9863\n",
      "Epoch 39/100\n",
      "33600/33600 [==============================] - 14s 429us/step - loss: 0.0038 - acc: 0.9987 - val_loss: 0.0637 - val_acc: 0.9881\n",
      "Epoch 40/100\n",
      "33600/33600 [==============================] - 14s 430us/step - loss: 0.0017 - acc: 0.9996 - val_loss: 0.0625 - val_acc: 0.9885\n",
      "Epoch 41/100\n",
      "33600/33600 [==============================] - 14s 429us/step - loss: 0.0015 - acc: 0.9995 - val_loss: 0.0656 - val_acc: 0.9865\n",
      "Epoch 42/100\n",
      "33600/33600 [==============================] - 14s 429us/step - loss: 0.0011 - acc: 0.9997 - val_loss: 0.0770 - val_acc: 0.9862\n",
      "Epoch 43/100\n",
      "33600/33600 [==============================] - 15s 434us/step - loss: 0.0014 - acc: 0.9996 - val_loss: 0.0704 - val_acc: 0.9868\n",
      "Epoch 44/100\n",
      "33600/33600 [==============================] - 14s 428us/step - loss: 0.0039 - acc: 0.9987 - val_loss: 0.0713 - val_acc: 0.9873\n",
      "Epoch 45/100\n",
      "33600/33600 [==============================] - 14s 428us/step - loss: 0.0025 - acc: 0.9993 - val_loss: 0.0698 - val_acc: 0.9860\n",
      "Epoch 46/100\n",
      "33600/33600 [==============================] - 14s 428us/step - loss: 0.0015 - acc: 0.9996 - val_loss: 0.0739 - val_acc: 0.9877\n",
      "Epoch 47/100\n",
      "33600/33600 [==============================] - 14s 431us/step - loss: 4.7172e-04 - acc: 0.9999 - val_loss: 0.0697 - val_acc: 0.9867\n",
      "Epoch 48/100\n",
      "33600/33600 [==============================] - 14s 426us/step - loss: 7.2056e-04 - acc: 0.9998 - val_loss: 0.0715 - val_acc: 0.9861\n",
      "Epoch 49/100\n",
      "33600/33600 [==============================] - 15s 432us/step - loss: 0.0011 - acc: 0.9996 - val_loss: 0.0692 - val_acc: 0.9879\n",
      "Epoch 50/100\n",
      "33600/33600 [==============================] - 15s 435us/step - loss: 0.0019 - acc: 0.9995 - val_loss: 0.0707 - val_acc: 0.9867\n",
      "Epoch 51/100\n",
      "33600/33600 [==============================] - 15s 432us/step - loss: 8.7550e-04 - acc: 0.9998 - val_loss: 0.0728 - val_acc: 0.9877\n",
      "Epoch 52/100\n",
      "33600/33600 [==============================] - 14s 427us/step - loss: 2.8908e-04 - acc: 1.0000 - val_loss: 0.0715 - val_acc: 0.9887\n",
      "Epoch 53/100\n",
      "33600/33600 [==============================] - 14s 430us/step - loss: 8.9696e-04 - acc: 0.9997 - val_loss: 0.0782 - val_acc: 0.9875\n",
      "Epoch 54/100\n",
      "33600/33600 [==============================] - 14s 429us/step - loss: 0.0015 - acc: 0.9996 - val_loss: 0.0785 - val_acc: 0.9874\n",
      "Epoch 55/100\n",
      "33600/33600 [==============================] - 14s 432us/step - loss: 0.0015 - acc: 0.9996 - val_loss: 0.0722 - val_acc: 0.9879\n",
      "Epoch 56/100\n",
      "33600/33600 [==============================] - 14s 431us/step - loss: 8.8259e-04 - acc: 0.9998 - val_loss: 0.0717 - val_acc: 0.9883\n",
      "Epoch 57/100\n",
      "33600/33600 [==============================] - 14s 428us/step - loss: 0.0035 - acc: 0.9989 - val_loss: 0.0653 - val_acc: 0.9870\n",
      "Epoch 58/100\n",
      "33600/33600 [==============================] - 14s 429us/step - loss: 0.0022 - acc: 0.9993 - val_loss: 0.0714 - val_acc: 0.9870\n",
      "Epoch 59/100\n",
      "33600/33600 [==============================] - 14s 430us/step - loss: 3.4568e-04 - acc: 1.0000 - val_loss: 0.0701 - val_acc: 0.9877\n",
      "Epoch 60/100\n",
      "33600/33600 [==============================] - 14s 429us/step - loss: 3.0544e-04 - acc: 1.0000 - val_loss: 0.0704 - val_acc: 0.9876\n",
      "Epoch 61/100\n",
      "33600/33600 [==============================] - 14s 428us/step - loss: 2.3055e-04 - acc: 1.0000 - val_loss: 0.0753 - val_acc: 0.9879\n",
      "Epoch 62/100\n",
      "33600/33600 [==============================] - 14s 429us/step - loss: 4.2810e-04 - acc: 0.9999 - val_loss: 0.0727 - val_acc: 0.9879\n",
      "Epoch 63/100\n",
      "33600/33600 [==============================] - 15s 434us/step - loss: 2.3263e-04 - acc: 0.9999 - val_loss: 0.0757 - val_acc: 0.9876\n",
      "Epoch 64/100\n",
      "33600/33600 [==============================] - 15s 432us/step - loss: 8.0246e-04 - acc: 0.9997 - val_loss: 0.0764 - val_acc: 0.9875\n",
      "Epoch 65/100\n",
      "33600/33600 [==============================] - 14s 429us/step - loss: 4.2627e-04 - acc: 0.9999 - val_loss: 0.0773 - val_acc: 0.9874\n",
      "Epoch 66/100\n",
      "33600/33600 [==============================] - 14s 428us/step - loss: 0.0019 - acc: 0.9993 - val_loss: 0.0757 - val_acc: 0.9874\n",
      "Epoch 67/100\n",
      "33600/33600 [==============================] - 14s 431us/step - loss: 0.0029 - acc: 0.9993 - val_loss: 0.0732 - val_acc: 0.9881\n",
      "Epoch 68/100\n",
      "33600/33600 [==============================] - 14s 429us/step - loss: 0.0010 - acc: 0.9997 - val_loss: 0.0685 - val_acc: 0.9885\n",
      "Epoch 69/100\n",
      "33600/33600 [==============================] - 14s 425us/step - loss: 0.0026 - acc: 0.9992 - val_loss: 0.0687 - val_acc: 0.9880\n",
      "Epoch 70/100\n",
      "33600/33600 [==============================] - 14s 427us/step - loss: 0.0019 - acc: 0.9994 - val_loss: 0.0734 - val_acc: 0.9867\n",
      "Epoch 71/100\n",
      "33600/33600 [==============================] - 14s 431us/step - loss: 0.0018 - acc: 0.9994 - val_loss: 0.0675 - val_acc: 0.9875\n",
      "Epoch 72/100\n",
      "33600/33600 [==============================] - 14s 429us/step - loss: 5.4186e-04 - acc: 0.9999 - val_loss: 0.0695 - val_acc: 0.9869\n",
      "Epoch 73/100\n",
      "33600/33600 [==============================] - 14s 426us/step - loss: 3.0873e-04 - acc: 1.0000 - val_loss: 0.0726 - val_acc: 0.9881\n",
      "Epoch 74/100\n",
      "33600/33600 [==============================] - 14s 427us/step - loss: 0.0023 - acc: 0.9993 - val_loss: 0.0752 - val_acc: 0.9868\n",
      "Epoch 75/100\n",
      "33600/33600 [==============================] - 14s 429us/step - loss: 6.6203e-04 - acc: 0.9999 - val_loss: 0.0717 - val_acc: 0.9871\n",
      "Epoch 76/100\n",
      "33600/33600 [==============================] - 15s 432us/step - loss: 5.5688e-04 - acc: 0.9999 - val_loss: 0.0698 - val_acc: 0.9879\n",
      "Epoch 77/100\n",
      "33600/33600 [==============================] - 14s 426us/step - loss: 6.9441e-04 - acc: 0.9997 - val_loss: 0.0708 - val_acc: 0.9880\n",
      "Epoch 78/100\n",
      "33600/33600 [==============================] - 14s 427us/step - loss: 1.8968e-04 - acc: 1.0000 - val_loss: 0.0702 - val_acc: 0.9882\n",
      "Epoch 79/100\n",
      "33600/33600 [==============================] - 14s 430us/step - loss: 1.7826e-04 - acc: 1.0000 - val_loss: 0.0737 - val_acc: 0.9873\n",
      "Epoch 80/100\n",
      "33600/33600 [==============================] - 14s 431us/step - loss: 2.1278e-04 - acc: 0.9999 - val_loss: 0.0717 - val_acc: 0.9883\n",
      "Epoch 81/100\n",
      "33600/33600 [==============================] - 15s 432us/step - loss: 6.7688e-05 - acc: 1.0000 - val_loss: 0.0734 - val_acc: 0.9879\n",
      "Epoch 82/100\n",
      "33600/33600 [==============================] - 14s 430us/step - loss: 5.1496e-05 - acc: 1.0000 - val_loss: 0.0738 - val_acc: 0.9882\n",
      "Epoch 83/100\n",
      "33600/33600 [==============================] - 14s 429us/step - loss: 6.0912e-04 - acc: 0.9999 - val_loss: 0.0708 - val_acc: 0.9873\n",
      "Epoch 84/100\n",
      "33600/33600 [==============================] - 15s 432us/step - loss: 3.9960e-04 - acc: 0.9999 - val_loss: 0.0757 - val_acc: 0.9874\n",
      "Epoch 85/100\n",
      "33600/33600 [==============================] - 14s 429us/step - loss: 0.0011 - acc: 0.9996 - val_loss: 0.0756 - val_acc: 0.9868\n",
      "Epoch 86/100\n",
      "33600/33600 [==============================] - 14s 428us/step - loss: 0.0037 - acc: 0.9988 - val_loss: 0.0702 - val_acc: 0.9874\n",
      "Epoch 87/100\n",
      "33600/33600 [==============================] - 14s 429us/step - loss: 8.8300e-04 - acc: 0.9997 - val_loss: 0.0678 - val_acc: 0.9882\n",
      "Epoch 88/100\n",
      "33600/33600 [==============================] - 14s 431us/step - loss: 4.4424e-04 - acc: 0.9999 - val_loss: 0.0707 - val_acc: 0.9887\n",
      "Epoch 89/100\n",
      "33600/33600 [==============================] - 15s 433us/step - loss: 7.5703e-04 - acc: 0.9999 - val_loss: 0.0724 - val_acc: 0.9885\n",
      "Epoch 90/100\n",
      "33600/33600 [==============================] - 14s 428us/step - loss: 7.7362e-04 - acc: 0.9999 - val_loss: 0.0796 - val_acc: 0.9876\n",
      "Epoch 91/100\n",
      "33600/33600 [==============================] - 14s 427us/step - loss: 0.0017 - acc: 0.9995 - val_loss: 0.0721 - val_acc: 0.9875\n",
      "Epoch 92/100\n",
      "33600/33600 [==============================] - 15s 433us/step - loss: 8.1679e-04 - acc: 0.9999 - val_loss: 0.0673 - val_acc: 0.9882\n",
      "Epoch 93/100\n",
      "33600/33600 [==============================] - 15s 432us/step - loss: 7.4954e-04 - acc: 0.9998 - val_loss: 0.0760 - val_acc: 0.9882\n",
      "Epoch 94/100\n",
      "33600/33600 [==============================] - 14s 428us/step - loss: 1.7690e-04 - acc: 1.0000 - val_loss: 0.0724 - val_acc: 0.9875\n",
      "Epoch 95/100\n",
      "33600/33600 [==============================] - 14s 431us/step - loss: 3.3042e-04 - acc: 0.9999 - val_loss: 0.0774 - val_acc: 0.9876\n",
      "Epoch 96/100\n",
      "33600/33600 [==============================] - 15s 434us/step - loss: 0.0058 - acc: 0.9989 - val_loss: 0.0911 - val_acc: 0.9821\n",
      "Epoch 97/100\n",
      "33600/33600 [==============================] - 15s 443us/step - loss: 0.0019 - acc: 0.9995 - val_loss: 0.0705 - val_acc: 0.9877\n",
      "Epoch 98/100\n",
      "33600/33600 [==============================] - 15s 436us/step - loss: 3.0757e-04 - acc: 1.0000 - val_loss: 0.0692 - val_acc: 0.9887\n",
      "Epoch 99/100\n",
      "33600/33600 [==============================] - 15s 439us/step - loss: 1.3352e-04 - acc: 1.0000 - val_loss: 0.0729 - val_acc: 0.9881\n",
      "Epoch 100/100\n",
      "33600/33600 [==============================] - 15s 439us/step - loss: 9.1103e-05 - acc: 1.0000 - val_loss: 0.0732 - val_acc: 0.9881\n"
     ]
    }
   ],
   "source": [
    "history = VGG.fit(X_train,y_train,batch_size=64, epochs=100, validation_split=0.2,verbose=1)"
   ]
  },
  {
   "cell_type": "code",
   "execution_count": 0,
   "metadata": {
    "colab": {
     "base_uri": "https://localhost:8080/",
     "height": 590
    },
    "colab_type": "code",
    "id": "vgv8aR2NZ-vk",
    "outputId": "1200f967-77b1-4e87-95c8-d1fe33ebd5fe"
   },
   "outputs": [
    {
     "name": "stdout",
     "output_type": "stream",
     "text": [
      "dict_keys(['val_loss', 'val_acc', 'loss', 'acc'])\n"
     ]
    },
    {
     "data": {
      "image/png": "[encoded data removed]",
      "text/plain": [
       "<Figure size 432x288 with 1 Axes>"
      ]
     },
     "metadata": {
      "tags": []
     },
     "output_type": "display_data"
    },
    {
     "data": {
      "image/png": "[encoded data removed]",
      "text/plain": [
       "<Figure size 432x288 with 1 Axes>"
      ]
     },
     "metadata": {
      "tags": []
     },
     "output_type": "display_data"
    }
   ],
   "source": [
    "# show the accuracy and loss \n",
    "print(history.history.keys())\n",
    "# accuracy\n",
    "plt.plot(history.history['acc'])\n",
    "plt.plot(history.history['val_acc'])\n",
    "plt.title('model accuracy')\n",
    "plt.ylabel('accuracy')\n",
    "plt.xlabel('epoch')\n",
    "plt.legend(['train', 'test'], loc='upper left')\n",
    "plt.show()\n",
    "\n",
    "# loss\n",
    "plt.plot(history.history['loss'])\n",
    "plt.plot(history.history['val_loss'])\n",
    "plt.title('model loss')\n",
    "plt.ylabel('loss')\n",
    "plt.xlabel('epoch')\n",
    "plt.legend(['train', 'test'], loc='upper left')\n",
    "plt.show()"
   ]
  },
  {
   "cell_type": "markdown",
   "metadata": {
    "colab_type": "text",
    "id": "DPx_fGfQZ-vn"
   },
   "source": []
  },
  {
   "cell_type": "markdown",
   "metadata": {
    "colab_type": "text",
    "id": "oYZdwy4BS8xV"
   },
   "source": [
    "##### Step6:Predict (100 epoch)"
   ]
  },
  {
   "cell_type": "code",
   "execution_count": 0,
   "metadata": {
    "colab": {},
    "colab_type": "code",
    "id": "0De7qzjvS8xV"
   },
   "outputs": [],
   "source": [
    "ret = VGG.predict(X_test)"
   ]
  },
  {
   "cell_type": "code",
   "execution_count": 0,
   "metadata": {
    "colab": {},
    "colab_type": "code",
    "id": "gu9Oz6ixS8xX"
   },
   "outputs": [],
   "source": [
    "results = np.argmax(ret,axis = 1)"
   ]
  },
  {
   "cell_type": "markdown",
   "metadata": {
    "colab_type": "text",
    "id": "8x6xc0TcS8xa"
   },
   "source": [
    "##### Step7:Submit (100 epoch)"
   ]
  },
  {
   "cell_type": "code",
   "execution_count": 0,
   "metadata": {
    "colab": {},
    "colab_type": "code",
    "id": "4LmUgf67S8xb"
   },
   "outputs": [],
   "source": [
    "df = {'ImageId':sample['ImageId'],\n",
    "     'Label':results }\n",
    "\n",
    "submission = pd.DataFrame(df)"
   ]
  },
  {
   "cell_type": "code",
   "execution_count": 0,
   "metadata": {
    "colab": {},
    "colab_type": "code",
    "id": "sYhDZ4GXS8xd"
   },
   "outputs": [],
   "source": [
    "submission.to_csv('submission.csv', index=False)"
   ]
  }
 ],
 "metadata": {
  "accelerator": "GPU",
  "colab": {
   "collapsed_sections": [],
   "name": "MNIST CNN with VGG16.ipynb",
   "provenance": [],
   "toc_visible": true
  },
  "kernelspec": {
   "display_name": "Python 3",
   "language": "python",
   "name": "python3"
  },
  "language_info": {
   "codemirror_mode": {
    "name": "ipython",
    "version": 3
   },
   "file_extension": ".py",
   "mimetype": "text/x-python",
   "name": "python",
   "nbconvert_exporter": "python",
   "pygments_lexer": "ipython3",
   "version": "3.7.4"
  }
 },
 "nbformat": 4,
 "nbformat_minor": 1
}
