{
 "cells": [
  {
   "cell_type": "markdown",
   "metadata": {
    "colab_type": "text",
    "id": "YHOlCa6TyagC"
   },
   "source": [
    "# Load Libraries dan Mount Data Google Drive"
   ]
  },
  {
   "cell_type": "code",
   "execution_count": 0,
   "metadata": {
    "_cell_guid": "b1076dfc-b9ad-4769-8c92-a6c4dae69d19",
    "_uuid": "8f2839f25d086af736a60e9eeb907d3b93b6e0e5",
    "colab": {
     "base_uri": "https://localhost:8080/",
     "height": 122
    },
    "colab_type": "code",
    "id": "nR1-sIsv_Oxq",
    "outputId": "1b17733d-0623-46ee-d5b7-45441defff46"
   },
   "outputs": [
    {
     "name": "stdout",
     "output_type": "stream",
     "text": [
      "Go to this URL in a browser: https://accounts.google.com/o/oauth2/auth?client_id=947318989803-6bn6qk8qdgf4n4g3pfee6491hc0brc4i.apps.googleusercontent.com&redirect_uri=urn%3aietf%3awg%3aoauth%3a2.0%3aoob&response_type=code&scope=email%20https%3a%2f%2fwww.googleapis.com%2fauth%2fdocs.test%20https%3a%2f%2fwww.googleapis.com%2fauth%2fdrive%20https%3a%2f%2fwww.googleapis.com%2fauth%2fdrive.photos.readonly%20https%3a%2f%2fwww.googleapis.com%2fauth%2fpeopleapi.readonly\n",
      "\n",
      "Enter your authorization code:\n",
      "··········\n",
      "Mounted at /content/drive\n"
     ]
    }
   ],
   "source": [
    "# This Python 3 environment comes with many helpful analytics libraries installed\n",
    "# It is defined by the kaggle/python docker image: https://github.com/kaggle/docker-python\n",
    "# For example, here's several helpful packages to load in \n",
    "\n",
    "import numpy as np # linear algebra\n",
    "import pandas as pd # data processing, CSV file I/O (e.g. pd.read_csv)\n",
    "\n",
    "import warnings\n",
    "warnings.filterwarnings('ignore')\n",
    "# Input data files are available in the \"../input/\" directory.\n",
    "# For example, running this (by clicking run or pressing Shift+Enter) will list all files under the input directory\n",
    "\n",
    "import os\n",
    "# for dirname, _, filenames in os.walk('/kaggle/input'):\n",
    "#     for filename in filenames:\n",
    "#         print(os.path.join(dirname, filename))\n",
    "#os.listdir('../input/digit-recognizer')\n",
    "# Any results you write to the current directory are saved as output.\n",
    "\n",
    "from google.colab import drive\n",
    "drive.mount('/content/drive')"
   ]
  },
  {
   "cell_type": "markdown",
   "metadata": {
    "colab_type": "text",
    "id": "xqTbxbMryj0H"
   },
   "source": [
    "# Load Data"
   ]
  },
  {
   "cell_type": "code",
   "execution_count": 0,
   "metadata": {
    "_cell_guid": "79c7e3d0-c299-4dcb-8224-4455121ee9b0",
    "_uuid": "d629ff2d2480ee46fbb7e2d37f6b5fab8052498a",
    "colab": {
     "base_uri": "https://localhost:8080/",
     "height": 68
    },
    "colab_type": "code",
    "id": "60zdbYOr_Oxu",
    "outputId": "093d0a6f-8a38-4c46-f584-15b45ea9a784"
   },
   "outputs": [
    {
     "name": "stdout",
     "output_type": "stream",
     "text": [
      "(42000, 784)\n",
      "(42000,)\n",
      "(28000, 784)\n"
     ]
    }
   ],
   "source": [
    "PATH = '/content/drive/My Drive/Colab Notebooks/Tugas 2 Deep Learning/Dataset'\n",
    "\n",
    "df_train = pd.read_csv(os.path.join(PATH, 'train.csv'))\n",
    "train_y = df_train['label'].values\n",
    "train_x = df_train.drop(['label'], axis=1).values\n",
    "\n",
    "\n",
    "df_test = pd.read_csv(os.path.join(PATH, 'test.csv'))\n",
    "test_x = df_test.values\n",
    "\n",
    "\n",
    "print(train_x.shape)\n",
    "print(train_y.shape)\n",
    "print(test_x.shape)"
   ]
  },
  {
   "cell_type": "markdown",
   "metadata": {
    "colab_type": "text",
    "id": "YEDSXm--yqYp"
   },
   "source": [
    "# Reshape/Resize Data"
   ]
  },
  {
   "cell_type": "code",
   "execution_count": 0,
   "metadata": {
    "colab": {},
    "colab_type": "code",
    "id": "eVIv7naf_Oxx"
   },
   "outputs": [],
   "source": [
    "IMG_SIZE = 32"
   ]
  },
  {
   "cell_type": "code",
   "execution_count": 0,
   "metadata": {
    "colab": {},
    "colab_type": "code",
    "id": "0KciS7dh_Oxz"
   },
   "outputs": [],
   "source": [
    "# resize\n",
    "import cv2\n",
    "\n",
    "def resize(img_array):\n",
    "    tmp = np.empty((img_array.shape[0], IMG_SIZE, IMG_SIZE))\n",
    "\n",
    "    for i in range(len(img_array)):\n",
    "        img = img_array[i].reshape(28, 28).astype('uint8')\n",
    "        img = cv2.resize(img, (IMG_SIZE, IMG_SIZE))\n",
    "        img = img.astype('float32')/255\n",
    "        tmp[i] = img\n",
    "        \n",
    "    return tmp\n",
    "\n",
    "train_x_resize = resize(train_x)\n",
    "test_x_resize = resize(test_x)"
   ]
  },
  {
   "cell_type": "code",
   "execution_count": 0,
   "metadata": {
    "colab": {
     "base_uri": "https://localhost:8080/",
     "height": 51
    },
    "colab_type": "code",
    "id": "k5piyK06_Ox2",
    "outputId": "f0e9dfce-0528-4571-cbb1-3960e6ed2ba9"
   },
   "outputs": [
    {
     "name": "stdout",
     "output_type": "stream",
     "text": [
      "(42000, 32, 32, 3)\n",
      "(28000, 32, 32, 3)\n"
     ]
    }
   ],
   "source": [
    "train_x_final = np.stack((train_x_resize,)*3, axis=-1)\n",
    "test_x_final = np.stack((test_x_resize,)*3, axis=-1)\n",
    "print(train_x_final.shape)\n",
    "print(test_x_final.shape)"
   ]
  },
  {
   "cell_type": "code",
   "execution_count": 0,
   "metadata": {
    "colab": {
     "base_uri": "https://localhost:8080/",
     "height": 97
    },
    "colab_type": "code",
    "id": "Et_PObg8_Ox5",
    "outputId": "d8a6c1e0-8c99-469a-ab74-d1fe7462eadb"
   },
   "outputs": [
    {
     "name": "stderr",
     "output_type": "stream",
     "text": [
      "Using TensorFlow backend.\n"
     ]
    },
    {
     "data": {
      "text/html": [
       "<p style=\"color: red;\">\n",
       "The default version of TensorFlow in Colab will soon switch to TensorFlow 2.x.<br>\n",
       "We recommend you <a href=\"https://www.tensorflow.org/guide/migrate\" target=\"_blank\">upgrade</a> now \n",
       "or ensure your notebook will continue to use TensorFlow 1.x via the <code>%tensorflow_version 1.x</code> magic:\n",
       "<a href=\"https://colab.research.google.com/notebooks/tensorflow_version.ipynb\" target=\"_blank\">more info</a>.</p>\n"
      ],
      "text/plain": [
       "<IPython.core.display.HTML object>"
      ]
     },
     "metadata": {
      "tags": []
     },
     "output_type": "display_data"
    },
    {
     "name": "stdout",
     "output_type": "stream",
     "text": [
      "(42000, 10)\n"
     ]
    }
   ],
   "source": [
    "from keras.utils import to_categorical\n",
    "train_y_final = to_categorical(train_y, num_classes=10)\n",
    "print(train_y_final.shape)"
   ]
  },
  {
   "cell_type": "markdown",
   "metadata": {
    "colab_type": "text",
    "id": "x8acKNjPyxsn"
   },
   "source": [
    "# VGG19 Model"
   ]
  },
  {
   "cell_type": "code",
   "execution_count": 0,
   "metadata": {
    "colab": {
     "base_uri": "https://localhost:8080/",
     "height": 717
    },
    "colab_type": "code",
    "id": "Nvn-J84A_Ox7",
    "outputId": "7c10c5d0-89a3-41ab-f941-b1a9eeeb0541"
   },
   "outputs": [
    {
     "name": "stdout",
     "output_type": "stream",
     "text": [
      "WARNING:tensorflow:From /usr/local/lib/python3.6/dist-packages/keras/backend/tensorflow_backend.py:66: The name tf.get_default_graph is deprecated. Please use tf.compat.v1.get_default_graph instead.\n",
      "\n",
      "WARNING:tensorflow:From /usr/local/lib/python3.6/dist-packages/keras/backend/tensorflow_backend.py:541: The name tf.placeholder is deprecated. Please use tf.compat.v1.placeholder instead.\n",
      "\n",
      "WARNING:tensorflow:From /usr/local/lib/python3.6/dist-packages/keras/backend/tensorflow_backend.py:4432: The name tf.random_uniform is deprecated. Please use tf.random.uniform instead.\n",
      "\n",
      "WARNING:tensorflow:From /usr/local/lib/python3.6/dist-packages/keras/backend/tensorflow_backend.py:4267: The name tf.nn.max_pool is deprecated. Please use tf.nn.max_pool2d instead.\n",
      "\n",
      "Downloading data from https://github.com/fchollet/deep-learning-models/releases/download/v0.1/vgg19_weights_tf_dim_ordering_tf_kernels_notop.h5\n",
      "80142336/80134624 [==============================] - 2s 0us/step\n",
      "WARNING:tensorflow:From /usr/local/lib/python3.6/dist-packages/keras/backend/tensorflow_backend.py:190: The name tf.get_default_session is deprecated. Please use tf.compat.v1.get_default_session instead.\n",
      "\n",
      "WARNING:tensorflow:From /usr/local/lib/python3.6/dist-packages/keras/backend/tensorflow_backend.py:197: The name tf.ConfigProto is deprecated. Please use tf.compat.v1.ConfigProto instead.\n",
      "\n",
      "WARNING:tensorflow:From /usr/local/lib/python3.6/dist-packages/keras/backend/tensorflow_backend.py:203: The name tf.Session is deprecated. Please use tf.compat.v1.Session instead.\n",
      "\n",
      "WARNING:tensorflow:From /usr/local/lib/python3.6/dist-packages/keras/backend/tensorflow_backend.py:207: The name tf.global_variables is deprecated. Please use tf.compat.v1.global_variables instead.\n",
      "\n",
      "WARNING:tensorflow:From /usr/local/lib/python3.6/dist-packages/keras/backend/tensorflow_backend.py:216: The name tf.is_variable_initialized is deprecated. Please use tf.compat.v1.is_variable_initialized instead.\n",
      "\n",
      "WARNING:tensorflow:From /usr/local/lib/python3.6/dist-packages/keras/backend/tensorflow_backend.py:223: The name tf.variables_initializer is deprecated. Please use tf.compat.v1.variables_initializer instead.\n",
      "\n",
      "WARNING:tensorflow:From /usr/local/lib/python3.6/dist-packages/keras/optimizers.py:793: The name tf.train.Optimizer is deprecated. Please use tf.compat.v1.train.Optimizer instead.\n",
      "\n",
      "WARNING:tensorflow:From /usr/local/lib/python3.6/dist-packages/keras/backend/tensorflow_backend.py:3576: The name tf.log is deprecated. Please use tf.math.log instead.\n",
      "\n",
      "Model: \"sequential_1\"\n",
      "_________________________________________________________________\n",
      "Layer (type)                 Output Shape              Param #   \n",
      "=================================================================\n",
      "vgg19 (Model)                (None, 1, 1, 512)         20024384  \n",
      "_________________________________________________________________\n",
      "flatten_1 (Flatten)          (None, 512)               0         \n",
      "_________________________________________________________________\n",
      "dense_1 (Dense)              (None, 10)                5130      \n",
      "=================================================================\n",
      "Total params: 20,029,514\n",
      "Trainable params: 20,029,514\n",
      "Non-trainable params: 0\n",
      "_________________________________________________________________\n"
     ]
    }
   ],
   "source": [
    "# models \n",
    "from keras.models import Sequential\n",
    "from keras.applications import VGG19\n",
    "from keras.layers import Dense, Flatten\n",
    "\n",
    "vgg19 = VGG19(weights = 'imagenet', \n",
    "              include_top = False,\n",
    "              input_shape=(IMG_SIZE, IMG_SIZE, 3)\n",
    "              )\n",
    "\n",
    "model = Sequential()\n",
    "model.add(vgg19)\n",
    "model.add(Flatten())\n",
    "model.add(Dense(10, activation='softmax'))\n",
    "model.compile(loss='categorical_crossentropy', \n",
    "              optimizer='sgd', \n",
    "              metrics=['accuracy'])\n",
    "\n",
    "model.summary()"
   ]
  },
  {
   "cell_type": "code",
   "execution_count": 0,
   "metadata": {
    "colab": {
     "base_uri": "https://localhost:8080/",
     "height": 85
    },
    "colab_type": "code",
    "id": "vA3WL80W_Ox-",
    "outputId": "ec07ba23-a868-4f93-90d7-d6efaa80bbac"
   },
   "outputs": [
    {
     "name": "stdout",
     "output_type": "stream",
     "text": [
      "(33600, 32, 32, 3)\n",
      "(8400, 32, 32, 3)\n",
      "(33600, 10)\n",
      "(8400, 10)\n"
     ]
    }
   ],
   "source": [
    "from sklearn.model_selection import train_test_split\n",
    "x_train, x_test, y_train, y_test = train_test_split(train_x_final, train_y_final, test_size=0.2, random_state=2019)\n",
    "print(x_train.shape)\n",
    "print(x_test.shape)\n",
    "print(y_train.shape)\n",
    "print(y_test.shape)"
   ]
  },
  {
   "cell_type": "code",
   "execution_count": 0,
   "metadata": {
    "colab": {},
    "colab_type": "code",
    "id": "PmGDz4FE_OyA"
   },
   "outputs": [],
   "source": [
    "# callback\n",
    "from keras.callbacks import ModelCheckpoint, EarlyStopping\n",
    "#es = EarlyStopping(monitor='val_acc', verbose=1, patience=5)\n",
    "mc = ModelCheckpoint(filepath='mnist-vgg19.h5', verbose=1, monitor='val_acc')\n",
    "#cb = [es, mc]\n",
    "cb = [mc]\n"
   ]
  },
  {
   "cell_type": "markdown",
   "metadata": {
    "colab_type": "text",
    "id": "EUn9H0izNFwC"
   },
   "source": [
    "## **Epoch 100**"
   ]
  },
  {
   "cell_type": "code",
   "execution_count": 0,
   "metadata": {
    "colab": {
     "base_uri": "https://localhost:8080/",
     "height": 1000
    },
    "colab_type": "code",
    "id": "PFklCOzV_OyD",
    "outputId": "07b5394e-62f0-4340-f35b-c6d70fda2d5a",
    "scrolled": false
   },
   "outputs": [
    {
     "name": "stdout",
     "output_type": "stream",
     "text": [
      "WARNING:tensorflow:From /usr/local/lib/python3.6/dist-packages/tensorflow_core/python/ops/math_grad.py:1424: where (from tensorflow.python.ops.array_ops) is deprecated and will be removed in a future version.\n",
      "Instructions for updating:\n",
      "Use tf.where in 2.0, which has the same broadcast rule as np.where\n",
      "WARNING:tensorflow:From /usr/local/lib/python3.6/dist-packages/keras/backend/tensorflow_backend.py:1033: The name tf.assign_add is deprecated. Please use tf.compat.v1.assign_add instead.\n",
      "\n",
      "WARNING:tensorflow:From /usr/local/lib/python3.6/dist-packages/keras/backend/tensorflow_backend.py:1020: The name tf.assign is deprecated. Please use tf.compat.v1.assign instead.\n",
      "\n",
      "Train on 33600 samples, validate on 8400 samples\n",
      "Epoch 1/100\n",
      "33600/33600 [==============================] - 27s 791us/step - loss: 0.4929 - acc: 0.8393 - val_loss: 0.0600 - val_acc: 0.9819\n",
      "\n",
      "Epoch 00001: saving model to mnist-vgg19.h5\n",
      "Epoch 2/100\n",
      "33600/33600 [==============================] - 21s 627us/step - loss: 0.0462 - acc: 0.9857 - val_loss: 0.0555 - val_acc: 0.9821\n",
      "\n",
      "Epoch 00002: saving model to mnist-vgg19.h5\n",
      "Epoch 3/100\n",
      "33600/33600 [==============================] - 21s 614us/step - loss: 0.0327 - acc: 0.9902 - val_loss: 0.0322 - val_acc: 0.9899\n",
      "\n",
      "Epoch 00003: saving model to mnist-vgg19.h5\n",
      "Epoch 4/100\n",
      "33600/33600 [==============================] - 20s 608us/step - loss: 0.0248 - acc: 0.9921 - val_loss: 0.0405 - val_acc: 0.9888\n",
      "\n",
      "Epoch 00004: saving model to mnist-vgg19.h5\n",
      "Epoch 5/100\n",
      "33600/33600 [==============================] - 21s 613us/step - loss: 0.0195 - acc: 0.9937 - val_loss: 0.0278 - val_acc: 0.9920\n",
      "\n",
      "Epoch 00005: saving model to mnist-vgg19.h5\n",
      "Epoch 6/100\n",
      "33600/33600 [==============================] - 21s 617us/step - loss: 0.0173 - acc: 0.9946 - val_loss: 0.0262 - val_acc: 0.9927\n",
      "\n",
      "Epoch 00006: saving model to mnist-vgg19.h5\n",
      "Epoch 7/100\n",
      "33600/33600 [==============================] - 21s 617us/step - loss: 0.0136 - acc: 0.9957 - val_loss: 0.0286 - val_acc: 0.9915\n",
      "\n",
      "Epoch 00007: saving model to mnist-vgg19.h5\n",
      "Epoch 8/100\n",
      "33600/33600 [==============================] - 21s 611us/step - loss: 0.0112 - acc: 0.9967 - val_loss: 0.0236 - val_acc: 0.9944\n",
      "\n",
      "Epoch 00008: saving model to mnist-vgg19.h5\n",
      "Epoch 9/100\n",
      "33600/33600 [==============================] - 21s 612us/step - loss: 0.0811 - acc: 0.9783 - val_loss: 0.0362 - val_acc: 0.9888\n",
      "\n",
      "Epoch 00009: saving model to mnist-vgg19.h5\n",
      "Epoch 10/100\n",
      "33600/33600 [==============================] - 21s 615us/step - loss: 0.0184 - acc: 0.9941 - val_loss: 0.0243 - val_acc: 0.9930\n",
      "\n",
      "Epoch 00010: saving model to mnist-vgg19.h5\n",
      "Epoch 11/100\n",
      "33600/33600 [==============================] - 21s 614us/step - loss: 0.0134 - acc: 0.9958 - val_loss: 0.0234 - val_acc: 0.9929\n",
      "\n",
      "Epoch 00011: saving model to mnist-vgg19.h5\n",
      "Epoch 12/100\n",
      "33600/33600 [==============================] - 21s 615us/step - loss: 0.0095 - acc: 0.9973 - val_loss: 0.0232 - val_acc: 0.9933\n",
      "\n",
      "Epoch 00012: saving model to mnist-vgg19.h5\n",
      "Epoch 13/100\n",
      "33600/33600 [==============================] - 21s 611us/step - loss: 0.0070 - acc: 0.9983 - val_loss: 0.0257 - val_acc: 0.9939\n",
      "\n",
      "Epoch 00013: saving model to mnist-vgg19.h5\n",
      "Epoch 14/100\n",
      "33600/33600 [==============================] - 21s 611us/step - loss: 0.0066 - acc: 0.9981 - val_loss: 0.0239 - val_acc: 0.9929\n",
      "\n",
      "Epoch 00014: saving model to mnist-vgg19.h5\n",
      "Epoch 15/100\n",
      "33600/33600 [==============================] - 20s 610us/step - loss: 0.0052 - acc: 0.9986 - val_loss: 0.0254 - val_acc: 0.9936\n",
      "\n",
      "Epoch 00015: saving model to mnist-vgg19.h5\n",
      "Epoch 16/100\n",
      "33600/33600 [==============================] - 21s 611us/step - loss: 0.0042 - acc: 0.9987 - val_loss: 0.0269 - val_acc: 0.9937\n",
      "\n",
      "Epoch 00016: saving model to mnist-vgg19.h5\n",
      "Epoch 17/100\n",
      "33600/33600 [==============================] - 20s 608us/step - loss: 0.0035 - acc: 0.9993 - val_loss: 0.0262 - val_acc: 0.9937\n",
      "\n",
      "Epoch 00017: saving model to mnist-vgg19.h5\n",
      "Epoch 18/100\n",
      "33600/33600 [==============================] - 20s 608us/step - loss: 0.0040 - acc: 0.9989 - val_loss: 0.0259 - val_acc: 0.9937\n",
      "\n",
      "Epoch 00018: saving model to mnist-vgg19.h5\n",
      "Epoch 19/100\n",
      "33600/33600 [==============================] - 20s 608us/step - loss: 0.0028 - acc: 0.9993 - val_loss: 0.0252 - val_acc: 0.9943\n",
      "\n",
      "Epoch 00019: saving model to mnist-vgg19.h5\n",
      "Epoch 20/100\n",
      "33600/33600 [==============================] - 20s 610us/step - loss: 0.0024 - acc: 0.9994 - val_loss: 0.0247 - val_acc: 0.9945\n",
      "\n",
      "Epoch 00020: saving model to mnist-vgg19.h5\n",
      "Epoch 21/100\n",
      "33600/33600 [==============================] - 20s 607us/step - loss: 0.0014 - acc: 0.9998 - val_loss: 0.0265 - val_acc: 0.9943\n",
      "\n",
      "Epoch 00021: saving model to mnist-vgg19.h5\n",
      "Epoch 22/100\n",
      "33600/33600 [==============================] - 20s 605us/step - loss: 0.0011 - acc: 0.9999 - val_loss: 0.0274 - val_acc: 0.9945\n",
      "\n",
      "Epoch 00022: saving model to mnist-vgg19.h5\n",
      "Epoch 23/100\n",
      "33600/33600 [==============================] - 20s 604us/step - loss: 0.0011 - acc: 0.9998 - val_loss: 0.0278 - val_acc: 0.9943\n",
      "\n",
      "Epoch 00023: saving model to mnist-vgg19.h5\n",
      "Epoch 24/100\n",
      "33600/33600 [==============================] - 20s 602us/step - loss: 8.1332e-04 - acc: 0.9999 - val_loss: 0.0288 - val_acc: 0.9942\n",
      "\n",
      "Epoch 00024: saving model to mnist-vgg19.h5\n",
      "Epoch 25/100\n",
      "33600/33600 [==============================] - 20s 600us/step - loss: 6.3377e-04 - acc: 0.9999 - val_loss: 0.0298 - val_acc: 0.9943\n",
      "\n",
      "Epoch 00025: saving model to mnist-vgg19.h5\n",
      "Epoch 26/100\n",
      "33600/33600 [==============================] - 20s 601us/step - loss: 5.9425e-04 - acc: 0.9999 - val_loss: 0.0316 - val_acc: 0.9942\n",
      "\n",
      "Epoch 00026: saving model to mnist-vgg19.h5\n",
      "Epoch 27/100\n",
      "33600/33600 [==============================] - 20s 600us/step - loss: 5.2764e-04 - acc: 0.9999 - val_loss: 0.0319 - val_acc: 0.9939\n",
      "\n",
      "Epoch 00027: saving model to mnist-vgg19.h5\n",
      "Epoch 28/100\n",
      "33600/33600 [==============================] - 20s 600us/step - loss: 4.6784e-04 - acc: 0.9999 - val_loss: 0.0321 - val_acc: 0.9943\n",
      "\n",
      "Epoch 00028: saving model to mnist-vgg19.h5\n",
      "Epoch 29/100\n",
      "33600/33600 [==============================] - 20s 599us/step - loss: 4.2162e-04 - acc: 0.9999 - val_loss: 0.0344 - val_acc: 0.9937\n",
      "\n",
      "Epoch 00029: saving model to mnist-vgg19.h5\n",
      "Epoch 30/100\n",
      "33600/33600 [==============================] - 20s 599us/step - loss: 3.9024e-04 - acc: 0.9999 - val_loss: 0.0371 - val_acc: 0.9933\n",
      "\n",
      "Epoch 00030: saving model to mnist-vgg19.h5\n",
      "Epoch 31/100\n",
      "33600/33600 [==============================] - 20s 597us/step - loss: 4.4402e-04 - acc: 0.9999 - val_loss: 0.0335 - val_acc: 0.9942\n",
      "\n",
      "Epoch 00031: saving model to mnist-vgg19.h5\n",
      "Epoch 32/100\n",
      "33600/33600 [==============================] - 20s 596us/step - loss: 3.2587e-04 - acc: 0.9999 - val_loss: 0.0341 - val_acc: 0.9938\n",
      "\n",
      "Epoch 00032: saving model to mnist-vgg19.h5\n",
      "Epoch 33/100\n",
      "33600/33600 [==============================] - 20s 598us/step - loss: 3.1563e-04 - acc: 0.9999 - val_loss: 0.0351 - val_acc: 0.9942\n",
      "\n",
      "Epoch 00033: saving model to mnist-vgg19.h5\n",
      "Epoch 34/100\n",
      "33600/33600 [==============================] - 20s 596us/step - loss: 2.7238e-04 - acc: 0.9999 - val_loss: 0.0357 - val_acc: 0.9944\n",
      "\n",
      "Epoch 00034: saving model to mnist-vgg19.h5\n",
      "Epoch 35/100\n",
      "33600/33600 [==============================] - 20s 597us/step - loss: 2.6332e-04 - acc: 0.9999 - val_loss: 0.0352 - val_acc: 0.9942\n",
      "\n",
      "Epoch 00035: saving model to mnist-vgg19.h5\n",
      "Epoch 36/100\n",
      "33600/33600 [==============================] - 20s 596us/step - loss: 2.4367e-04 - acc: 0.9999 - val_loss: 0.0352 - val_acc: 0.9942\n",
      "\n",
      "Epoch 00036: saving model to mnist-vgg19.h5\n",
      "Epoch 37/100\n",
      "33600/33600 [==============================] - 20s 596us/step - loss: 2.2243e-04 - acc: 0.9999 - val_loss: 0.0353 - val_acc: 0.9942\n",
      "\n",
      "Epoch 00037: saving model to mnist-vgg19.h5\n",
      "Epoch 38/100\n",
      "33600/33600 [==============================] - 20s 597us/step - loss: 1.9792e-04 - acc: 0.9999 - val_loss: 0.0363 - val_acc: 0.9942\n",
      "\n",
      "Epoch 00038: saving model to mnist-vgg19.h5\n",
      "Epoch 39/100\n",
      "33600/33600 [==============================] - 20s 599us/step - loss: 1.8928e-04 - acc: 1.0000 - val_loss: 0.0363 - val_acc: 0.9943\n",
      "\n",
      "Epoch 00039: saving model to mnist-vgg19.h5\n",
      "Epoch 40/100\n",
      "33600/33600 [==============================] - 20s 603us/step - loss: 1.6207e-04 - acc: 1.0000 - val_loss: 0.0367 - val_acc: 0.9940\n",
      "\n",
      "Epoch 00040: saving model to mnist-vgg19.h5\n",
      "Epoch 41/100\n",
      "33600/33600 [==============================] - 20s 598us/step - loss: 1.6428e-04 - acc: 1.0000 - val_loss: 0.0371 - val_acc: 0.9942\n",
      "\n",
      "Epoch 00041: saving model to mnist-vgg19.h5\n",
      "Epoch 42/100\n",
      "33600/33600 [==============================] - 20s 596us/step - loss: 1.5251e-04 - acc: 1.0000 - val_loss: 0.0376 - val_acc: 0.9942\n",
      "\n",
      "Epoch 00042: saving model to mnist-vgg19.h5\n",
      "Epoch 43/100\n",
      "33600/33600 [==============================] - 20s 596us/step - loss: 1.3403e-04 - acc: 1.0000 - val_loss: 0.0376 - val_acc: 0.9942\n",
      "\n",
      "Epoch 00043: saving model to mnist-vgg19.h5\n",
      "Epoch 44/100\n",
      "33600/33600 [==============================] - 20s 595us/step - loss: 1.3096e-04 - acc: 1.0000 - val_loss: 0.0385 - val_acc: 0.9942\n",
      "\n",
      "Epoch 00044: saving model to mnist-vgg19.h5\n",
      "Epoch 45/100\n",
      "33600/33600 [==============================] - 20s 595us/step - loss: 1.1635e-04 - acc: 1.0000 - val_loss: 0.0392 - val_acc: 0.9942\n",
      "\n",
      "Epoch 00045: saving model to mnist-vgg19.h5\n",
      "Epoch 46/100\n",
      "33600/33600 [==============================] - 20s 595us/step - loss: 1.0107e-04 - acc: 1.0000 - val_loss: 0.0386 - val_acc: 0.9942\n",
      "\n",
      "Epoch 00046: saving model to mnist-vgg19.h5\n",
      "Epoch 47/100\n",
      "33600/33600 [==============================] - 20s 595us/step - loss: 9.2375e-05 - acc: 1.0000 - val_loss: 0.0386 - val_acc: 0.9942\n",
      "\n",
      "Epoch 00047: saving model to mnist-vgg19.h5\n",
      "Epoch 48/100\n",
      "33600/33600 [==============================] - 20s 596us/step - loss: 1.0177e-04 - acc: 1.0000 - val_loss: 0.0389 - val_acc: 0.9942\n",
      "\n",
      "Epoch 00048: saving model to mnist-vgg19.h5\n",
      "Epoch 49/100\n",
      "33600/33600 [==============================] - 20s 594us/step - loss: 8.0896e-05 - acc: 1.0000 - val_loss: 0.0391 - val_acc: 0.9942\n",
      "\n",
      "Epoch 00049: saving model to mnist-vgg19.h5\n",
      "Epoch 50/100\n",
      "33600/33600 [==============================] - 20s 595us/step - loss: 8.8289e-05 - acc: 1.0000 - val_loss: 0.0397 - val_acc: 0.9942\n",
      "\n",
      "Epoch 00050: saving model to mnist-vgg19.h5\n",
      "Epoch 51/100\n",
      "33600/33600 [==============================] - 20s 595us/step - loss: 6.6620e-05 - acc: 1.0000 - val_loss: 0.0402 - val_acc: 0.9940\n",
      "\n",
      "Epoch 00051: saving model to mnist-vgg19.h5\n",
      "Epoch 52/100\n",
      "33600/33600 [==============================] - 20s 597us/step - loss: 6.7532e-05 - acc: 1.0000 - val_loss: 0.0399 - val_acc: 0.9942\n",
      "\n",
      "Epoch 00052: saving model to mnist-vgg19.h5\n",
      "Epoch 53/100\n",
      "33600/33600 [==============================] - 20s 597us/step - loss: 6.5672e-05 - acc: 1.0000 - val_loss: 0.0406 - val_acc: 0.9940\n",
      "\n",
      "Epoch 00053: saving model to mnist-vgg19.h5\n",
      "Epoch 54/100\n",
      "33600/33600 [==============================] - 20s 597us/step - loss: 5.6529e-05 - acc: 1.0000 - val_loss: 0.0403 - val_acc: 0.9942\n",
      "\n",
      "Epoch 00054: saving model to mnist-vgg19.h5\n",
      "Epoch 55/100\n",
      "33600/33600 [==============================] - 20s 593us/step - loss: 5.1129e-05 - acc: 1.0000 - val_loss: 0.0404 - val_acc: 0.9942\n",
      "\n",
      "Epoch 00055: saving model to mnist-vgg19.h5\n",
      "Epoch 56/100\n",
      "33600/33600 [==============================] - 20s 595us/step - loss: 5.0919e-05 - acc: 1.0000 - val_loss: 0.0407 - val_acc: 0.9942\n",
      "\n",
      "Epoch 00056: saving model to mnist-vgg19.h5\n",
      "Epoch 57/100\n",
      "33600/33600 [==============================] - 20s 597us/step - loss: 4.6452e-05 - acc: 1.0000 - val_loss: 0.0409 - val_acc: 0.9942\n",
      "\n",
      "Epoch 00057: saving model to mnist-vgg19.h5\n",
      "Epoch 58/100\n",
      "33600/33600 [==============================] - 20s 596us/step - loss: 4.4961e-05 - acc: 1.0000 - val_loss: 0.0411 - val_acc: 0.9942\n",
      "\n",
      "Epoch 00058: saving model to mnist-vgg19.h5\n",
      "Epoch 59/100\n",
      "33600/33600 [==============================] - 20s 596us/step - loss: 4.2647e-05 - acc: 1.0000 - val_loss: 0.0410 - val_acc: 0.9943\n",
      "\n",
      "Epoch 00059: saving model to mnist-vgg19.h5\n",
      "Epoch 60/100\n",
      "33600/33600 [==============================] - 20s 599us/step - loss: 3.8686e-05 - acc: 1.0000 - val_loss: 0.0411 - val_acc: 0.9942\n",
      "\n",
      "Epoch 00060: saving model to mnist-vgg19.h5\n",
      "Epoch 61/100\n",
      "33600/33600 [==============================] - 20s 599us/step - loss: 3.6765e-05 - acc: 1.0000 - val_loss: 0.0417 - val_acc: 0.9942\n",
      "\n",
      "Epoch 00061: saving model to mnist-vgg19.h5\n",
      "Epoch 62/100\n",
      "33600/33600 [==============================] - 20s 595us/step - loss: 3.4804e-05 - acc: 1.0000 - val_loss: 0.0419 - val_acc: 0.9942\n",
      "\n",
      "Epoch 00062: saving model to mnist-vgg19.h5\n",
      "Epoch 63/100\n",
      "33600/33600 [==============================] - 20s 595us/step - loss: 3.4058e-05 - acc: 1.0000 - val_loss: 0.0418 - val_acc: 0.9942\n",
      "\n",
      "Epoch 00063: saving model to mnist-vgg19.h5\n",
      "Epoch 64/100\n",
      "33600/33600 [==============================] - 20s 595us/step - loss: 3.0010e-05 - acc: 1.0000 - val_loss: 0.0419 - val_acc: 0.9942\n",
      "\n",
      "Epoch 00064: saving model to mnist-vgg19.h5\n",
      "Epoch 65/100\n",
      "33600/33600 [==============================] - 20s 595us/step - loss: 3.3719e-05 - acc: 1.0000 - val_loss: 0.0426 - val_acc: 0.9940\n",
      "\n",
      "Epoch 00065: saving model to mnist-vgg19.h5\n",
      "Epoch 66/100\n",
      "33600/33600 [==============================] - 20s 595us/step - loss: 2.8812e-05 - acc: 1.0000 - val_loss: 0.0424 - val_acc: 0.9942\n",
      "\n",
      "Epoch 00066: saving model to mnist-vgg19.h5\n",
      "Epoch 67/100\n",
      "33600/33600 [==============================] - 20s 595us/step - loss: 2.9570e-05 - acc: 1.0000 - val_loss: 0.0426 - val_acc: 0.9942\n",
      "\n",
      "Epoch 00067: saving model to mnist-vgg19.h5\n",
      "Epoch 68/100\n",
      "33600/33600 [==============================] - 20s 594us/step - loss: 2.7125e-05 - acc: 1.0000 - val_loss: 0.0425 - val_acc: 0.9942\n",
      "\n",
      "Epoch 00068: saving model to mnist-vgg19.h5\n",
      "Epoch 69/100\n",
      "33600/33600 [==============================] - 20s 597us/step - loss: 2.6603e-05 - acc: 1.0000 - val_loss: 0.0427 - val_acc: 0.9942\n",
      "\n",
      "Epoch 00069: saving model to mnist-vgg19.h5\n",
      "Epoch 70/100\n",
      "33600/33600 [==============================] - 20s 596us/step - loss: 2.4368e-05 - acc: 1.0000 - val_loss: 0.0426 - val_acc: 0.9942\n",
      "\n",
      "Epoch 00070: saving model to mnist-vgg19.h5\n",
      "Epoch 71/100\n",
      "33600/33600 [==============================] - 20s 596us/step - loss: 2.5727e-05 - acc: 1.0000 - val_loss: 0.0429 - val_acc: 0.9942\n",
      "\n",
      "Epoch 00071: saving model to mnist-vgg19.h5\n",
      "Epoch 72/100\n",
      "33600/33600 [==============================] - 20s 595us/step - loss: 2.4044e-05 - acc: 1.0000 - val_loss: 0.0429 - val_acc: 0.9942\n",
      "\n",
      "Epoch 00072: saving model to mnist-vgg19.h5\n",
      "Epoch 73/100\n",
      "33600/33600 [==============================] - 20s 594us/step - loss: 2.2901e-05 - acc: 1.0000 - val_loss: 0.0433 - val_acc: 0.9942\n",
      "\n",
      "Epoch 00073: saving model to mnist-vgg19.h5\n",
      "Epoch 74/100\n",
      "33600/33600 [==============================] - 20s 597us/step - loss: 2.1980e-05 - acc: 1.0000 - val_loss: 0.0433 - val_acc: 0.9942\n",
      "\n",
      "Epoch 00074: saving model to mnist-vgg19.h5\n",
      "Epoch 75/100\n",
      "33600/33600 [==============================] - 20s 594us/step - loss: 2.1639e-05 - acc: 1.0000 - val_loss: 0.0434 - val_acc: 0.9940\n",
      "\n",
      "Epoch 00075: saving model to mnist-vgg19.h5\n",
      "Epoch 76/100\n",
      "33600/33600 [==============================] - 20s 593us/step - loss: 2.0632e-05 - acc: 1.0000 - val_loss: 0.0435 - val_acc: 0.9942\n",
      "\n",
      "Epoch 00076: saving model to mnist-vgg19.h5\n",
      "Epoch 77/100\n",
      "33600/33600 [==============================] - 20s 594us/step - loss: 2.0935e-05 - acc: 1.0000 - val_loss: 0.0434 - val_acc: 0.9942\n",
      "\n",
      "Epoch 00077: saving model to mnist-vgg19.h5\n",
      "Epoch 78/100\n",
      "33600/33600 [==============================] - 20s 594us/step - loss: 1.9100e-05 - acc: 1.0000 - val_loss: 0.0438 - val_acc: 0.9942\n",
      "\n",
      "Epoch 00078: saving model to mnist-vgg19.h5\n",
      "Epoch 79/100\n",
      "33600/33600 [==============================] - 20s 593us/step - loss: 1.9901e-05 - acc: 1.0000 - val_loss: 0.0438 - val_acc: 0.9942\n",
      "\n",
      "Epoch 00079: saving model to mnist-vgg19.h5\n",
      "Epoch 80/100\n",
      "33600/33600 [==============================] - 20s 593us/step - loss: 1.8548e-05 - acc: 1.0000 - val_loss: 0.0439 - val_acc: 0.9942\n",
      "\n",
      "Epoch 00080: saving model to mnist-vgg19.h5\n",
      "Epoch 81/100\n",
      "33600/33600 [==============================] - 20s 595us/step - loss: 1.7438e-05 - acc: 1.0000 - val_loss: 0.0439 - val_acc: 0.9942\n",
      "\n",
      "Epoch 00081: saving model to mnist-vgg19.h5\n",
      "Epoch 82/100\n",
      "33600/33600 [==============================] - 20s 594us/step - loss: 1.8595e-05 - acc: 1.0000 - val_loss: 0.0439 - val_acc: 0.9942\n",
      "\n",
      "Epoch 00082: saving model to mnist-vgg19.h5\n",
      "Epoch 83/100\n",
      "33600/33600 [==============================] - 20s 594us/step - loss: 1.6916e-05 - acc: 1.0000 - val_loss: 0.0441 - val_acc: 0.9942\n",
      "\n",
      "Epoch 00083: saving model to mnist-vgg19.h5\n",
      "Epoch 84/100\n",
      "33600/33600 [==============================] - 20s 593us/step - loss: 1.6870e-05 - acc: 1.0000 - val_loss: 0.0446 - val_acc: 0.9942\n",
      "\n",
      "Epoch 00084: saving model to mnist-vgg19.h5\n",
      "Epoch 85/100\n",
      "33600/33600 [==============================] - 20s 593us/step - loss: 1.6691e-05 - acc: 1.0000 - val_loss: 0.0444 - val_acc: 0.9942\n",
      "\n",
      "Epoch 00085: saving model to mnist-vgg19.h5\n",
      "Epoch 86/100\n",
      "33600/33600 [==============================] - 20s 594us/step - loss: 1.5805e-05 - acc: 1.0000 - val_loss: 0.0446 - val_acc: 0.9942\n",
      "\n",
      "Epoch 00086: saving model to mnist-vgg19.h5\n",
      "Epoch 87/100\n",
      "33600/33600 [==============================] - 20s 594us/step - loss: 1.5556e-05 - acc: 1.0000 - val_loss: 0.0443 - val_acc: 0.9940\n",
      "\n",
      "Epoch 00087: saving model to mnist-vgg19.h5\n",
      "Epoch 88/100\n",
      "33600/33600 [==============================] - 20s 593us/step - loss: 1.5058e-05 - acc: 1.0000 - val_loss: 0.0444 - val_acc: 0.9942\n",
      "\n",
      "Epoch 00088: saving model to mnist-vgg19.h5\n",
      "Epoch 89/100\n",
      "33600/33600 [==============================] - 20s 593us/step - loss: 1.5534e-05 - acc: 1.0000 - val_loss: 0.0448 - val_acc: 0.9942\n",
      "\n",
      "Epoch 00089: saving model to mnist-vgg19.h5\n",
      "Epoch 90/100\n",
      "33600/33600 [==============================] - 20s 595us/step - loss: 1.4601e-05 - acc: 1.0000 - val_loss: 0.0446 - val_acc: 0.9942\n",
      "\n",
      "Epoch 00090: saving model to mnist-vgg19.h5\n",
      "Epoch 91/100\n",
      "33600/33600 [==============================] - 20s 599us/step - loss: 1.4539e-05 - acc: 1.0000 - val_loss: 0.0446 - val_acc: 0.9942\n",
      "\n",
      "Epoch 00091: saving model to mnist-vgg19.h5\n",
      "Epoch 92/100\n",
      "33600/33600 [==============================] - 20s 598us/step - loss: 1.3949e-05 - acc: 1.0000 - val_loss: 0.0448 - val_acc: 0.9942\n",
      "\n",
      "Epoch 00092: saving model to mnist-vgg19.h5\n",
      "Epoch 93/100\n",
      "33600/33600 [==============================] - 20s 595us/step - loss: 1.3822e-05 - acc: 1.0000 - val_loss: 0.0450 - val_acc: 0.9942\n",
      "\n",
      "Epoch 00093: saving model to mnist-vgg19.h5\n",
      "Epoch 94/100\n",
      "33600/33600 [==============================] - 20s 598us/step - loss: 1.3574e-05 - acc: 1.0000 - val_loss: 0.0449 - val_acc: 0.9942\n",
      "\n",
      "Epoch 00094: saving model to mnist-vgg19.h5\n",
      "Epoch 95/100\n",
      "33600/33600 [==============================] - 20s 596us/step - loss: 1.3198e-05 - acc: 1.0000 - val_loss: 0.0451 - val_acc: 0.9942\n",
      "\n",
      "Epoch 00095: saving model to mnist-vgg19.h5\n",
      "Epoch 96/100\n",
      "33600/33600 [==============================] - 20s 600us/step - loss: 1.2707e-05 - acc: 1.0000 - val_loss: 0.0453 - val_acc: 0.9942\n",
      "\n",
      "Epoch 00096: saving model to mnist-vgg19.h5\n",
      "Epoch 97/100\n",
      "33600/33600 [==============================] - 20s 597us/step - loss: 1.3009e-05 - acc: 1.0000 - val_loss: 0.0452 - val_acc: 0.9942\n",
      "\n",
      "Epoch 00097: saving model to mnist-vgg19.h5\n",
      "Epoch 98/100\n",
      "33600/33600 [==============================] - 20s 597us/step - loss: 1.2535e-05 - acc: 1.0000 - val_loss: 0.0453 - val_acc: 0.9942\n",
      "\n",
      "Epoch 00098: saving model to mnist-vgg19.h5\n",
      "Epoch 99/100\n",
      "33600/33600 [==============================] - 20s 594us/step - loss: 1.2170e-05 - acc: 1.0000 - val_loss: 0.0453 - val_acc: 0.9942\n",
      "\n",
      "Epoch 00099: saving model to mnist-vgg19.h5\n",
      "Epoch 100/100\n",
      "33600/33600 [==============================] - 20s 594us/step - loss: 1.2096e-05 - acc: 1.0000 - val_loss: 0.0455 - val_acc: 0.9942\n",
      "\n",
      "Epoch 00100: saving model to mnist-vgg19.h5\n"
     ]
    }
   ],
   "source": [
    "history = model.fit(x_train, y_train, \n",
    "                    epochs=100, \n",
    "                    batch_size=128, \n",
    "                    validation_data=(x_test, y_test),\n",
    "                    callbacks=cb)"
   ]
  },
  {
   "cell_type": "code",
   "execution_count": 0,
   "metadata": {
    "colab": {},
    "colab_type": "code",
    "id": "f0eAckwn_OyH"
   },
   "outputs": [],
   "source": [
    "preds = model.predict(test_x_final, batch_size=128)"
   ]
  },
  {
   "cell_type": "code",
   "execution_count": 0,
   "metadata": {
    "colab": {
     "base_uri": "https://localhost:8080/",
     "height": 34
    },
    "colab_type": "code",
    "id": "K86Inenz_OyJ",
    "outputId": "dab89007-900e-4e53-ff26-161b6207ecfa"
   },
   "outputs": [
    {
     "data": {
      "text/plain": [
       "(28000, 10)"
      ]
     },
     "execution_count": 12,
     "metadata": {
      "tags": []
     },
     "output_type": "execute_result"
    }
   ],
   "source": [
    "preds.shape"
   ]
  },
  {
   "cell_type": "code",
   "execution_count": 0,
   "metadata": {
    "colab": {
     "base_uri": "https://localhost:8080/",
     "height": 34
    },
    "colab_type": "code",
    "id": "Z3VkEukU_OyL",
    "outputId": "5c5747e6-fc59-4400-cb6d-097b37e5856d"
   },
   "outputs": [
    {
     "data": {
      "text/plain": [
       "(28000,)"
      ]
     },
     "execution_count": 13,
     "metadata": {
      "tags": []
     },
     "output_type": "execute_result"
    }
   ],
   "source": [
    "results = np.argmax(preds, axis=-1)\n",
    "results.shape"
   ]
  },
  {
   "cell_type": "code",
   "execution_count": 0,
   "metadata": {
    "colab": {
     "base_uri": "https://localhost:8080/",
     "height": 34
    },
    "colab_type": "code",
    "id": "PX8An4Ws_OyN",
    "outputId": "afaf94d5-7ee0-4c92-8262-fb2b28f91f96"
   },
   "outputs": [
    {
     "data": {
      "text/plain": [
       "['.config', 'drive', 'mnist-vgg19.h5', 'submission.csv', 'sample_data']"
      ]
     },
     "execution_count": 14,
     "metadata": {
      "tags": []
     },
     "output_type": "execute_result"
    }
   ],
   "source": [
    "# submission\n",
    "sub = pd.read_csv(os.path.join(PATH, 'sample_submission.csv'))\n",
    "sub.head()\n",
    "df = pd.DataFrame({'ImageId': sub['ImageId'], 'Label': results})\n",
    "df.to_csv('submission.csv', index=False)\n",
    "os.listdir('./')"
   ]
  },
  {
   "cell_type": "markdown",
   "metadata": {
    "colab_type": "text",
    "id": "YHf6KJ3sNNDD"
   },
   "source": [
    "## **Epoch 50**"
   ]
  },
  {
   "cell_type": "code",
   "execution_count": 0,
   "metadata": {
    "colab": {
     "base_uri": "https://localhost:8080/",
     "height": 1000
    },
    "colab_type": "code",
    "id": "oBZ-mAk3NNDF",
    "outputId": "cc6a1ecf-452c-4713-89c9-b6c027a8c34f",
    "scrolled": false
   },
   "outputs": [
    {
     "name": "stdout",
     "output_type": "stream",
     "text": [
      "WARNING:tensorflow:From /usr/local/lib/python3.6/dist-packages/tensorflow_core/python/ops/math_grad.py:1424: where (from tensorflow.python.ops.array_ops) is deprecated and will be removed in a future version.\n",
      "Instructions for updating:\n",
      "Use tf.where in 2.0, which has the same broadcast rule as np.where\n",
      "WARNING:tensorflow:From /usr/local/lib/python3.6/dist-packages/keras/backend/tensorflow_backend.py:1033: The name tf.assign_add is deprecated. Please use tf.compat.v1.assign_add instead.\n",
      "\n",
      "WARNING:tensorflow:From /usr/local/lib/python3.6/dist-packages/keras/backend/tensorflow_backend.py:1020: The name tf.assign is deprecated. Please use tf.compat.v1.assign instead.\n",
      "\n",
      "Train on 33600 samples, validate on 8400 samples\n",
      "Epoch 1/50\n",
      "33600/33600 [==============================] - 31s 913us/step - loss: 0.3783 - acc: 0.8827 - val_loss: 0.0890 - val_acc: 0.9726\n",
      "\n",
      "Epoch 00001: saving model to mnist-vgg19.h5\n",
      "Epoch 2/50\n",
      "33600/33600 [==============================] - 21s 620us/step - loss: 0.0425 - acc: 0.9868 - val_loss: 0.0613 - val_acc: 0.9811\n",
      "\n",
      "Epoch 00002: saving model to mnist-vgg19.h5\n",
      "Epoch 3/50\n",
      "33600/33600 [==============================] - 21s 625us/step - loss: 0.0304 - acc: 0.9902 - val_loss: 0.0410 - val_acc: 0.9887\n",
      "\n",
      "Epoch 00003: saving model to mnist-vgg19.h5\n",
      "Epoch 4/50\n",
      "33600/33600 [==============================] - 21s 619us/step - loss: 0.0238 - acc: 0.9925 - val_loss: 0.0360 - val_acc: 0.9896\n",
      "\n",
      "Epoch 00004: saving model to mnist-vgg19.h5\n",
      "Epoch 5/50\n",
      "33600/33600 [==============================] - 21s 614us/step - loss: 0.0178 - acc: 0.9945 - val_loss: 0.0235 - val_acc: 0.9932\n",
      "\n",
      "Epoch 00005: saving model to mnist-vgg19.h5\n",
      "Epoch 6/50\n",
      "33600/33600 [==============================] - 21s 616us/step - loss: 0.0140 - acc: 0.9958 - val_loss: 0.0377 - val_acc: 0.9886\n",
      "\n",
      "Epoch 00006: saving model to mnist-vgg19.h5\n",
      "Epoch 7/50\n",
      "33600/33600 [==============================] - 21s 621us/step - loss: 0.0130 - acc: 0.9956 - val_loss: 0.0241 - val_acc: 0.9924\n",
      "\n",
      "Epoch 00007: saving model to mnist-vgg19.h5\n",
      "Epoch 8/50\n",
      "33600/33600 [==============================] - 21s 618us/step - loss: 0.0098 - acc: 0.9973 - val_loss: 0.0308 - val_acc: 0.9910\n",
      "\n",
      "Epoch 00008: saving model to mnist-vgg19.h5\n",
      "Epoch 9/50\n",
      "33600/33600 [==============================] - 21s 617us/step - loss: 0.0078 - acc: 0.9977 - val_loss: 0.0229 - val_acc: 0.9933\n",
      "\n",
      "Epoch 00009: saving model to mnist-vgg19.h5\n",
      "Epoch 10/50\n",
      "33600/33600 [==============================] - 21s 613us/step - loss: 0.0090 - acc: 0.9973 - val_loss: 0.0227 - val_acc: 0.9938\n",
      "\n",
      "Epoch 00010: saving model to mnist-vgg19.h5\n",
      "Epoch 11/50\n",
      "33600/33600 [==============================] - 21s 613us/step - loss: 0.0067 - acc: 0.9982 - val_loss: 0.0242 - val_acc: 0.9937\n",
      "\n",
      "Epoch 00011: saving model to mnist-vgg19.h5\n",
      "Epoch 12/50\n",
      "33600/33600 [==============================] - 21s 613us/step - loss: 0.0045 - acc: 0.9988 - val_loss: 0.1166 - val_acc: 0.9713\n",
      "\n",
      "Epoch 00012: saving model to mnist-vgg19.h5\n",
      "Epoch 13/50\n",
      "33600/33600 [==============================] - 20s 609us/step - loss: 0.0053 - acc: 0.9986 - val_loss: 0.0241 - val_acc: 0.9937\n",
      "\n",
      "Epoch 00013: saving model to mnist-vgg19.h5\n",
      "Epoch 14/50\n",
      "33600/33600 [==============================] - 20s 607us/step - loss: 0.0031 - acc: 0.9992 - val_loss: 0.0261 - val_acc: 0.9938\n",
      "\n",
      "Epoch 00014: saving model to mnist-vgg19.h5\n",
      "Epoch 15/50\n",
      "33600/33600 [==============================] - 20s 606us/step - loss: 0.0028 - acc: 0.9993 - val_loss: 0.0357 - val_acc: 0.9915\n",
      "\n",
      "Epoch 00015: saving model to mnist-vgg19.h5\n",
      "Epoch 16/50\n",
      "33600/33600 [==============================] - 20s 608us/step - loss: 0.0061 - acc: 0.9985 - val_loss: 0.0228 - val_acc: 0.9938\n",
      "\n",
      "Epoch 00016: saving model to mnist-vgg19.h5\n",
      "Epoch 17/50\n",
      "33600/33600 [==============================] - 20s 610us/step - loss: 0.0026 - acc: 0.9993 - val_loss: 0.0255 - val_acc: 0.9940\n",
      "\n",
      "Epoch 00017: saving model to mnist-vgg19.h5\n",
      "Epoch 18/50\n",
      "33600/33600 [==============================] - 20s 603us/step - loss: 0.0020 - acc: 0.9995 - val_loss: 0.0259 - val_acc: 0.9938\n",
      "\n",
      "Epoch 00018: saving model to mnist-vgg19.h5\n",
      "Epoch 19/50\n",
      "33600/33600 [==============================] - 20s 601us/step - loss: 0.0014 - acc: 0.9996 - val_loss: 0.0272 - val_acc: 0.9933\n",
      "\n",
      "Epoch 00019: saving model to mnist-vgg19.h5\n",
      "Epoch 20/50\n",
      "33600/33600 [==============================] - 20s 598us/step - loss: 0.0015 - acc: 0.9996 - val_loss: 0.0285 - val_acc: 0.9942\n",
      "\n",
      "Epoch 00020: saving model to mnist-vgg19.h5\n",
      "Epoch 21/50\n",
      "33600/33600 [==============================] - 20s 598us/step - loss: 0.0013 - acc: 0.9996 - val_loss: 0.0289 - val_acc: 0.9933\n",
      "\n",
      "Epoch 00021: saving model to mnist-vgg19.h5\n",
      "Epoch 22/50\n",
      "33600/33600 [==============================] - 20s 599us/step - loss: 0.0011 - acc: 0.9998 - val_loss: 0.0336 - val_acc: 0.9932\n",
      "\n",
      "Epoch 00022: saving model to mnist-vgg19.h5\n",
      "Epoch 23/50\n",
      "33600/33600 [==============================] - 20s 603us/step - loss: 0.0016 - acc: 0.9995 - val_loss: 0.0280 - val_acc: 0.9939\n",
      "\n",
      "Epoch 00023: saving model to mnist-vgg19.h5\n",
      "Epoch 24/50\n",
      "33600/33600 [==============================] - 20s 600us/step - loss: 5.5686e-04 - acc: 0.9999 - val_loss: 0.0287 - val_acc: 0.9944\n",
      "\n",
      "Epoch 00024: saving model to mnist-vgg19.h5\n",
      "Epoch 25/50\n",
      "33600/33600 [==============================] - 20s 596us/step - loss: 4.5062e-04 - acc: 0.9999 - val_loss: 0.0305 - val_acc: 0.9940\n",
      "\n",
      "Epoch 00025: saving model to mnist-vgg19.h5\n",
      "Epoch 26/50\n",
      "33600/33600 [==============================] - 20s 596us/step - loss: 3.0259e-04 - acc: 0.9999 - val_loss: 0.0314 - val_acc: 0.9942\n",
      "\n",
      "Epoch 00026: saving model to mnist-vgg19.h5\n",
      "Epoch 27/50\n",
      "33600/33600 [==============================] - 20s 596us/step - loss: 2.6957e-04 - acc: 1.0000 - val_loss: 0.0318 - val_acc: 0.9940\n",
      "\n",
      "Epoch 00027: saving model to mnist-vgg19.h5\n",
      "Epoch 28/50\n",
      "33600/33600 [==============================] - 20s 593us/step - loss: 1.9234e-04 - acc: 1.0000 - val_loss: 0.0325 - val_acc: 0.9943\n",
      "\n",
      "Epoch 00028: saving model to mnist-vgg19.h5\n",
      "Epoch 29/50\n",
      "33600/33600 [==============================] - 20s 594us/step - loss: 1.6856e-04 - acc: 1.0000 - val_loss: 0.0330 - val_acc: 0.9943\n",
      "\n",
      "Epoch 00029: saving model to mnist-vgg19.h5\n",
      "Epoch 30/50\n",
      "33600/33600 [==============================] - 20s 596us/step - loss: 1.5292e-04 - acc: 1.0000 - val_loss: 0.0333 - val_acc: 0.9943\n",
      "\n",
      "Epoch 00030: saving model to mnist-vgg19.h5\n",
      "Epoch 31/50\n",
      "33600/33600 [==============================] - 20s 593us/step - loss: 1.4594e-04 - acc: 1.0000 - val_loss: 0.0335 - val_acc: 0.9943\n",
      "\n",
      "Epoch 00031: saving model to mnist-vgg19.h5\n",
      "Epoch 32/50\n",
      "33600/33600 [==============================] - 20s 592us/step - loss: 1.1889e-04 - acc: 1.0000 - val_loss: 0.0342 - val_acc: 0.9943\n",
      "\n",
      "Epoch 00032: saving model to mnist-vgg19.h5\n",
      "Epoch 33/50\n",
      "33600/33600 [==============================] - 20s 593us/step - loss: 1.1171e-04 - acc: 1.0000 - val_loss: 0.0340 - val_acc: 0.9940\n",
      "\n",
      "Epoch 00033: saving model to mnist-vgg19.h5\n",
      "Epoch 34/50\n",
      "33600/33600 [==============================] - 20s 590us/step - loss: 9.1442e-05 - acc: 1.0000 - val_loss: 0.0342 - val_acc: 0.9945\n",
      "\n",
      "Epoch 00034: saving model to mnist-vgg19.h5\n",
      "Epoch 35/50\n",
      "33600/33600 [==============================] - 20s 596us/step - loss: 8.0331e-05 - acc: 1.0000 - val_loss: 0.0351 - val_acc: 0.9944\n",
      "\n",
      "Epoch 00035: saving model to mnist-vgg19.h5\n",
      "Epoch 36/50\n",
      "33600/33600 [==============================] - 20s 594us/step - loss: 1.2852e-04 - acc: 1.0000 - val_loss: 0.0347 - val_acc: 0.9944\n",
      "\n",
      "Epoch 00036: saving model to mnist-vgg19.h5\n",
      "Epoch 37/50\n",
      "33600/33600 [==============================] - 20s 595us/step - loss: 1.0877e-04 - acc: 1.0000 - val_loss: 0.0346 - val_acc: 0.9944\n",
      "\n",
      "Epoch 00037: saving model to mnist-vgg19.h5\n",
      "Epoch 38/50\n",
      "33600/33600 [==============================] - 20s 596us/step - loss: 7.4213e-05 - acc: 1.0000 - val_loss: 0.0350 - val_acc: 0.9945\n",
      "\n",
      "Epoch 00038: saving model to mnist-vgg19.h5\n",
      "Epoch 39/50\n",
      "33600/33600 [==============================] - 20s 600us/step - loss: 5.8625e-05 - acc: 1.0000 - val_loss: 0.0356 - val_acc: 0.9945\n",
      "\n",
      "Epoch 00039: saving model to mnist-vgg19.h5\n",
      "Epoch 40/50\n",
      "33600/33600 [==============================] - 20s 597us/step - loss: 4.8900e-05 - acc: 1.0000 - val_loss: 0.0361 - val_acc: 0.9944\n",
      "\n",
      "Epoch 00040: saving model to mnist-vgg19.h5\n",
      "Epoch 41/50\n",
      "33600/33600 [==============================] - 20s 597us/step - loss: 4.7593e-05 - acc: 1.0000 - val_loss: 0.0360 - val_acc: 0.9945\n",
      "\n",
      "Epoch 00041: saving model to mnist-vgg19.h5\n",
      "Epoch 42/50\n",
      "33600/33600 [==============================] - 20s 595us/step - loss: 4.0769e-05 - acc: 1.0000 - val_loss: 0.0364 - val_acc: 0.9945\n",
      "\n",
      "Epoch 00042: saving model to mnist-vgg19.h5\n",
      "Epoch 43/50\n",
      "33600/33600 [==============================] - 20s 594us/step - loss: 4.6469e-05 - acc: 1.0000 - val_loss: 0.0366 - val_acc: 0.9944\n",
      "\n",
      "Epoch 00043: saving model to mnist-vgg19.h5\n",
      "Epoch 44/50\n",
      "33600/33600 [==============================] - 20s 592us/step - loss: 3.6323e-05 - acc: 1.0000 - val_loss: 0.0368 - val_acc: 0.9945\n",
      "\n",
      "Epoch 00044: saving model to mnist-vgg19.h5\n",
      "Epoch 45/50\n",
      "33600/33600 [==============================] - 20s 596us/step - loss: 3.8293e-05 - acc: 1.0000 - val_loss: 0.0372 - val_acc: 0.9944\n",
      "\n",
      "Epoch 00045: saving model to mnist-vgg19.h5\n",
      "Epoch 46/50\n",
      "33600/33600 [==============================] - 20s 594us/step - loss: 3.4377e-05 - acc: 1.0000 - val_loss: 0.0371 - val_acc: 0.9945\n",
      "\n",
      "Epoch 00046: saving model to mnist-vgg19.h5\n",
      "Epoch 47/50\n",
      "33600/33600 [==============================] - 20s 594us/step - loss: 3.3095e-05 - acc: 1.0000 - val_loss: 0.0374 - val_acc: 0.9945\n",
      "\n",
      "Epoch 00047: saving model to mnist-vgg19.h5\n",
      "Epoch 48/50\n",
      "33600/33600 [==============================] - 20s 593us/step - loss: 2.9963e-05 - acc: 1.0000 - val_loss: 0.0376 - val_acc: 0.9945\n",
      "\n",
      "Epoch 00048: saving model to mnist-vgg19.h5\n",
      "Epoch 49/50\n",
      "33600/33600 [==============================] - 20s 593us/step - loss: 3.0354e-05 - acc: 1.0000 - val_loss: 0.0376 - val_acc: 0.9945\n",
      "\n",
      "Epoch 00049: saving model to mnist-vgg19.h5\n",
      "Epoch 50/50\n",
      "33600/33600 [==============================] - 20s 595us/step - loss: 2.7432e-05 - acc: 1.0000 - val_loss: 0.0379 - val_acc: 0.9945\n",
      "\n",
      "Epoch 00050: saving model to mnist-vgg19.h5\n"
     ]
    }
   ],
   "source": [
    "history = model.fit(x_train, y_train, \n",
    "                    epochs=50, \n",
    "                    batch_size=128, \n",
    "                    validation_data=(x_test, y_test),\n",
    "                    callbacks=cb)"
   ]
  },
  {
   "cell_type": "code",
   "execution_count": 0,
   "metadata": {
    "colab": {},
    "colab_type": "code",
    "id": "5hvCrq3uNNDI"
   },
   "outputs": [],
   "source": [
    "preds = model.predict(test_x_final, batch_size=128)"
   ]
  },
  {
   "cell_type": "code",
   "execution_count": 0,
   "metadata": {
    "colab": {
     "base_uri": "https://localhost:8080/",
     "height": 34
    },
    "colab_type": "code",
    "id": "yptTujGKNNDL",
    "outputId": "fb3c1265-b6b0-433d-af72-b56a406742fd"
   },
   "outputs": [
    {
     "data": {
      "text/plain": [
       "(28000, 10)"
      ]
     },
     "execution_count": 12,
     "metadata": {
      "tags": []
     },
     "output_type": "execute_result"
    }
   ],
   "source": [
    "preds.shape"
   ]
  },
  {
   "cell_type": "code",
   "execution_count": 0,
   "metadata": {
    "colab": {
     "base_uri": "https://localhost:8080/",
     "height": 34
    },
    "colab_type": "code",
    "id": "PJ2C3XiGNNDN",
    "outputId": "eb0f5931-1080-4138-f6b6-990deabe5d29"
   },
   "outputs": [
    {
     "data": {
      "text/plain": [
       "(28000,)"
      ]
     },
     "execution_count": 13,
     "metadata": {
      "tags": []
     },
     "output_type": "execute_result"
    }
   ],
   "source": [
    "results = np.argmax(preds, axis=-1)\n",
    "results.shape"
   ]
  },
  {
   "cell_type": "code",
   "execution_count": 0,
   "metadata": {
    "colab": {
     "base_uri": "https://localhost:8080/",
     "height": 34
    },
    "colab_type": "code",
    "id": "nCSaMZwVNNDQ",
    "outputId": "a7de90f0-a70c-411a-87a8-83c7a940727e"
   },
   "outputs": [
    {
     "data": {
      "text/plain": [
       "['.config', 'drive', 'mnist-vgg19.h5', 'submission.csv', 'sample_data']"
      ]
     },
     "execution_count": 14,
     "metadata": {
      "tags": []
     },
     "output_type": "execute_result"
    }
   ],
   "source": [
    "# submission\n",
    "sub = pd.read_csv(os.path.join(PATH, 'sample_submission.csv'))\n",
    "sub.head()\n",
    "df = pd.DataFrame({'ImageId': sub['ImageId'], 'Label': results})\n",
    "df.to_csv('submission.csv', index=False)\n",
    "os.listdir('./')"
   ]
  }
 ],
 "metadata": {
  "accelerator": "GPU",
  "colab": {
   "collapsed_sections": [],
   "name": "MNIST CNN with VGG19.ipynb",
   "provenance": [],
   "toc_visible": true
  },
  "kernelspec": {
   "display_name": "Python 3",
   "language": "python",
   "name": "python3"
  },
  "language_info": {
   "codemirror_mode": {
    "name": "ipython",
    "version": 3
   },
   "file_extension": ".py",
   "mimetype": "text/x-python",
   "name": "python",
   "nbconvert_exporter": "python",
   "pygments_lexer": "ipython3",
   "version": "3.7.4"
  }
 },
 "nbformat": 4,
 "nbformat_minor": 1
}
